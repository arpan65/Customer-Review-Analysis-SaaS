{
  "nbformat": 4,
  "nbformat_minor": 0,
  "metadata": {
    "colab": {
      "name": "Yelp_Review_Insights.ipynb",
      "provenance": []
    },
    "kernelspec": {
      "display_name": "Python 3",
      "name": "python3"
    },
    "language_info": {
      "name": "python"
    },
    "widgets": {
      "application/vnd.jupyter.widget-state+json": {
        "d1b83caf81ab4d348282c95b0c7d369e": {
          "model_module": "@jupyter-widgets/controls",
          "model_name": "HBoxModel",
          "state": {
            "_view_name": "HBoxView",
            "_dom_classes": [],
            "_model_name": "HBoxModel",
            "_view_module": "@jupyter-widgets/controls",
            "_model_module_version": "1.5.0",
            "_view_count": null,
            "_view_module_version": "1.5.0",
            "box_style": "",
            "layout": "IPY_MODEL_fe7c7ab20bea4e5aad7f212cc7a3be07",
            "_model_module": "@jupyter-widgets/controls",
            "children": [
              "IPY_MODEL_80f1e986ee564a69af9ca3abdbc57730",
              "IPY_MODEL_c5053c0f6d9243d5bbf89b7310ba2fab"
            ]
          }
        },
        "fe7c7ab20bea4e5aad7f212cc7a3be07": {
          "model_module": "@jupyter-widgets/base",
          "model_name": "LayoutModel",
          "state": {
            "_view_name": "LayoutView",
            "grid_template_rows": null,
            "right": null,
            "justify_content": null,
            "_view_module": "@jupyter-widgets/base",
            "overflow": null,
            "_model_module_version": "1.2.0",
            "_view_count": null,
            "flex_flow": null,
            "width": null,
            "min_width": null,
            "border": null,
            "align_items": null,
            "bottom": null,
            "_model_module": "@jupyter-widgets/base",
            "top": null,
            "grid_column": null,
            "overflow_y": null,
            "overflow_x": null,
            "grid_auto_flow": null,
            "grid_area": null,
            "grid_template_columns": null,
            "flex": null,
            "_model_name": "LayoutModel",
            "justify_items": null,
            "grid_row": null,
            "max_height": null,
            "align_content": null,
            "visibility": null,
            "align_self": null,
            "height": null,
            "min_height": null,
            "padding": null,
            "grid_auto_rows": null,
            "grid_gap": null,
            "max_width": null,
            "order": null,
            "_view_module_version": "1.2.0",
            "grid_template_areas": null,
            "object_position": null,
            "object_fit": null,
            "grid_auto_columns": null,
            "margin": null,
            "display": null,
            "left": null
          }
        },
        "80f1e986ee564a69af9ca3abdbc57730": {
          "model_module": "@jupyter-widgets/controls",
          "model_name": "FloatProgressModel",
          "state": {
            "_view_name": "ProgressView",
            "style": "IPY_MODEL_09a48ffe15cc4dc78b26defe37fd2238",
            "_dom_classes": [],
            "description": "100%",
            "_model_name": "FloatProgressModel",
            "bar_style": "success",
            "max": 34,
            "_view_module": "@jupyter-widgets/controls",
            "_model_module_version": "1.5.0",
            "value": 34,
            "_view_count": null,
            "_view_module_version": "1.5.0",
            "orientation": "horizontal",
            "min": 0,
            "description_tooltip": null,
            "_model_module": "@jupyter-widgets/controls",
            "layout": "IPY_MODEL_a75491f42df34947a61ac111cc938ae3"
          }
        },
        "c5053c0f6d9243d5bbf89b7310ba2fab": {
          "model_module": "@jupyter-widgets/controls",
          "model_name": "HTMLModel",
          "state": {
            "_view_name": "HTMLView",
            "style": "IPY_MODEL_551c86c265bd435faf0a533a2f0bed7a",
            "_dom_classes": [],
            "description": "",
            "_model_name": "HTMLModel",
            "placeholder": "​",
            "_view_module": "@jupyter-widgets/controls",
            "_model_module_version": "1.5.0",
            "value": " 34/34 [34:33&lt;00:00, 60.97s/it]",
            "_view_count": null,
            "_view_module_version": "1.5.0",
            "description_tooltip": null,
            "_model_module": "@jupyter-widgets/controls",
            "layout": "IPY_MODEL_7b2ef238b402438dbb12a86eb0bc3c3e"
          }
        },
        "09a48ffe15cc4dc78b26defe37fd2238": {
          "model_module": "@jupyter-widgets/controls",
          "model_name": "ProgressStyleModel",
          "state": {
            "_view_name": "StyleView",
            "_model_name": "ProgressStyleModel",
            "description_width": "initial",
            "_view_module": "@jupyter-widgets/base",
            "_model_module_version": "1.5.0",
            "_view_count": null,
            "_view_module_version": "1.2.0",
            "bar_color": null,
            "_model_module": "@jupyter-widgets/controls"
          }
        },
        "a75491f42df34947a61ac111cc938ae3": {
          "model_module": "@jupyter-widgets/base",
          "model_name": "LayoutModel",
          "state": {
            "_view_name": "LayoutView",
            "grid_template_rows": null,
            "right": null,
            "justify_content": null,
            "_view_module": "@jupyter-widgets/base",
            "overflow": null,
            "_model_module_version": "1.2.0",
            "_view_count": null,
            "flex_flow": null,
            "width": null,
            "min_width": null,
            "border": null,
            "align_items": null,
            "bottom": null,
            "_model_module": "@jupyter-widgets/base",
            "top": null,
            "grid_column": null,
            "overflow_y": null,
            "overflow_x": null,
            "grid_auto_flow": null,
            "grid_area": null,
            "grid_template_columns": null,
            "flex": null,
            "_model_name": "LayoutModel",
            "justify_items": null,
            "grid_row": null,
            "max_height": null,
            "align_content": null,
            "visibility": null,
            "align_self": null,
            "height": null,
            "min_height": null,
            "padding": null,
            "grid_auto_rows": null,
            "grid_gap": null,
            "max_width": null,
            "order": null,
            "_view_module_version": "1.2.0",
            "grid_template_areas": null,
            "object_position": null,
            "object_fit": null,
            "grid_auto_columns": null,
            "margin": null,
            "display": null,
            "left": null
          }
        },
        "551c86c265bd435faf0a533a2f0bed7a": {
          "model_module": "@jupyter-widgets/controls",
          "model_name": "DescriptionStyleModel",
          "state": {
            "_view_name": "StyleView",
            "_model_name": "DescriptionStyleModel",
            "description_width": "",
            "_view_module": "@jupyter-widgets/base",
            "_model_module_version": "1.5.0",
            "_view_count": null,
            "_view_module_version": "1.2.0",
            "_model_module": "@jupyter-widgets/controls"
          }
        },
        "7b2ef238b402438dbb12a86eb0bc3c3e": {
          "model_module": "@jupyter-widgets/base",
          "model_name": "LayoutModel",
          "state": {
            "_view_name": "LayoutView",
            "grid_template_rows": null,
            "right": null,
            "justify_content": null,
            "_view_module": "@jupyter-widgets/base",
            "overflow": null,
            "_model_module_version": "1.2.0",
            "_view_count": null,
            "flex_flow": null,
            "width": null,
            "min_width": null,
            "border": null,
            "align_items": null,
            "bottom": null,
            "_model_module": "@jupyter-widgets/base",
            "top": null,
            "grid_column": null,
            "overflow_y": null,
            "overflow_x": null,
            "grid_auto_flow": null,
            "grid_area": null,
            "grid_template_columns": null,
            "flex": null,
            "_model_name": "LayoutModel",
            "justify_items": null,
            "grid_row": null,
            "max_height": null,
            "align_content": null,
            "visibility": null,
            "align_self": null,
            "height": null,
            "min_height": null,
            "padding": null,
            "grid_auto_rows": null,
            "grid_gap": null,
            "max_width": null,
            "order": null,
            "_view_module_version": "1.2.0",
            "grid_template_areas": null,
            "object_position": null,
            "object_fit": null,
            "grid_auto_columns": null,
            "margin": null,
            "display": null,
            "left": null
          }
        },
        "e84bec10e4d648e1b200f59316fe4057": {
          "model_module": "@jupyter-widgets/controls",
          "model_name": "HBoxModel",
          "state": {
            "_view_name": "HBoxView",
            "_dom_classes": [],
            "_model_name": "HBoxModel",
            "_view_module": "@jupyter-widgets/controls",
            "_model_module_version": "1.5.0",
            "_view_count": null,
            "_view_module_version": "1.5.0",
            "box_style": "",
            "layout": "IPY_MODEL_6f7f8af356b54e809253347c96b4e113",
            "_model_module": "@jupyter-widgets/controls",
            "children": [
              "IPY_MODEL_72fd0d3f4a164461a652d084d655cd4c",
              "IPY_MODEL_c1289e6993f3453c8b0811ac60cd986c"
            ]
          }
        },
        "6f7f8af356b54e809253347c96b4e113": {
          "model_module": "@jupyter-widgets/base",
          "model_name": "LayoutModel",
          "state": {
            "_view_name": "LayoutView",
            "grid_template_rows": null,
            "right": null,
            "justify_content": null,
            "_view_module": "@jupyter-widgets/base",
            "overflow": null,
            "_model_module_version": "1.2.0",
            "_view_count": null,
            "flex_flow": null,
            "width": null,
            "min_width": null,
            "border": null,
            "align_items": null,
            "bottom": null,
            "_model_module": "@jupyter-widgets/base",
            "top": null,
            "grid_column": null,
            "overflow_y": null,
            "overflow_x": null,
            "grid_auto_flow": null,
            "grid_area": null,
            "grid_template_columns": null,
            "flex": null,
            "_model_name": "LayoutModel",
            "justify_items": null,
            "grid_row": null,
            "max_height": null,
            "align_content": null,
            "visibility": null,
            "align_self": null,
            "height": null,
            "min_height": null,
            "padding": null,
            "grid_auto_rows": null,
            "grid_gap": null,
            "max_width": null,
            "order": null,
            "_view_module_version": "1.2.0",
            "grid_template_areas": null,
            "object_position": null,
            "object_fit": null,
            "grid_auto_columns": null,
            "margin": null,
            "display": null,
            "left": null
          }
        },
        "72fd0d3f4a164461a652d084d655cd4c": {
          "model_module": "@jupyter-widgets/controls",
          "model_name": "FloatProgressModel",
          "state": {
            "_view_name": "ProgressView",
            "style": "IPY_MODEL_86fc18583d28437ab885442b98db8d98",
            "_dom_classes": [],
            "description": "100%",
            "_model_name": "FloatProgressModel",
            "bar_style": "success",
            "max": 444,
            "_view_module": "@jupyter-widgets/controls",
            "_model_module_version": "1.5.0",
            "value": 444,
            "_view_count": null,
            "_view_module_version": "1.5.0",
            "orientation": "horizontal",
            "min": 0,
            "description_tooltip": null,
            "_model_module": "@jupyter-widgets/controls",
            "layout": "IPY_MODEL_e4a2001af8994a6d99dbdddd68722d88"
          }
        },
        "c1289e6993f3453c8b0811ac60cd986c": {
          "model_module": "@jupyter-widgets/controls",
          "model_name": "HTMLModel",
          "state": {
            "_view_name": "HTMLView",
            "style": "IPY_MODEL_178b7af6ff5b4616a38ebdc108779714",
            "_dom_classes": [],
            "description": "",
            "_model_name": "HTMLModel",
            "placeholder": "​",
            "_view_module": "@jupyter-widgets/controls",
            "_model_module_version": "1.5.0",
            "value": " 444/444 [08:03&lt;00:00,  1.09s/it]",
            "_view_count": null,
            "_view_module_version": "1.5.0",
            "description_tooltip": null,
            "_model_module": "@jupyter-widgets/controls",
            "layout": "IPY_MODEL_a701b4930c2c43479b1d0c297fd0aba6"
          }
        },
        "86fc18583d28437ab885442b98db8d98": {
          "model_module": "@jupyter-widgets/controls",
          "model_name": "ProgressStyleModel",
          "state": {
            "_view_name": "StyleView",
            "_model_name": "ProgressStyleModel",
            "description_width": "initial",
            "_view_module": "@jupyter-widgets/base",
            "_model_module_version": "1.5.0",
            "_view_count": null,
            "_view_module_version": "1.2.0",
            "bar_color": null,
            "_model_module": "@jupyter-widgets/controls"
          }
        },
        "e4a2001af8994a6d99dbdddd68722d88": {
          "model_module": "@jupyter-widgets/base",
          "model_name": "LayoutModel",
          "state": {
            "_view_name": "LayoutView",
            "grid_template_rows": null,
            "right": null,
            "justify_content": null,
            "_view_module": "@jupyter-widgets/base",
            "overflow": null,
            "_model_module_version": "1.2.0",
            "_view_count": null,
            "flex_flow": null,
            "width": null,
            "min_width": null,
            "border": null,
            "align_items": null,
            "bottom": null,
            "_model_module": "@jupyter-widgets/base",
            "top": null,
            "grid_column": null,
            "overflow_y": null,
            "overflow_x": null,
            "grid_auto_flow": null,
            "grid_area": null,
            "grid_template_columns": null,
            "flex": null,
            "_model_name": "LayoutModel",
            "justify_items": null,
            "grid_row": null,
            "max_height": null,
            "align_content": null,
            "visibility": null,
            "align_self": null,
            "height": null,
            "min_height": null,
            "padding": null,
            "grid_auto_rows": null,
            "grid_gap": null,
            "max_width": null,
            "order": null,
            "_view_module_version": "1.2.0",
            "grid_template_areas": null,
            "object_position": null,
            "object_fit": null,
            "grid_auto_columns": null,
            "margin": null,
            "display": null,
            "left": null
          }
        },
        "178b7af6ff5b4616a38ebdc108779714": {
          "model_module": "@jupyter-widgets/controls",
          "model_name": "DescriptionStyleModel",
          "state": {
            "_view_name": "StyleView",
            "_model_name": "DescriptionStyleModel",
            "description_width": "",
            "_view_module": "@jupyter-widgets/base",
            "_model_module_version": "1.5.0",
            "_view_count": null,
            "_view_module_version": "1.2.0",
            "_model_module": "@jupyter-widgets/controls"
          }
        },
        "a701b4930c2c43479b1d0c297fd0aba6": {
          "model_module": "@jupyter-widgets/base",
          "model_name": "LayoutModel",
          "state": {
            "_view_name": "LayoutView",
            "grid_template_rows": null,
            "right": null,
            "justify_content": null,
            "_view_module": "@jupyter-widgets/base",
            "overflow": null,
            "_model_module_version": "1.2.0",
            "_view_count": null,
            "flex_flow": null,
            "width": null,
            "min_width": null,
            "border": null,
            "align_items": null,
            "bottom": null,
            "_model_module": "@jupyter-widgets/base",
            "top": null,
            "grid_column": null,
            "overflow_y": null,
            "overflow_x": null,
            "grid_auto_flow": null,
            "grid_area": null,
            "grid_template_columns": null,
            "flex": null,
            "_model_name": "LayoutModel",
            "justify_items": null,
            "grid_row": null,
            "max_height": null,
            "align_content": null,
            "visibility": null,
            "align_self": null,
            "height": null,
            "min_height": null,
            "padding": null,
            "grid_auto_rows": null,
            "grid_gap": null,
            "max_width": null,
            "order": null,
            "_view_module_version": "1.2.0",
            "grid_template_areas": null,
            "object_position": null,
            "object_fit": null,
            "grid_auto_columns": null,
            "margin": null,
            "display": null,
            "left": null
          }
        },
        "9352b4dd9c7a4105b827b87cb1df74bf": {
          "model_module": "@jupyter-widgets/controls",
          "model_name": "HBoxModel",
          "state": {
            "_view_name": "HBoxView",
            "_dom_classes": [],
            "_model_name": "HBoxModel",
            "_view_module": "@jupyter-widgets/controls",
            "_model_module_version": "1.5.0",
            "_view_count": null,
            "_view_module_version": "1.5.0",
            "box_style": "",
            "layout": "IPY_MODEL_78b57318dcd04a4b88dfa1896ec28470",
            "_model_module": "@jupyter-widgets/controls",
            "children": [
              "IPY_MODEL_780aa1a8ab8740bc9e47ee6f22be414c",
              "IPY_MODEL_35852b318c36439faa33d77db2ae54ad"
            ]
          }
        },
        "78b57318dcd04a4b88dfa1896ec28470": {
          "model_module": "@jupyter-widgets/base",
          "model_name": "LayoutModel",
          "state": {
            "_view_name": "LayoutView",
            "grid_template_rows": null,
            "right": null,
            "justify_content": null,
            "_view_module": "@jupyter-widgets/base",
            "overflow": null,
            "_model_module_version": "1.2.0",
            "_view_count": null,
            "flex_flow": null,
            "width": null,
            "min_width": null,
            "border": null,
            "align_items": null,
            "bottom": null,
            "_model_module": "@jupyter-widgets/base",
            "top": null,
            "grid_column": null,
            "overflow_y": null,
            "overflow_x": null,
            "grid_auto_flow": null,
            "grid_area": null,
            "grid_template_columns": null,
            "flex": null,
            "_model_name": "LayoutModel",
            "justify_items": null,
            "grid_row": null,
            "max_height": null,
            "align_content": null,
            "visibility": null,
            "align_self": null,
            "height": null,
            "min_height": null,
            "padding": null,
            "grid_auto_rows": null,
            "grid_gap": null,
            "max_width": null,
            "order": null,
            "_view_module_version": "1.2.0",
            "grid_template_areas": null,
            "object_position": null,
            "object_fit": null,
            "grid_auto_columns": null,
            "margin": null,
            "display": null,
            "left": null
          }
        },
        "780aa1a8ab8740bc9e47ee6f22be414c": {
          "model_module": "@jupyter-widgets/controls",
          "model_name": "FloatProgressModel",
          "state": {
            "_view_name": "ProgressView",
            "style": "IPY_MODEL_892aaf0353694a76b0d814277e71c7c0",
            "_dom_classes": [],
            "description": "100%",
            "_model_name": "FloatProgressModel",
            "bar_style": "success",
            "max": 31,
            "_view_module": "@jupyter-widgets/controls",
            "_model_module_version": "1.5.0",
            "value": 31,
            "_view_count": null,
            "_view_module_version": "1.5.0",
            "orientation": "horizontal",
            "min": 0,
            "description_tooltip": null,
            "_model_module": "@jupyter-widgets/controls",
            "layout": "IPY_MODEL_c5a506c3f5384cb2a85164d50ceebff5"
          }
        },
        "35852b318c36439faa33d77db2ae54ad": {
          "model_module": "@jupyter-widgets/controls",
          "model_name": "HTMLModel",
          "state": {
            "_view_name": "HTMLView",
            "style": "IPY_MODEL_1ef0ae281dbb470db919ed6a197429dc",
            "_dom_classes": [],
            "description": "",
            "_model_name": "HTMLModel",
            "placeholder": "​",
            "_view_module": "@jupyter-widgets/controls",
            "_model_module_version": "1.5.0",
            "value": " 31/31 [00:15&lt;00:00,  2.05it/s]",
            "_view_count": null,
            "_view_module_version": "1.5.0",
            "description_tooltip": null,
            "_model_module": "@jupyter-widgets/controls",
            "layout": "IPY_MODEL_75ac04e341364df6a4a90acba18e3d20"
          }
        },
        "892aaf0353694a76b0d814277e71c7c0": {
          "model_module": "@jupyter-widgets/controls",
          "model_name": "ProgressStyleModel",
          "state": {
            "_view_name": "StyleView",
            "_model_name": "ProgressStyleModel",
            "description_width": "initial",
            "_view_module": "@jupyter-widgets/base",
            "_model_module_version": "1.5.0",
            "_view_count": null,
            "_view_module_version": "1.2.0",
            "bar_color": null,
            "_model_module": "@jupyter-widgets/controls"
          }
        },
        "c5a506c3f5384cb2a85164d50ceebff5": {
          "model_module": "@jupyter-widgets/base",
          "model_name": "LayoutModel",
          "state": {
            "_view_name": "LayoutView",
            "grid_template_rows": null,
            "right": null,
            "justify_content": null,
            "_view_module": "@jupyter-widgets/base",
            "overflow": null,
            "_model_module_version": "1.2.0",
            "_view_count": null,
            "flex_flow": null,
            "width": null,
            "min_width": null,
            "border": null,
            "align_items": null,
            "bottom": null,
            "_model_module": "@jupyter-widgets/base",
            "top": null,
            "grid_column": null,
            "overflow_y": null,
            "overflow_x": null,
            "grid_auto_flow": null,
            "grid_area": null,
            "grid_template_columns": null,
            "flex": null,
            "_model_name": "LayoutModel",
            "justify_items": null,
            "grid_row": null,
            "max_height": null,
            "align_content": null,
            "visibility": null,
            "align_self": null,
            "height": null,
            "min_height": null,
            "padding": null,
            "grid_auto_rows": null,
            "grid_gap": null,
            "max_width": null,
            "order": null,
            "_view_module_version": "1.2.0",
            "grid_template_areas": null,
            "object_position": null,
            "object_fit": null,
            "grid_auto_columns": null,
            "margin": null,
            "display": null,
            "left": null
          }
        },
        "1ef0ae281dbb470db919ed6a197429dc": {
          "model_module": "@jupyter-widgets/controls",
          "model_name": "DescriptionStyleModel",
          "state": {
            "_view_name": "StyleView",
            "_model_name": "DescriptionStyleModel",
            "description_width": "",
            "_view_module": "@jupyter-widgets/base",
            "_model_module_version": "1.5.0",
            "_view_count": null,
            "_view_module_version": "1.2.0",
            "_model_module": "@jupyter-widgets/controls"
          }
        },
        "75ac04e341364df6a4a90acba18e3d20": {
          "model_module": "@jupyter-widgets/base",
          "model_name": "LayoutModel",
          "state": {
            "_view_name": "LayoutView",
            "grid_template_rows": null,
            "right": null,
            "justify_content": null,
            "_view_module": "@jupyter-widgets/base",
            "overflow": null,
            "_model_module_version": "1.2.0",
            "_view_count": null,
            "flex_flow": null,
            "width": null,
            "min_width": null,
            "border": null,
            "align_items": null,
            "bottom": null,
            "_model_module": "@jupyter-widgets/base",
            "top": null,
            "grid_column": null,
            "overflow_y": null,
            "overflow_x": null,
            "grid_auto_flow": null,
            "grid_area": null,
            "grid_template_columns": null,
            "flex": null,
            "_model_name": "LayoutModel",
            "justify_items": null,
            "grid_row": null,
            "max_height": null,
            "align_content": null,
            "visibility": null,
            "align_self": null,
            "height": null,
            "min_height": null,
            "padding": null,
            "grid_auto_rows": null,
            "grid_gap": null,
            "max_width": null,
            "order": null,
            "_view_module_version": "1.2.0",
            "grid_template_areas": null,
            "object_position": null,
            "object_fit": null,
            "grid_auto_columns": null,
            "margin": null,
            "display": null,
            "left": null
          }
        },
        "84d97a64a9c84da8acb58fdf488100e3": {
          "model_module": "@jupyter-widgets/controls",
          "model_name": "HBoxModel",
          "state": {
            "_view_name": "HBoxView",
            "_dom_classes": [],
            "_model_name": "HBoxModel",
            "_view_module": "@jupyter-widgets/controls",
            "_model_module_version": "1.5.0",
            "_view_count": null,
            "_view_module_version": "1.5.0",
            "box_style": "",
            "layout": "IPY_MODEL_b69eac490df244b0a0d930e6e0e4bdd9",
            "_model_module": "@jupyter-widgets/controls",
            "children": [
              "IPY_MODEL_3fcd3d5db8c84106b44afc753462c3b7",
              "IPY_MODEL_a249265ed0784f99946316bef249af11"
            ]
          }
        },
        "b69eac490df244b0a0d930e6e0e4bdd9": {
          "model_module": "@jupyter-widgets/base",
          "model_name": "LayoutModel",
          "state": {
            "_view_name": "LayoutView",
            "grid_template_rows": null,
            "right": null,
            "justify_content": null,
            "_view_module": "@jupyter-widgets/base",
            "overflow": null,
            "_model_module_version": "1.2.0",
            "_view_count": null,
            "flex_flow": null,
            "width": null,
            "min_width": null,
            "border": null,
            "align_items": null,
            "bottom": null,
            "_model_module": "@jupyter-widgets/base",
            "top": null,
            "grid_column": null,
            "overflow_y": null,
            "overflow_x": null,
            "grid_auto_flow": null,
            "grid_area": null,
            "grid_template_columns": null,
            "flex": null,
            "_model_name": "LayoutModel",
            "justify_items": null,
            "grid_row": null,
            "max_height": null,
            "align_content": null,
            "visibility": null,
            "align_self": null,
            "height": null,
            "min_height": null,
            "padding": null,
            "grid_auto_rows": null,
            "grid_gap": null,
            "max_width": null,
            "order": null,
            "_view_module_version": "1.2.0",
            "grid_template_areas": null,
            "object_position": null,
            "object_fit": null,
            "grid_auto_columns": null,
            "margin": null,
            "display": null,
            "left": null
          }
        },
        "3fcd3d5db8c84106b44afc753462c3b7": {
          "model_module": "@jupyter-widgets/controls",
          "model_name": "FloatProgressModel",
          "state": {
            "_view_name": "ProgressView",
            "style": "IPY_MODEL_4ebaed21f57a4c3190ea81d4d57f66da",
            "_dom_classes": [],
            "description": "100%",
            "_model_name": "FloatProgressModel",
            "bar_style": "success",
            "max": 34,
            "_view_module": "@jupyter-widgets/controls",
            "_model_module_version": "1.5.0",
            "value": 34,
            "_view_count": null,
            "_view_module_version": "1.5.0",
            "orientation": "horizontal",
            "min": 0,
            "description_tooltip": null,
            "_model_module": "@jupyter-widgets/controls",
            "layout": "IPY_MODEL_389a68b751524603a8f8ef8e4da944d7"
          }
        },
        "a249265ed0784f99946316bef249af11": {
          "model_module": "@jupyter-widgets/controls",
          "model_name": "HTMLModel",
          "state": {
            "_view_name": "HTMLView",
            "style": "IPY_MODEL_d8c2a2b3da8b4c3fa48044c0055ba497",
            "_dom_classes": [],
            "description": "",
            "_model_name": "HTMLModel",
            "placeholder": "​",
            "_view_module": "@jupyter-widgets/controls",
            "_model_module_version": "1.5.0",
            "value": " 34/34 [00:00&lt;00:00, 132.14it/s]",
            "_view_count": null,
            "_view_module_version": "1.5.0",
            "description_tooltip": null,
            "_model_module": "@jupyter-widgets/controls",
            "layout": "IPY_MODEL_67314ffec8cf4b0db89f938c43a9315c"
          }
        },
        "4ebaed21f57a4c3190ea81d4d57f66da": {
          "model_module": "@jupyter-widgets/controls",
          "model_name": "ProgressStyleModel",
          "state": {
            "_view_name": "StyleView",
            "_model_name": "ProgressStyleModel",
            "description_width": "initial",
            "_view_module": "@jupyter-widgets/base",
            "_model_module_version": "1.5.0",
            "_view_count": null,
            "_view_module_version": "1.2.0",
            "bar_color": null,
            "_model_module": "@jupyter-widgets/controls"
          }
        },
        "389a68b751524603a8f8ef8e4da944d7": {
          "model_module": "@jupyter-widgets/base",
          "model_name": "LayoutModel",
          "state": {
            "_view_name": "LayoutView",
            "grid_template_rows": null,
            "right": null,
            "justify_content": null,
            "_view_module": "@jupyter-widgets/base",
            "overflow": null,
            "_model_module_version": "1.2.0",
            "_view_count": null,
            "flex_flow": null,
            "width": null,
            "min_width": null,
            "border": null,
            "align_items": null,
            "bottom": null,
            "_model_module": "@jupyter-widgets/base",
            "top": null,
            "grid_column": null,
            "overflow_y": null,
            "overflow_x": null,
            "grid_auto_flow": null,
            "grid_area": null,
            "grid_template_columns": null,
            "flex": null,
            "_model_name": "LayoutModel",
            "justify_items": null,
            "grid_row": null,
            "max_height": null,
            "align_content": null,
            "visibility": null,
            "align_self": null,
            "height": null,
            "min_height": null,
            "padding": null,
            "grid_auto_rows": null,
            "grid_gap": null,
            "max_width": null,
            "order": null,
            "_view_module_version": "1.2.0",
            "grid_template_areas": null,
            "object_position": null,
            "object_fit": null,
            "grid_auto_columns": null,
            "margin": null,
            "display": null,
            "left": null
          }
        },
        "d8c2a2b3da8b4c3fa48044c0055ba497": {
          "model_module": "@jupyter-widgets/controls",
          "model_name": "DescriptionStyleModel",
          "state": {
            "_view_name": "StyleView",
            "_model_name": "DescriptionStyleModel",
            "description_width": "",
            "_view_module": "@jupyter-widgets/base",
            "_model_module_version": "1.5.0",
            "_view_count": null,
            "_view_module_version": "1.2.0",
            "_model_module": "@jupyter-widgets/controls"
          }
        },
        "67314ffec8cf4b0db89f938c43a9315c": {
          "model_module": "@jupyter-widgets/base",
          "model_name": "LayoutModel",
          "state": {
            "_view_name": "LayoutView",
            "grid_template_rows": null,
            "right": null,
            "justify_content": null,
            "_view_module": "@jupyter-widgets/base",
            "overflow": null,
            "_model_module_version": "1.2.0",
            "_view_count": null,
            "flex_flow": null,
            "width": null,
            "min_width": null,
            "border": null,
            "align_items": null,
            "bottom": null,
            "_model_module": "@jupyter-widgets/base",
            "top": null,
            "grid_column": null,
            "overflow_y": null,
            "overflow_x": null,
            "grid_auto_flow": null,
            "grid_area": null,
            "grid_template_columns": null,
            "flex": null,
            "_model_name": "LayoutModel",
            "justify_items": null,
            "grid_row": null,
            "max_height": null,
            "align_content": null,
            "visibility": null,
            "align_self": null,
            "height": null,
            "min_height": null,
            "padding": null,
            "grid_auto_rows": null,
            "grid_gap": null,
            "max_width": null,
            "order": null,
            "_view_module_version": "1.2.0",
            "grid_template_areas": null,
            "object_position": null,
            "object_fit": null,
            "grid_auto_columns": null,
            "margin": null,
            "display": null,
            "left": null
          }
        },
        "0e867e88cebe448eb9dd5dce3a226055": {
          "model_module": "@jupyter-widgets/controls",
          "model_name": "HBoxModel",
          "state": {
            "_view_name": "HBoxView",
            "_dom_classes": [],
            "_model_name": "HBoxModel",
            "_view_module": "@jupyter-widgets/controls",
            "_model_module_version": "1.5.0",
            "_view_count": null,
            "_view_module_version": "1.5.0",
            "box_style": "",
            "layout": "IPY_MODEL_710c5924da11452cba9ca6932d9dcfd6",
            "_model_module": "@jupyter-widgets/controls",
            "children": [
              "IPY_MODEL_883daa08bd8c4590b43aedda5c601f0d",
              "IPY_MODEL_7c8891c580904e0fb849c367441dcf39"
            ]
          }
        },
        "710c5924da11452cba9ca6932d9dcfd6": {
          "model_module": "@jupyter-widgets/base",
          "model_name": "LayoutModel",
          "state": {
            "_view_name": "LayoutView",
            "grid_template_rows": null,
            "right": null,
            "justify_content": null,
            "_view_module": "@jupyter-widgets/base",
            "overflow": null,
            "_model_module_version": "1.2.0",
            "_view_count": null,
            "flex_flow": null,
            "width": null,
            "min_width": null,
            "border": null,
            "align_items": null,
            "bottom": null,
            "_model_module": "@jupyter-widgets/base",
            "top": null,
            "grid_column": null,
            "overflow_y": null,
            "overflow_x": null,
            "grid_auto_flow": null,
            "grid_area": null,
            "grid_template_columns": null,
            "flex": null,
            "_model_name": "LayoutModel",
            "justify_items": null,
            "grid_row": null,
            "max_height": null,
            "align_content": null,
            "visibility": null,
            "align_self": null,
            "height": null,
            "min_height": null,
            "padding": null,
            "grid_auto_rows": null,
            "grid_gap": null,
            "max_width": null,
            "order": null,
            "_view_module_version": "1.2.0",
            "grid_template_areas": null,
            "object_position": null,
            "object_fit": null,
            "grid_auto_columns": null,
            "margin": null,
            "display": null,
            "left": null
          }
        },
        "883daa08bd8c4590b43aedda5c601f0d": {
          "model_module": "@jupyter-widgets/controls",
          "model_name": "FloatProgressModel",
          "state": {
            "_view_name": "ProgressView",
            "style": "IPY_MODEL_cb80d4a25d144ac3849b0d16e8d32746",
            "_dom_classes": [],
            "description": "100%",
            "_model_name": "FloatProgressModel",
            "bar_style": "success",
            "max": 444,
            "_view_module": "@jupyter-widgets/controls",
            "_model_module_version": "1.5.0",
            "value": 444,
            "_view_count": null,
            "_view_module_version": "1.5.0",
            "orientation": "horizontal",
            "min": 0,
            "description_tooltip": null,
            "_model_module": "@jupyter-widgets/controls",
            "layout": "IPY_MODEL_6f5c996520c545e4b50a301c728073bf"
          }
        },
        "7c8891c580904e0fb849c367441dcf39": {
          "model_module": "@jupyter-widgets/controls",
          "model_name": "HTMLModel",
          "state": {
            "_view_name": "HTMLView",
            "style": "IPY_MODEL_6262e0fad8be40b5855304eaa5b93f71",
            "_dom_classes": [],
            "description": "",
            "_model_name": "HTMLModel",
            "placeholder": "​",
            "_view_module": "@jupyter-widgets/controls",
            "_model_module_version": "1.5.0",
            "value": " 444/444 [00:00&lt;00:00, 2179.86it/s]",
            "_view_count": null,
            "_view_module_version": "1.5.0",
            "description_tooltip": null,
            "_model_module": "@jupyter-widgets/controls",
            "layout": "IPY_MODEL_657b7603f473446cb7de97dbe5a13782"
          }
        },
        "cb80d4a25d144ac3849b0d16e8d32746": {
          "model_module": "@jupyter-widgets/controls",
          "model_name": "ProgressStyleModel",
          "state": {
            "_view_name": "StyleView",
            "_model_name": "ProgressStyleModel",
            "description_width": "initial",
            "_view_module": "@jupyter-widgets/base",
            "_model_module_version": "1.5.0",
            "_view_count": null,
            "_view_module_version": "1.2.0",
            "bar_color": null,
            "_model_module": "@jupyter-widgets/controls"
          }
        },
        "6f5c996520c545e4b50a301c728073bf": {
          "model_module": "@jupyter-widgets/base",
          "model_name": "LayoutModel",
          "state": {
            "_view_name": "LayoutView",
            "grid_template_rows": null,
            "right": null,
            "justify_content": null,
            "_view_module": "@jupyter-widgets/base",
            "overflow": null,
            "_model_module_version": "1.2.0",
            "_view_count": null,
            "flex_flow": null,
            "width": null,
            "min_width": null,
            "border": null,
            "align_items": null,
            "bottom": null,
            "_model_module": "@jupyter-widgets/base",
            "top": null,
            "grid_column": null,
            "overflow_y": null,
            "overflow_x": null,
            "grid_auto_flow": null,
            "grid_area": null,
            "grid_template_columns": null,
            "flex": null,
            "_model_name": "LayoutModel",
            "justify_items": null,
            "grid_row": null,
            "max_height": null,
            "align_content": null,
            "visibility": null,
            "align_self": null,
            "height": null,
            "min_height": null,
            "padding": null,
            "grid_auto_rows": null,
            "grid_gap": null,
            "max_width": null,
            "order": null,
            "_view_module_version": "1.2.0",
            "grid_template_areas": null,
            "object_position": null,
            "object_fit": null,
            "grid_auto_columns": null,
            "margin": null,
            "display": null,
            "left": null
          }
        },
        "6262e0fad8be40b5855304eaa5b93f71": {
          "model_module": "@jupyter-widgets/controls",
          "model_name": "DescriptionStyleModel",
          "state": {
            "_view_name": "StyleView",
            "_model_name": "DescriptionStyleModel",
            "description_width": "",
            "_view_module": "@jupyter-widgets/base",
            "_model_module_version": "1.5.0",
            "_view_count": null,
            "_view_module_version": "1.2.0",
            "_model_module": "@jupyter-widgets/controls"
          }
        },
        "657b7603f473446cb7de97dbe5a13782": {
          "model_module": "@jupyter-widgets/base",
          "model_name": "LayoutModel",
          "state": {
            "_view_name": "LayoutView",
            "grid_template_rows": null,
            "right": null,
            "justify_content": null,
            "_view_module": "@jupyter-widgets/base",
            "overflow": null,
            "_model_module_version": "1.2.0",
            "_view_count": null,
            "flex_flow": null,
            "width": null,
            "min_width": null,
            "border": null,
            "align_items": null,
            "bottom": null,
            "_model_module": "@jupyter-widgets/base",
            "top": null,
            "grid_column": null,
            "overflow_y": null,
            "overflow_x": null,
            "grid_auto_flow": null,
            "grid_area": null,
            "grid_template_columns": null,
            "flex": null,
            "_model_name": "LayoutModel",
            "justify_items": null,
            "grid_row": null,
            "max_height": null,
            "align_content": null,
            "visibility": null,
            "align_self": null,
            "height": null,
            "min_height": null,
            "padding": null,
            "grid_auto_rows": null,
            "grid_gap": null,
            "max_width": null,
            "order": null,
            "_view_module_version": "1.2.0",
            "grid_template_areas": null,
            "object_position": null,
            "object_fit": null,
            "grid_auto_columns": null,
            "margin": null,
            "display": null,
            "left": null
          }
        },
        "57317fbf42ab44aa8c5bf9cee8d2f280": {
          "model_module": "@jupyter-widgets/controls",
          "model_name": "HBoxModel",
          "state": {
            "_view_name": "HBoxView",
            "_dom_classes": [],
            "_model_name": "HBoxModel",
            "_view_module": "@jupyter-widgets/controls",
            "_model_module_version": "1.5.0",
            "_view_count": null,
            "_view_module_version": "1.5.0",
            "box_style": "",
            "layout": "IPY_MODEL_7d5ddd1aaeb247648e9feb71cd2f06f8",
            "_model_module": "@jupyter-widgets/controls",
            "children": [
              "IPY_MODEL_917f416507af41cea52bb505e3fea107",
              "IPY_MODEL_3ba924c8e40540ed9d075fceada2e631"
            ]
          }
        },
        "7d5ddd1aaeb247648e9feb71cd2f06f8": {
          "model_module": "@jupyter-widgets/base",
          "model_name": "LayoutModel",
          "state": {
            "_view_name": "LayoutView",
            "grid_template_rows": null,
            "right": null,
            "justify_content": null,
            "_view_module": "@jupyter-widgets/base",
            "overflow": null,
            "_model_module_version": "1.2.0",
            "_view_count": null,
            "flex_flow": null,
            "width": null,
            "min_width": null,
            "border": null,
            "align_items": null,
            "bottom": null,
            "_model_module": "@jupyter-widgets/base",
            "top": null,
            "grid_column": null,
            "overflow_y": null,
            "overflow_x": null,
            "grid_auto_flow": null,
            "grid_area": null,
            "grid_template_columns": null,
            "flex": null,
            "_model_name": "LayoutModel",
            "justify_items": null,
            "grid_row": null,
            "max_height": null,
            "align_content": null,
            "visibility": null,
            "align_self": null,
            "height": null,
            "min_height": null,
            "padding": null,
            "grid_auto_rows": null,
            "grid_gap": null,
            "max_width": null,
            "order": null,
            "_view_module_version": "1.2.0",
            "grid_template_areas": null,
            "object_position": null,
            "object_fit": null,
            "grid_auto_columns": null,
            "margin": null,
            "display": null,
            "left": null
          }
        },
        "917f416507af41cea52bb505e3fea107": {
          "model_module": "@jupyter-widgets/controls",
          "model_name": "FloatProgressModel",
          "state": {
            "_view_name": "ProgressView",
            "style": "IPY_MODEL_80531662e7204276a4ae948df2acb579",
            "_dom_classes": [],
            "description": "100%",
            "_model_name": "FloatProgressModel",
            "bar_style": "success",
            "max": 31,
            "_view_module": "@jupyter-widgets/controls",
            "_model_module_version": "1.5.0",
            "value": 31,
            "_view_count": null,
            "_view_module_version": "1.5.0",
            "orientation": "horizontal",
            "min": 0,
            "description_tooltip": null,
            "_model_module": "@jupyter-widgets/controls",
            "layout": "IPY_MODEL_654876cdf93445c1b4d2d401a5dac068"
          }
        },
        "3ba924c8e40540ed9d075fceada2e631": {
          "model_module": "@jupyter-widgets/controls",
          "model_name": "HTMLModel",
          "state": {
            "_view_name": "HTMLView",
            "style": "IPY_MODEL_bcf2a333781b4999b9823367bf5de12c",
            "_dom_classes": [],
            "description": "",
            "_model_name": "HTMLModel",
            "placeholder": "​",
            "_view_module": "@jupyter-widgets/controls",
            "_model_module_version": "1.5.0",
            "value": " 31/31 [00:00&lt;00:00, 287.86it/s]",
            "_view_count": null,
            "_view_module_version": "1.5.0",
            "description_tooltip": null,
            "_model_module": "@jupyter-widgets/controls",
            "layout": "IPY_MODEL_d761515b645646079942feac1f2d809c"
          }
        },
        "80531662e7204276a4ae948df2acb579": {
          "model_module": "@jupyter-widgets/controls",
          "model_name": "ProgressStyleModel",
          "state": {
            "_view_name": "StyleView",
            "_model_name": "ProgressStyleModel",
            "description_width": "initial",
            "_view_module": "@jupyter-widgets/base",
            "_model_module_version": "1.5.0",
            "_view_count": null,
            "_view_module_version": "1.2.0",
            "bar_color": null,
            "_model_module": "@jupyter-widgets/controls"
          }
        },
        "654876cdf93445c1b4d2d401a5dac068": {
          "model_module": "@jupyter-widgets/base",
          "model_name": "LayoutModel",
          "state": {
            "_view_name": "LayoutView",
            "grid_template_rows": null,
            "right": null,
            "justify_content": null,
            "_view_module": "@jupyter-widgets/base",
            "overflow": null,
            "_model_module_version": "1.2.0",
            "_view_count": null,
            "flex_flow": null,
            "width": null,
            "min_width": null,
            "border": null,
            "align_items": null,
            "bottom": null,
            "_model_module": "@jupyter-widgets/base",
            "top": null,
            "grid_column": null,
            "overflow_y": null,
            "overflow_x": null,
            "grid_auto_flow": null,
            "grid_area": null,
            "grid_template_columns": null,
            "flex": null,
            "_model_name": "LayoutModel",
            "justify_items": null,
            "grid_row": null,
            "max_height": null,
            "align_content": null,
            "visibility": null,
            "align_self": null,
            "height": null,
            "min_height": null,
            "padding": null,
            "grid_auto_rows": null,
            "grid_gap": null,
            "max_width": null,
            "order": null,
            "_view_module_version": "1.2.0",
            "grid_template_areas": null,
            "object_position": null,
            "object_fit": null,
            "grid_auto_columns": null,
            "margin": null,
            "display": null,
            "left": null
          }
        },
        "bcf2a333781b4999b9823367bf5de12c": {
          "model_module": "@jupyter-widgets/controls",
          "model_name": "DescriptionStyleModel",
          "state": {
            "_view_name": "StyleView",
            "_model_name": "DescriptionStyleModel",
            "description_width": "",
            "_view_module": "@jupyter-widgets/base",
            "_model_module_version": "1.5.0",
            "_view_count": null,
            "_view_module_version": "1.2.0",
            "_model_module": "@jupyter-widgets/controls"
          }
        },
        "d761515b645646079942feac1f2d809c": {
          "model_module": "@jupyter-widgets/base",
          "model_name": "LayoutModel",
          "state": {
            "_view_name": "LayoutView",
            "grid_template_rows": null,
            "right": null,
            "justify_content": null,
            "_view_module": "@jupyter-widgets/base",
            "overflow": null,
            "_model_module_version": "1.2.0",
            "_view_count": null,
            "flex_flow": null,
            "width": null,
            "min_width": null,
            "border": null,
            "align_items": null,
            "bottom": null,
            "_model_module": "@jupyter-widgets/base",
            "top": null,
            "grid_column": null,
            "overflow_y": null,
            "overflow_x": null,
            "grid_auto_flow": null,
            "grid_area": null,
            "grid_template_columns": null,
            "flex": null,
            "_model_name": "LayoutModel",
            "justify_items": null,
            "grid_row": null,
            "max_height": null,
            "align_content": null,
            "visibility": null,
            "align_self": null,
            "height": null,
            "min_height": null,
            "padding": null,
            "grid_auto_rows": null,
            "grid_gap": null,
            "max_width": null,
            "order": null,
            "_view_module_version": "1.2.0",
            "grid_template_areas": null,
            "object_position": null,
            "object_fit": null,
            "grid_auto_columns": null,
            "margin": null,
            "display": null,
            "left": null
          }
        }
      }
    },
    "accelerator": "GPU"
  },
  "cells": [
    {
      "cell_type": "code",
      "metadata": {
        "colab": {
          "base_uri": "https://localhost:8080/"
        },
        "id": "bvrC0y87ciTe",
        "outputId": "0aa2e9c2-405c-4522-8257-0f63b66287b7"
      },
      "source": [
        "!pip3 install sentence_transformers\n",
        "#!pip3 install transformers"
      ],
      "execution_count": null,
      "outputs": [
        {
          "output_type": "stream",
          "text": [
            "Collecting sentence_transformers\n",
            "\u001b[?25l  Downloading https://files.pythonhosted.org/packages/c4/87/49dc49e13ac107ce912c2f3f3fd92252c6d4221e88d1e6c16747044a11d8/sentence-transformers-1.1.0.tar.gz (78kB)\n",
            "\u001b[K     |████████████████████████████████| 81kB 6.4MB/s \n",
            "\u001b[?25hCollecting transformers<5.0.0,>=3.1.0\n",
            "\u001b[?25l  Downloading https://files.pythonhosted.org/packages/d8/b2/57495b5309f09fa501866e225c84532d1fd89536ea62406b2181933fb418/transformers-4.5.1-py3-none-any.whl (2.1MB)\n",
            "\u001b[K     |████████████████████████████████| 2.1MB 16.4MB/s \n",
            "\u001b[?25hRequirement already satisfied: tqdm in /usr/local/lib/python3.7/dist-packages (from sentence_transformers) (4.41.1)\n",
            "Requirement already satisfied: torch>=1.6.0 in /usr/local/lib/python3.7/dist-packages (from sentence_transformers) (1.8.1+cu101)\n",
            "Requirement already satisfied: numpy in /usr/local/lib/python3.7/dist-packages (from sentence_transformers) (1.19.5)\n",
            "Requirement already satisfied: scikit-learn in /usr/local/lib/python3.7/dist-packages (from sentence_transformers) (0.22.2.post1)\n",
            "Requirement already satisfied: scipy in /usr/local/lib/python3.7/dist-packages (from sentence_transformers) (1.4.1)\n",
            "Requirement already satisfied: nltk in /usr/local/lib/python3.7/dist-packages (from sentence_transformers) (3.2.5)\n",
            "Collecting sentencepiece\n",
            "\u001b[?25l  Downloading https://files.pythonhosted.org/packages/f5/99/e0808cb947ba10f575839c43e8fafc9cc44e4a7a2c8f79c60db48220a577/sentencepiece-0.1.95-cp37-cp37m-manylinux2014_x86_64.whl (1.2MB)\n",
            "\u001b[K     |████████████████████████████████| 1.2MB 52.3MB/s \n",
            "\u001b[?25hCollecting sacremoses\n",
            "\u001b[?25l  Downloading https://files.pythonhosted.org/packages/75/ee/67241dc87f266093c533a2d4d3d69438e57d7a90abb216fa076e7d475d4a/sacremoses-0.0.45-py3-none-any.whl (895kB)\n",
            "\u001b[K     |████████████████████████████████| 901kB 54.8MB/s \n",
            "\u001b[?25hRequirement already satisfied: regex!=2019.12.17 in /usr/local/lib/python3.7/dist-packages (from transformers<5.0.0,>=3.1.0->sentence_transformers) (2019.12.20)\n",
            "Collecting tokenizers<0.11,>=0.10.1\n",
            "\u001b[?25l  Downloading https://files.pythonhosted.org/packages/ae/04/5b870f26a858552025a62f1649c20d29d2672c02ff3c3fb4c688ca46467a/tokenizers-0.10.2-cp37-cp37m-manylinux2010_x86_64.whl (3.3MB)\n",
            "\u001b[K     |████████████████████████████████| 3.3MB 45.2MB/s \n",
            "\u001b[?25hRequirement already satisfied: requests in /usr/local/lib/python3.7/dist-packages (from transformers<5.0.0,>=3.1.0->sentence_transformers) (2.23.0)\n",
            "Requirement already satisfied: filelock in /usr/local/lib/python3.7/dist-packages (from transformers<5.0.0,>=3.1.0->sentence_transformers) (3.0.12)\n",
            "Requirement already satisfied: packaging in /usr/local/lib/python3.7/dist-packages (from transformers<5.0.0,>=3.1.0->sentence_transformers) (20.9)\n",
            "Requirement already satisfied: importlib-metadata; python_version < \"3.8\" in /usr/local/lib/python3.7/dist-packages (from transformers<5.0.0,>=3.1.0->sentence_transformers) (3.10.1)\n",
            "Requirement already satisfied: typing-extensions in /usr/local/lib/python3.7/dist-packages (from torch>=1.6.0->sentence_transformers) (3.7.4.3)\n",
            "Requirement already satisfied: joblib>=0.11 in /usr/local/lib/python3.7/dist-packages (from scikit-learn->sentence_transformers) (1.0.1)\n",
            "Requirement already satisfied: six in /usr/local/lib/python3.7/dist-packages (from nltk->sentence_transformers) (1.15.0)\n",
            "Requirement already satisfied: click in /usr/local/lib/python3.7/dist-packages (from sacremoses->transformers<5.0.0,>=3.1.0->sentence_transformers) (7.1.2)\n",
            "Requirement already satisfied: certifi>=2017.4.17 in /usr/local/lib/python3.7/dist-packages (from requests->transformers<5.0.0,>=3.1.0->sentence_transformers) (2020.12.5)\n",
            "Requirement already satisfied: idna<3,>=2.5 in /usr/local/lib/python3.7/dist-packages (from requests->transformers<5.0.0,>=3.1.0->sentence_transformers) (2.10)\n",
            "Requirement already satisfied: chardet<4,>=3.0.2 in /usr/local/lib/python3.7/dist-packages (from requests->transformers<5.0.0,>=3.1.0->sentence_transformers) (3.0.4)\n",
            "Requirement already satisfied: urllib3!=1.25.0,!=1.25.1,<1.26,>=1.21.1 in /usr/local/lib/python3.7/dist-packages (from requests->transformers<5.0.0,>=3.1.0->sentence_transformers) (1.24.3)\n",
            "Requirement already satisfied: pyparsing>=2.0.2 in /usr/local/lib/python3.7/dist-packages (from packaging->transformers<5.0.0,>=3.1.0->sentence_transformers) (2.4.7)\n",
            "Requirement already satisfied: zipp>=0.5 in /usr/local/lib/python3.7/dist-packages (from importlib-metadata; python_version < \"3.8\"->transformers<5.0.0,>=3.1.0->sentence_transformers) (3.4.1)\n",
            "Building wheels for collected packages: sentence-transformers\n",
            "  Building wheel for sentence-transformers (setup.py) ... \u001b[?25l\u001b[?25hdone\n",
            "  Created wheel for sentence-transformers: filename=sentence_transformers-1.1.0-cp37-none-any.whl size=119615 sha256=a723adb96ed80c5e49b14d163205a834457122fcd9fc0fce246b679728ea47a9\n",
            "  Stored in directory: /root/.cache/pip/wheels/84/cb/21/1066bff3027215c760ca14a198f698bca8fccb92e33e2327eb\n",
            "Successfully built sentence-transformers\n",
            "Installing collected packages: sacremoses, tokenizers, transformers, sentencepiece, sentence-transformers\n",
            "Successfully installed sacremoses-0.0.45 sentence-transformers-1.1.0 sentencepiece-0.1.95 tokenizers-0.10.2 transformers-4.5.1\n"
          ],
          "name": "stdout"
        }
      ]
    },
    {
      "cell_type": "code",
      "metadata": {
        "colab": {
          "base_uri": "https://localhost:8080/",
          "height": 1000
        },
        "id": "7gY7aFssP67s",
        "outputId": "6c5beed7-1e8d-418a-e694-ef8e04cf9f20"
      },
      "source": [
        "!pip install -U spacy\n",
        "!python -m spacy download en_core_web_lg"
      ],
      "execution_count": null,
      "outputs": [
        {
          "output_type": "stream",
          "text": [
            "Collecting spacy\n",
            "\u001b[?25l  Downloading https://files.pythonhosted.org/packages/1b/d8/0361bbaf7a1ff56b44dca04dace54c82d63dad7475b7d25ea1baefafafb2/spacy-3.0.6-cp37-cp37m-manylinux2014_x86_64.whl (12.8MB)\n",
            "\u001b[K     |████████████████████████████████| 12.8MB 227kB/s \n",
            "\u001b[?25hCollecting typer<0.4.0,>=0.3.0\n",
            "  Downloading https://files.pythonhosted.org/packages/90/34/d138832f6945432c638f32137e6c79a3b682f06a63c488dcfaca6b166c64/typer-0.3.2-py3-none-any.whl\n",
            "Requirement already satisfied, skipping upgrade: murmurhash<1.1.0,>=0.28.0 in /usr/local/lib/python3.7/dist-packages (from spacy) (1.0.5)\n",
            "Requirement already satisfied, skipping upgrade: preshed<3.1.0,>=3.0.2 in /usr/local/lib/python3.7/dist-packages (from spacy) (3.0.5)\n",
            "Requirement already satisfied, skipping upgrade: typing-extensions<4.0.0.0,>=3.7.4; python_version < \"3.8\" in /usr/local/lib/python3.7/dist-packages (from spacy) (3.7.4.3)\n",
            "Collecting srsly<3.0.0,>=2.4.1\n",
            "\u001b[?25l  Downloading https://files.pythonhosted.org/packages/c3/84/dfdfc9f6f04f6b88207d96d9520b911e5fec0c67ff47a0dea31ab5429a1e/srsly-2.4.1-cp37-cp37m-manylinux2014_x86_64.whl (456kB)\n",
            "\u001b[K     |████████████████████████████████| 460kB 53.2MB/s \n",
            "\u001b[?25hCollecting thinc<8.1.0,>=8.0.3\n",
            "\u001b[?25l  Downloading https://files.pythonhosted.org/packages/61/87/decceba68a0c6ca356ddcb6aea8b2500e71d9bc187f148aae19b747b7d3c/thinc-8.0.3-cp37-cp37m-manylinux2014_x86_64.whl (1.1MB)\n",
            "\u001b[K     |████████████████████████████████| 1.1MB 46.1MB/s \n",
            "\u001b[?25hCollecting spacy-legacy<3.1.0,>=3.0.4\n",
            "  Downloading https://files.pythonhosted.org/packages/8d/67/d4002a18e26bf29b17ab563ddb55232b445ab6a02f97bf17d1345ff34d3f/spacy_legacy-3.0.5-py2.py3-none-any.whl\n",
            "Collecting pathy>=0.3.5\n",
            "\u001b[?25l  Downloading https://files.pythonhosted.org/packages/13/87/5991d87be8ed60beb172b4062dbafef18b32fa559635a8e2b633c2974f85/pathy-0.5.2-py3-none-any.whl (42kB)\n",
            "\u001b[K     |████████████████████████████████| 51kB 8.0MB/s \n",
            "\u001b[?25hRequirement already satisfied, skipping upgrade: cymem<2.1.0,>=2.0.2 in /usr/local/lib/python3.7/dist-packages (from spacy) (2.0.5)\n",
            "Requirement already satisfied, skipping upgrade: wasabi<1.1.0,>=0.8.1 in /usr/local/lib/python3.7/dist-packages (from spacy) (0.8.2)\n",
            "Requirement already satisfied, skipping upgrade: blis<0.8.0,>=0.4.0 in /usr/local/lib/python3.7/dist-packages (from spacy) (0.4.1)\n",
            "Requirement already satisfied, skipping upgrade: requests<3.0.0,>=2.13.0 in /usr/local/lib/python3.7/dist-packages (from spacy) (2.23.0)\n",
            "Collecting catalogue<2.1.0,>=2.0.3\n",
            "  Downloading https://files.pythonhosted.org/packages/9c/10/dbc1203a4b1367c7b02fddf08cb2981d9aa3e688d398f587cea0ab9e3bec/catalogue-2.0.4-py3-none-any.whl\n",
            "Requirement already satisfied, skipping upgrade: tqdm<5.0.0,>=4.38.0 in /usr/local/lib/python3.7/dist-packages (from spacy) (4.41.1)\n",
            "Requirement already satisfied, skipping upgrade: setuptools in /usr/local/lib/python3.7/dist-packages (from spacy) (56.0.0)\n",
            "Requirement already satisfied, skipping upgrade: numpy>=1.15.0 in /usr/local/lib/python3.7/dist-packages (from spacy) (1.19.5)\n",
            "Collecting pydantic<1.8.0,>=1.7.1\n",
            "\u001b[?25l  Downloading https://files.pythonhosted.org/packages/b3/0a/52ae1c659fc08f13dd7c0ae07b88e4f807ad83fb9954a59b0b0a3d1a8ab6/pydantic-1.7.3-cp37-cp37m-manylinux2014_x86_64.whl (9.1MB)\n",
            "\u001b[K     |████████████████████████████████| 9.1MB 50.6MB/s \n",
            "\u001b[?25hRequirement already satisfied, skipping upgrade: jinja2 in /usr/local/lib/python3.7/dist-packages (from spacy) (2.11.3)\n",
            "Requirement already satisfied, skipping upgrade: packaging>=20.0 in /usr/local/lib/python3.7/dist-packages (from spacy) (20.9)\n",
            "Requirement already satisfied, skipping upgrade: click<7.2.0,>=7.1.1 in /usr/local/lib/python3.7/dist-packages (from typer<0.4.0,>=0.3.0->spacy) (7.1.2)\n",
            "Collecting smart-open<4.0.0,>=2.2.0\n",
            "\u001b[?25l  Downloading https://files.pythonhosted.org/packages/11/9a/ba2d5f67f25e8d5bbf2fcec7a99b1e38428e83cb715f64dd179ca43a11bb/smart_open-3.0.0.tar.gz (113kB)\n",
            "\u001b[K     |████████████████████████████████| 122kB 57.3MB/s \n",
            "\u001b[?25hRequirement already satisfied, skipping upgrade: urllib3!=1.25.0,!=1.25.1,<1.26,>=1.21.1 in /usr/local/lib/python3.7/dist-packages (from requests<3.0.0,>=2.13.0->spacy) (1.24.3)\n",
            "Requirement already satisfied, skipping upgrade: chardet<4,>=3.0.2 in /usr/local/lib/python3.7/dist-packages (from requests<3.0.0,>=2.13.0->spacy) (3.0.4)\n",
            "Requirement already satisfied, skipping upgrade: certifi>=2017.4.17 in /usr/local/lib/python3.7/dist-packages (from requests<3.0.0,>=2.13.0->spacy) (2020.12.5)\n",
            "Requirement already satisfied, skipping upgrade: idna<3,>=2.5 in /usr/local/lib/python3.7/dist-packages (from requests<3.0.0,>=2.13.0->spacy) (2.10)\n",
            "Requirement already satisfied, skipping upgrade: zipp>=0.5; python_version < \"3.8\" in /usr/local/lib/python3.7/dist-packages (from catalogue<2.1.0,>=2.0.3->spacy) (3.4.1)\n",
            "Requirement already satisfied, skipping upgrade: MarkupSafe>=0.23 in /usr/local/lib/python3.7/dist-packages (from jinja2->spacy) (1.1.1)\n",
            "Requirement already satisfied, skipping upgrade: pyparsing>=2.0.2 in /usr/local/lib/python3.7/dist-packages (from packaging>=20.0->spacy) (2.4.7)\n",
            "Building wheels for collected packages: smart-open\n",
            "  Building wheel for smart-open (setup.py) ... \u001b[?25l\u001b[?25hdone\n",
            "  Created wheel for smart-open: filename=smart_open-3.0.0-cp37-none-any.whl size=107098 sha256=80a3829204690a02fe4b2b89d66f10c759294050cd04f38915471cb1729ba3cd\n",
            "  Stored in directory: /root/.cache/pip/wheels/18/88/7c/f06dabd5e9cabe02d2269167bcacbbf9b47d0c0ff7d6ebcb78\n",
            "Successfully built smart-open\n",
            "Installing collected packages: typer, catalogue, srsly, pydantic, thinc, spacy-legacy, smart-open, pathy, spacy\n",
            "  Found existing installation: catalogue 1.0.0\n",
            "    Uninstalling catalogue-1.0.0:\n",
            "      Successfully uninstalled catalogue-1.0.0\n",
            "  Found existing installation: srsly 1.0.5\n",
            "    Uninstalling srsly-1.0.5:\n",
            "      Successfully uninstalled srsly-1.0.5\n",
            "  Found existing installation: thinc 7.4.0\n",
            "    Uninstalling thinc-7.4.0:\n",
            "      Successfully uninstalled thinc-7.4.0\n",
            "  Found existing installation: smart-open 5.0.0\n",
            "    Uninstalling smart-open-5.0.0:\n",
            "      Successfully uninstalled smart-open-5.0.0\n",
            "  Found existing installation: spacy 2.2.4\n",
            "    Uninstalling spacy-2.2.4:\n",
            "      Successfully uninstalled spacy-2.2.4\n",
            "Successfully installed catalogue-2.0.4 pathy-0.5.2 pydantic-1.7.3 smart-open-3.0.0 spacy-3.0.6 spacy-legacy-3.0.5 srsly-2.4.1 thinc-8.0.3 typer-0.3.2\n"
          ],
          "name": "stdout"
        },
        {
          "output_type": "display_data",
          "data": {
            "application/vnd.colab-display-data+json": {
              "pip_warning": {
                "packages": [
                  "catalogue",
                  "spacy",
                  "srsly",
                  "thinc"
                ]
              }
            }
          },
          "metadata": {
            "tags": []
          }
        },
        {
          "output_type": "stream",
          "text": [
            "2021-05-01 06:34:12.797036: I tensorflow/stream_executor/platform/default/dso_loader.cc:49] Successfully opened dynamic library libcudart.so.11.0\n",
            "Collecting en-core-web-lg==3.0.0\n",
            "\u001b[?25l  Downloading https://github.com/explosion/spacy-models/releases/download/en_core_web_lg-3.0.0/en_core_web_lg-3.0.0-py3-none-any.whl (778.8MB)\n",
            "\u001b[K     |████████████████████████████████| 778.8MB 22kB/s \n",
            "\u001b[?25hRequirement already satisfied: spacy<3.1.0,>=3.0.0 in /usr/local/lib/python3.7/dist-packages (from en-core-web-lg==3.0.0) (3.0.6)\n",
            "Requirement already satisfied: pathy>=0.3.5 in /usr/local/lib/python3.7/dist-packages (from spacy<3.1.0,>=3.0.0->en-core-web-lg==3.0.0) (0.5.2)\n",
            "Requirement already satisfied: tqdm<5.0.0,>=4.38.0 in /usr/local/lib/python3.7/dist-packages (from spacy<3.1.0,>=3.0.0->en-core-web-lg==3.0.0) (4.41.1)\n",
            "Requirement already satisfied: typer<0.4.0,>=0.3.0 in /usr/local/lib/python3.7/dist-packages (from spacy<3.1.0,>=3.0.0->en-core-web-lg==3.0.0) (0.3.2)\n",
            "Requirement already satisfied: numpy>=1.15.0 in /usr/local/lib/python3.7/dist-packages (from spacy<3.1.0,>=3.0.0->en-core-web-lg==3.0.0) (1.19.5)\n",
            "Requirement already satisfied: murmurhash<1.1.0,>=0.28.0 in /usr/local/lib/python3.7/dist-packages (from spacy<3.1.0,>=3.0.0->en-core-web-lg==3.0.0) (1.0.5)\n",
            "Requirement already satisfied: wasabi<1.1.0,>=0.8.1 in /usr/local/lib/python3.7/dist-packages (from spacy<3.1.0,>=3.0.0->en-core-web-lg==3.0.0) (0.8.2)\n",
            "Requirement already satisfied: catalogue<2.1.0,>=2.0.3 in /usr/local/lib/python3.7/dist-packages (from spacy<3.1.0,>=3.0.0->en-core-web-lg==3.0.0) (2.0.4)\n",
            "Requirement already satisfied: srsly<3.0.0,>=2.4.1 in /usr/local/lib/python3.7/dist-packages (from spacy<3.1.0,>=3.0.0->en-core-web-lg==3.0.0) (2.4.1)\n",
            "Requirement already satisfied: requests<3.0.0,>=2.13.0 in /usr/local/lib/python3.7/dist-packages (from spacy<3.1.0,>=3.0.0->en-core-web-lg==3.0.0) (2.23.0)\n",
            "Requirement already satisfied: preshed<3.1.0,>=3.0.2 in /usr/local/lib/python3.7/dist-packages (from spacy<3.1.0,>=3.0.0->en-core-web-lg==3.0.0) (3.0.5)\n",
            "Requirement already satisfied: blis<0.8.0,>=0.4.0 in /usr/local/lib/python3.7/dist-packages (from spacy<3.1.0,>=3.0.0->en-core-web-lg==3.0.0) (0.4.1)\n",
            "Requirement already satisfied: pydantic<1.8.0,>=1.7.1 in /usr/local/lib/python3.7/dist-packages (from spacy<3.1.0,>=3.0.0->en-core-web-lg==3.0.0) (1.7.3)\n",
            "Requirement already satisfied: setuptools in /usr/local/lib/python3.7/dist-packages (from spacy<3.1.0,>=3.0.0->en-core-web-lg==3.0.0) (56.0.0)\n",
            "Requirement already satisfied: typing-extensions<4.0.0.0,>=3.7.4; python_version < \"3.8\" in /usr/local/lib/python3.7/dist-packages (from spacy<3.1.0,>=3.0.0->en-core-web-lg==3.0.0) (3.7.4.3)\n",
            "Requirement already satisfied: thinc<8.1.0,>=8.0.3 in /usr/local/lib/python3.7/dist-packages (from spacy<3.1.0,>=3.0.0->en-core-web-lg==3.0.0) (8.0.3)\n",
            "Requirement already satisfied: spacy-legacy<3.1.0,>=3.0.4 in /usr/local/lib/python3.7/dist-packages (from spacy<3.1.0,>=3.0.0->en-core-web-lg==3.0.0) (3.0.5)\n",
            "Requirement already satisfied: jinja2 in /usr/local/lib/python3.7/dist-packages (from spacy<3.1.0,>=3.0.0->en-core-web-lg==3.0.0) (2.11.3)\n",
            "Requirement already satisfied: cymem<2.1.0,>=2.0.2 in /usr/local/lib/python3.7/dist-packages (from spacy<3.1.0,>=3.0.0->en-core-web-lg==3.0.0) (2.0.5)\n",
            "Requirement already satisfied: packaging>=20.0 in /usr/local/lib/python3.7/dist-packages (from spacy<3.1.0,>=3.0.0->en-core-web-lg==3.0.0) (20.9)\n",
            "Requirement already satisfied: smart-open<4.0.0,>=2.2.0 in /usr/local/lib/python3.7/dist-packages (from pathy>=0.3.5->spacy<3.1.0,>=3.0.0->en-core-web-lg==3.0.0) (3.0.0)\n",
            "Requirement already satisfied: click<7.2.0,>=7.1.1 in /usr/local/lib/python3.7/dist-packages (from typer<0.4.0,>=0.3.0->spacy<3.1.0,>=3.0.0->en-core-web-lg==3.0.0) (7.1.2)\n",
            "Requirement already satisfied: zipp>=0.5; python_version < \"3.8\" in /usr/local/lib/python3.7/dist-packages (from catalogue<2.1.0,>=2.0.3->spacy<3.1.0,>=3.0.0->en-core-web-lg==3.0.0) (3.4.1)\n",
            "Requirement already satisfied: chardet<4,>=3.0.2 in /usr/local/lib/python3.7/dist-packages (from requests<3.0.0,>=2.13.0->spacy<3.1.0,>=3.0.0->en-core-web-lg==3.0.0) (3.0.4)\n",
            "Requirement already satisfied: certifi>=2017.4.17 in /usr/local/lib/python3.7/dist-packages (from requests<3.0.0,>=2.13.0->spacy<3.1.0,>=3.0.0->en-core-web-lg==3.0.0) (2020.12.5)\n",
            "Requirement already satisfied: idna<3,>=2.5 in /usr/local/lib/python3.7/dist-packages (from requests<3.0.0,>=2.13.0->spacy<3.1.0,>=3.0.0->en-core-web-lg==3.0.0) (2.10)\n",
            "Requirement already satisfied: urllib3!=1.25.0,!=1.25.1,<1.26,>=1.21.1 in /usr/local/lib/python3.7/dist-packages (from requests<3.0.0,>=2.13.0->spacy<3.1.0,>=3.0.0->en-core-web-lg==3.0.0) (1.24.3)\n",
            "Requirement already satisfied: MarkupSafe>=0.23 in /usr/local/lib/python3.7/dist-packages (from jinja2->spacy<3.1.0,>=3.0.0->en-core-web-lg==3.0.0) (1.1.1)\n",
            "Requirement already satisfied: pyparsing>=2.0.2 in /usr/local/lib/python3.7/dist-packages (from packaging>=20.0->spacy<3.1.0,>=3.0.0->en-core-web-lg==3.0.0) (2.4.7)\n",
            "Installing collected packages: en-core-web-lg\n",
            "Successfully installed en-core-web-lg-3.0.0\n",
            "\u001b[38;5;2m✔ Download and installation successful\u001b[0m\n",
            "You can now load the package via spacy.load('en_core_web_lg')\n"
          ],
          "name": "stdout"
        }
      ]
    },
    {
      "cell_type": "markdown",
      "metadata": {
        "id": "izeopiT6Qjw3"
      },
      "source": [
        "< Restart the Runtime >"
      ]
    },
    {
      "cell_type": "code",
      "metadata": {
        "id": "67y5djfgfkTB"
      },
      "source": [
        "# Import necessary libraries\n",
        "import pandas as pd\n",
        "import plotly as py\n",
        "import cufflinks\n",
        "import plotly.express as px\n",
        "import plotly.graph_objects as go\n",
        "from wordcloud import WordCloud, STOPWORDS\n",
        "from branca.element import Figure\n",
        "import folium \n",
        "import matplotlib.pyplot as pPlot\n",
        "import numpy as npy\n",
        "from PIL import Image\n",
        "from IPython.display import Image as img"
      ],
      "execution_count": null,
      "outputs": []
    },
    {
      "cell_type": "code",
      "metadata": {
        "colab": {
          "base_uri": "https://localhost:8080/"
        },
        "id": "exqxgTbDfsbM",
        "outputId": "55d6283c-775a-42c3-d3f9-605769fc423a"
      },
      "source": [
        "# mount google drive\n",
        "from google.colab import drive\n",
        "drive.mount('/content/drive')"
      ],
      "execution_count": null,
      "outputs": [
        {
          "output_type": "stream",
          "text": [
            "Mounted at /content/drive\n"
          ],
          "name": "stdout"
        }
      ]
    },
    {
      "cell_type": "markdown",
      "metadata": {
        "id": "JmSGa5JTf3cO"
      },
      "source": [
        "**Read Dataset**"
      ]
    },
    {
      "cell_type": "code",
      "metadata": {
        "id": "6t2uRB2LfmC5"
      },
      "source": [
        "# Read the data and delete uninterested columns\n",
        "review_business_data_merged=pd.read_csv('/content/drive/MyDrive/yelp_reviews_business_merged.csv')\n",
        "review_business_data_merged=review_business_data_merged.drop(columns=['Unnamed: 0','cool','funny','attributes','is_open','serves_food','useful','hours'])"
      ],
      "execution_count": null,
      "outputs": []
    },
    {
      "cell_type": "code",
      "metadata": {
        "colab": {
          "base_uri": "https://localhost:8080/"
        },
        "id": "b9pjkRV4bnCZ",
        "outputId": "fed9c989-05eb-44f5-c6ce-cbbca839f33c"
      },
      "source": [
        "# Null Check\n",
        "review_business_data_merged.isna().sum()"
      ],
      "execution_count": null,
      "outputs": [
        {
          "output_type": "execute_result",
          "data": {
            "text/plain": [
              "business_id        0\n",
              "date               0\n",
              "review_id          0\n",
              "stars_x            0\n",
              "text               0\n",
              "user_id            0\n",
              "address         2026\n",
              "categories         0\n",
              "city               0\n",
              "latitude           0\n",
              "longitude          0\n",
              "name               0\n",
              "postal_code       55\n",
              "review_count       0\n",
              "stars_y            0\n",
              "state              0\n",
              "dtype: int64"
            ]
          },
          "metadata": {
            "tags": []
          },
          "execution_count": 7
        }
      ]
    },
    {
      "cell_type": "markdown",
      "metadata": {
        "id": "FS3ToHbUcD-P"
      },
      "source": [
        "**Sample Reviews**"
      ]
    },
    {
      "cell_type": "markdown",
      "metadata": {
        "id": "7Y1-5bxdbueG"
      },
      "source": [
        "Few of the addresses and postal codes are none, but no reviews are null, so we can use all"
      ]
    },
    {
      "cell_type": "code",
      "metadata": {
        "colab": {
          "base_uri": "https://localhost:8080/"
        },
        "id": "RDCoJK0hb9pX",
        "outputId": "a64a8a17-2e34-4258-8ec2-06e5f5bd0583"
      },
      "source": [
        "print(review_business_data_merged.iloc[123]['text'])\n",
        "print(review_business_data_merged.iloc[1243]['text'])\n",
        "print(review_business_data_merged.iloc[23]['text'])\n",
        "print(review_business_data_merged.iloc[389]['text'])\n"
      ],
      "execution_count": null,
      "outputs": [
        {
          "output_type": "stream",
          "text": [
            "What a relief to have a great meal in an airport. The Salmon hot pot was excellent. Can't wait to return!\n",
            "It's not about the money! We went out thinking we would spend some good US dollars on the evening's dinner and a movie. The website said only Premium seats available, so we picked those. Once we got there we learned that there were plenty of Ultra Premium seats and the Premium seats did not get food or drink service. We waited in line for the food that was way below expectations. Note to self: never, ever stray from Alamo...much better food service and great atmosphere!\n",
            "Enjoyed the food, just not so much the ordering style. Basically you order as if you are in a sushi joint. You check off what you'd like. But, there were quite a few options, more than I would like to see when I'm hungry. \n",
            "\n",
            "With that said, the food was good, the server was very nice and helpful (albeit very quite/low voice), and I would definitely go back!\n",
            "TL:DNR - Delivery sucks, food was cold and flavorless.\n",
            "\n",
            "Delivery:\n",
            "We flew into Boston and got in super late and found that this place was open until 3am! Score! We made the order through Yelp at 1:05am last night, thinking we'll have some awesome food to eat! We called to make sure that they received the order and was, indeed, delivering it. They told us 40 minutes. This was at 1:10am. \n",
            "\n",
            "2AM - No food. We call and they tell us that the guy left half an hour ago and should be there any minute. We call the third party ordering system 15 minutes later (2:15am) and ask them where's our order. We're starving. We haven't eaten real food (only plane snacks) since noon west coast time, since we've been on the plane the whole time, we were just hungry. They tell us to keep waiting. Our food finally shows up at 2:38am. They apologized and said it was very busy.\n",
            "\n",
            "Food:\n",
            "You'd think that because we were so hungry, we'd just think the food was delicious all around, right? No. It was not. The food was barely warm, and mostly closer to room temperature. We ordered the Taiwan Style Wonton Soup - the soup was flavorless, the noodles were mushy, but the wontons had decent flavor to them. The soup tasted like a watered down version of how the soup should be. We also got the beef fried rice, which was fine for fried rice. We also got the Panfried Pork Buns Shanghai Style, which was cold by the time we got it, so it was pretty gross. I can't speak to how it might taste when it's warm.\n",
            "\n",
            "I can't say that I can really update this review because I don't live in the area, but it did suck to hope for good food at the end of the night after a long flight only to be disappointed with a cold and flavorless meal. If you're ordering delivery, just be aware.\n"
          ],
          "name": "stdout"
        }
      ]
    },
    {
      "cell_type": "markdown",
      "metadata": {
        "id": "jyIgXZshccMn"
      },
      "source": [
        "**Mapping the sentiments of the Reviews**"
      ]
    },
    {
      "cell_type": "code",
      "metadata": {
        "id": "OQTQnJzFfyTf"
      },
      "source": [
        "# starts 4-5: Positive(1), stars 1-2: Negative(3), stars 3: Neutral(2) \n",
        "def map_sentiment(rating):\n",
        "    if(int(rating)==3):\n",
        "        return 2\n",
        "    elif(int(rating)<3):\n",
        "        return 3\n",
        "    else:\n",
        "        return 1  \n",
        "          \n",
        "review_business_data_merged['stars_x']\n",
        "review_sentiments=[map_sentiment(s) for s in review_business_data_merged['stars_x']]\n",
        "review_business_data_merged['sentiments']=review_sentiments"
      ],
      "execution_count": null,
      "outputs": []
    },
    {
      "cell_type": "markdown",
      "metadata": {
        "id": "qYgNsHuff-4B"
      },
      "source": [
        "**Sort The Businesses Based on Number of Reviews**"
      ]
    },
    {
      "cell_type": "code",
      "metadata": {
        "colab": {
          "base_uri": "https://localhost:8080/"
        },
        "id": "Qaogsb1Wf_Cr",
        "outputId": "fe3d0d48-e068-417e-d555-f437341c1dcb"
      },
      "source": [
        "review_business_data_merged['date']=pd.to_datetime(review_business_data_merged.date)\n",
        "review_business_data_merged.value_counts(['business_id'])"
      ],
      "execution_count": null,
      "outputs": [
        {
          "output_type": "execute_result",
          "data": {
            "text/plain": [
              "business_id           \n",
              "4CxF8c3MB7VAdY8zFb2cZQ    940\n",
              "OQ2oHkcWA8KNC1Lsvj1SBA    766\n",
              "PrsvO1rzkgg6qFizlAoEtg    752\n",
              "zioLxtBc9THNS2TOn9xW1w    647\n",
              "y2w6rFaO0XEiG5mFfOsiFA    550\n",
              "                         ... \n",
              "x_LapuF4Zkn5lySuAsfePQ      1\n",
              "GyLoT8b77CbRILV-E1E63A      1\n",
              "prsJIdfNXTNcSgZbFwR72Q      1\n",
              "cOTBEbXhuEmAqFgOyDs48w      1\n",
              "Mcd7-su1Uu6Pi46OCziV_w      1\n",
              "Length: 55134, dtype: int64"
            ]
          },
          "metadata": {
            "tags": []
          },
          "execution_count": 6
        }
      ]
    },
    {
      "cell_type": "code",
      "metadata": {
        "id": "A1p7mJgGjC7v"
      },
      "source": [
        "# Get most review business ids\n",
        "ids=review_business_data_merged.value_counts(['business_id'])\n",
        "ids=[list(ids.index[i])[0] for i in range(len(ids))]\n"
      ],
      "execution_count": null,
      "outputs": []
    },
    {
      "cell_type": "code",
      "metadata": {
        "id": "eqGLNu2IXoUc"
      },
      "source": [
        "data0=review_business_data_merged[review_business_data_merged['business_id']==ids[0]]\n",
        "data1=review_business_data_merged[review_business_data_merged['business_id']==ids[1]]\n",
        "data2=review_business_data_merged[review_business_data_merged['business_id']==ids[2]]\n",
        "data3=review_business_data_merged[review_business_data_merged['business_id']==ids[3]]\n",
        "data4=review_business_data_merged[review_business_data_merged['business_id']==ids[4]]\n",
        "data=pd.concat([data0,data1,data2,data3,data4])\n",
        "len(data)\n",
        "data.to_csv('yelp_reviews_business_merged.csv')"
      ],
      "execution_count": null,
      "outputs": []
    },
    {
      "cell_type": "code",
      "metadata": {
        "colab": {
          "base_uri": "https://localhost:8080/"
        },
        "id": "Ghc6wcoXRVOS",
        "outputId": "d9a7ada7-57b6-4b9c-dea1-720c1e2e8b85"
      },
      "source": [
        "data_most_reviewed_store=review_business_data_merged[review_business_data_merged['business_id']=='y2w6rFaO0XEiG5mFfOsiFA'].sort_values(by=['date'])\n",
        "data_most_reviewed_store.shape\n",
        "business_name=data_most_reviewed_store.iloc[0]['name']\n",
        "business_lat=data_most_reviewed_store.iloc[0]['latitude']\n",
        "business_long=data_most_reviewed_store.iloc[0]['longitude']\n",
        "business_rating=data_most_reviewed_store.iloc[0]['stars_y']\n",
        "print('Name of the Store:',business_name)\n",
        "print('Overall rating of the store:',business_rating)"
      ],
      "execution_count": null,
      "outputs": [
        {
          "output_type": "stream",
          "text": [
            "Name of the Store: Neptune Oyster\n",
            "Overall rating of the store: 4.5\n"
          ],
          "name": "stdout"
        }
      ]
    },
    {
      "cell_type": "markdown",
      "metadata": {
        "id": "Ya5wA71Rctrn"
      },
      "source": [
        "Let's take the reviews of the most reviewed story and try to understand the customer's feeling towards the store"
      ]
    },
    {
      "cell_type": "markdown",
      "metadata": {
        "id": "oaPELRwZgJUL"
      },
      "source": [
        "**Most Reviewed Store**"
      ]
    },
    {
      "cell_type": "code",
      "metadata": {
        "colab": {
          "base_uri": "https://localhost:8080/"
        },
        "id": "5f4VPxwpgKRH",
        "outputId": "651a7c8d-875d-4bde-b549-b60256d71c70"
      },
      "source": [
        "data_most_reviewed_store=review_business_data_merged[review_business_data_merged['business_id']=='4CxF8c3MB7VAdY8zFb2cZQ'].sort_values(by=['date'])\n",
        "data_most_reviewed_store.shape\n",
        "business_name=data_most_reviewed_store.iloc[0]['name']\n",
        "business_lat=data_most_reviewed_store.iloc[0]['latitude']\n",
        "business_long=data_most_reviewed_store.iloc[0]['longitude']\n",
        "business_rating=data_most_reviewed_store.iloc[0]['stars_y']\n",
        "print('Name of the Store:',business_name)\n",
        "print('Overall rating of the store:',business_rating)"
      ],
      "execution_count": null,
      "outputs": [
        {
          "output_type": "stream",
          "text": [
            "Name of the Store: Voodoo Doughnut - Old Town\n",
            "Overall rating of the store: 3.5\n"
          ],
          "name": "stdout"
        }
      ]
    },
    {
      "cell_type": "markdown",
      "metadata": {
        "id": "HFJghvaNgVFP"
      },
      "source": [
        "**Where is it located?**"
      ]
    },
    {
      "cell_type": "code",
      "metadata": {
        "colab": {
          "base_uri": "https://localhost:8080/",
          "height": 371
        },
        "id": "CRKO_NongWC-",
        "outputId": "d2a2dfe3-142a-432a-97fe-070ad109b930"
      },
      "source": [
        "# Visualizing the location of the store\n",
        "\n",
        "fig=Figure(width=550,height=350)\n",
        "m1=folium.Map(width=550,height=350,location=[45.5226, -122.673],zoom_start=11,min_zoom=8,max_zoom=14)\n",
        "folium.Marker(location=[45.5226, -122.673],popup=business_name,tooltip=business_name).add_to(m1)\n",
        "fig.add_child(m1)\n",
        "m1"
      ],
      "execution_count": null,
      "outputs": [
        {
          "output_type": "execute_result",
          "data": {
            "text/html": [
              "<iframe src=\"about:blank\" width=\"550\" height=\"350\"style=\"border:none !important;\" data-html=%3C%21DOCTYPE%20html%3E%0A%3Chead%3E%20%20%20%20%0A%20%20%20%20%3Cmeta%20http-equiv%3D%22content-type%22%20content%3D%22text/html%3B%20charset%3DUTF-8%22%20/%3E%0A%20%20%20%20%3Cscript%3EL_PREFER_CANVAS%3Dfalse%3B%20L_NO_TOUCH%3Dfalse%3B%20L_DISABLE_3D%3Dfalse%3B%3C/script%3E%0A%20%20%20%20%3Cscript%20src%3D%22https%3A//cdn.jsdelivr.net/npm/leaflet%401.4.0/dist/leaflet.js%22%3E%3C/script%3E%0A%20%20%20%20%3Cscript%20src%3D%22https%3A//code.jquery.com/jquery-1.12.4.min.js%22%3E%3C/script%3E%0A%20%20%20%20%3Cscript%20src%3D%22https%3A//maxcdn.bootstrapcdn.com/bootstrap/3.2.0/js/bootstrap.min.js%22%3E%3C/script%3E%0A%20%20%20%20%3Cscript%20src%3D%22https%3A//cdnjs.cloudflare.com/ajax/libs/Leaflet.awesome-markers/2.0.2/leaflet.awesome-markers.js%22%3E%3C/script%3E%0A%20%20%20%20%3Clink%20rel%3D%22stylesheet%22%20href%3D%22https%3A//cdn.jsdelivr.net/npm/leaflet%401.4.0/dist/leaflet.css%22/%3E%0A%20%20%20%20%3Clink%20rel%3D%22stylesheet%22%20href%3D%22https%3A//maxcdn.bootstrapcdn.com/bootstrap/3.2.0/css/bootstrap.min.css%22/%3E%0A%20%20%20%20%3Clink%20rel%3D%22stylesheet%22%20href%3D%22https%3A//maxcdn.bootstrapcdn.com/bootstrap/3.2.0/css/bootstrap-theme.min.css%22/%3E%0A%20%20%20%20%3Clink%20rel%3D%22stylesheet%22%20href%3D%22https%3A//maxcdn.bootstrapcdn.com/font-awesome/4.6.3/css/font-awesome.min.css%22/%3E%0A%20%20%20%20%3Clink%20rel%3D%22stylesheet%22%20href%3D%22https%3A//cdnjs.cloudflare.com/ajax/libs/Leaflet.awesome-markers/2.0.2/leaflet.awesome-markers.css%22/%3E%0A%20%20%20%20%3Clink%20rel%3D%22stylesheet%22%20href%3D%22https%3A//rawcdn.githack.com/python-visualization/folium/master/folium/templates/leaflet.awesome.rotate.css%22/%3E%0A%20%20%20%20%3Cstyle%3Ehtml%2C%20body%20%7Bwidth%3A%20100%25%3Bheight%3A%20100%25%3Bmargin%3A%200%3Bpadding%3A%200%3B%7D%3C/style%3E%0A%20%20%20%20%3Cstyle%3E%23map%20%7Bposition%3Aabsolute%3Btop%3A0%3Bbottom%3A0%3Bright%3A0%3Bleft%3A0%3B%7D%3C/style%3E%0A%20%20%20%20%0A%20%20%20%20%3Cmeta%20name%3D%22viewport%22%20content%3D%22width%3Ddevice-width%2C%0A%20%20%20%20%20%20%20%20initial-scale%3D1.0%2C%20maximum-scale%3D1.0%2C%20user-scalable%3Dno%22%20/%3E%0A%20%20%20%20%3Cstyle%3E%23map_90eab2e934924a73ab109725be9f32e9%20%7B%0A%20%20%20%20%20%20%20%20position%3A%20relative%3B%0A%20%20%20%20%20%20%20%20width%3A%20550.0px%3B%0A%20%20%20%20%20%20%20%20height%3A%20350.0px%3B%0A%20%20%20%20%20%20%20%20left%3A%200.0%25%3B%0A%20%20%20%20%20%20%20%20top%3A%200.0%25%3B%0A%20%20%20%20%20%20%20%20%7D%0A%20%20%20%20%3C/style%3E%0A%3C/head%3E%0A%3Cbody%3E%20%20%20%20%0A%20%20%20%20%0A%20%20%20%20%3Cdiv%20class%3D%22folium-map%22%20id%3D%22map_90eab2e934924a73ab109725be9f32e9%22%20%3E%3C/div%3E%0A%3C/body%3E%0A%3Cscript%3E%20%20%20%20%0A%20%20%20%20%0A%20%20%20%20%0A%20%20%20%20%20%20%20%20var%20bounds%20%3D%20null%3B%0A%20%20%20%20%0A%0A%20%20%20%20var%20map_90eab2e934924a73ab109725be9f32e9%20%3D%20L.map%28%0A%20%20%20%20%20%20%20%20%27map_90eab2e934924a73ab109725be9f32e9%27%2C%20%7B%0A%20%20%20%20%20%20%20%20center%3A%20%5B45.5226%2C%20-122.673%5D%2C%0A%20%20%20%20%20%20%20%20zoom%3A%2011%2C%0A%20%20%20%20%20%20%20%20maxBounds%3A%20bounds%2C%0A%20%20%20%20%20%20%20%20layers%3A%20%5B%5D%2C%0A%20%20%20%20%20%20%20%20worldCopyJump%3A%20false%2C%0A%20%20%20%20%20%20%20%20crs%3A%20L.CRS.EPSG3857%2C%0A%20%20%20%20%20%20%20%20zoomControl%3A%20true%2C%0A%20%20%20%20%20%20%20%20%7D%29%3B%0A%0A%0A%20%20%20%20%0A%20%20%20%20var%20tile_layer_2e6fc7f033e14010bbbaaf6cf63d2351%20%3D%20L.tileLayer%28%0A%20%20%20%20%20%20%20%20%27https%3A//%7Bs%7D.tile.openstreetmap.org/%7Bz%7D/%7Bx%7D/%7By%7D.png%27%2C%0A%20%20%20%20%20%20%20%20%7B%0A%20%20%20%20%20%20%20%20%22attribution%22%3A%20null%2C%0A%20%20%20%20%20%20%20%20%22detectRetina%22%3A%20false%2C%0A%20%20%20%20%20%20%20%20%22maxNativeZoom%22%3A%2014%2C%0A%20%20%20%20%20%20%20%20%22maxZoom%22%3A%2014%2C%0A%20%20%20%20%20%20%20%20%22minZoom%22%3A%208%2C%0A%20%20%20%20%20%20%20%20%22noWrap%22%3A%20false%2C%0A%20%20%20%20%20%20%20%20%22opacity%22%3A%201%2C%0A%20%20%20%20%20%20%20%20%22subdomains%22%3A%20%22abc%22%2C%0A%20%20%20%20%20%20%20%20%22tms%22%3A%20false%0A%7D%29.addTo%28map_90eab2e934924a73ab109725be9f32e9%29%3B%0A%20%20%20%20%0A%20%20%20%20%20%20%20%20var%20marker_bd47fc60093e4f78b585247f12d6e9d6%20%3D%20L.marker%28%0A%20%20%20%20%20%20%20%20%20%20%20%20%5B45.5226%2C%20-122.673%5D%2C%0A%20%20%20%20%20%20%20%20%20%20%20%20%7B%0A%20%20%20%20%20%20%20%20%20%20%20%20%20%20%20%20icon%3A%20new%20L.Icon.Default%28%29%2C%0A%20%20%20%20%20%20%20%20%20%20%20%20%20%20%20%20%7D%0A%20%20%20%20%20%20%20%20%20%20%20%20%29.addTo%28map_90eab2e934924a73ab109725be9f32e9%29%3B%0A%20%20%20%20%20%20%20%20%0A%20%20%20%20%0A%20%20%20%20%20%20%20%20%20%20%20%20var%20popup_030f737846e44e75b50c1ddcf4d4cdf1%20%3D%20L.popup%28%7BmaxWidth%3A%20%27100%25%27%0A%20%20%20%20%20%20%20%20%20%20%20%20%0A%20%20%20%20%20%20%20%20%20%20%20%20%7D%29%3B%0A%0A%20%20%20%20%20%20%20%20%20%20%20%20%0A%20%20%20%20%20%20%20%20%20%20%20%20%20%20%20%20var%20html_bbfb8604c94c4f838655ce217f7b378e%20%3D%20%24%28%60%3Cdiv%20id%3D%22html_bbfb8604c94c4f838655ce217f7b378e%22%20style%3D%22width%3A%20100.0%25%3B%20height%3A%20100.0%25%3B%22%3EVoodoo%20Doughnut%20-%20Old%20Town%3C/div%3E%60%29%5B0%5D%3B%0A%20%20%20%20%20%20%20%20%20%20%20%20%20%20%20%20popup_030f737846e44e75b50c1ddcf4d4cdf1.setContent%28html_bbfb8604c94c4f838655ce217f7b378e%29%3B%0A%20%20%20%20%20%20%20%20%20%20%20%20%0A%0A%20%20%20%20%20%20%20%20%20%20%20%20marker_bd47fc60093e4f78b585247f12d6e9d6.bindPopup%28popup_030f737846e44e75b50c1ddcf4d4cdf1%29%0A%20%20%20%20%20%20%20%20%20%20%20%20%3B%0A%0A%20%20%20%20%20%20%20%20%20%20%20%20%0A%20%20%20%20%20%20%20%20%0A%20%20%20%20%0A%20%20%20%20%20%20%20%20marker_bd47fc60093e4f78b585247f12d6e9d6.bindTooltip%28%0A%20%20%20%20%20%20%20%20%20%20%20%20%60%3Cdiv%3E%60%0A%20%20%20%20%20%20%20%20%20%20%20%20%2B%20%60Voodoo%20Doughnut%20-%20Old%20Town%60%20%2B%20%60%3C/div%3E%60%2C%0A%20%20%20%20%20%20%20%20%20%20%20%20%7B%22sticky%22%3A%20true%7D%0A%20%20%20%20%20%20%20%20%29%3B%0A%20%20%20%20%20%20%20%20%0A%3C/script%3E onload=\"this.contentDocument.open();this.contentDocument.write(    decodeURIComponent(this.getAttribute('data-html')));this.contentDocument.close();\" \"allowfullscreen\" \"webkitallowfullscreen\" \"mozallowfullscreen\"></iframe>"
            ],
            "text/plain": [
              "<folium.folium.Map at 0x7fab19be4f90>"
            ]
          },
          "metadata": {
            "tags": []
          },
          "execution_count": 7
        }
      ]
    },
    {
      "cell_type": "markdown",
      "metadata": {
        "id": "aOTeu4omgdo9"
      },
      "source": [
        "**How people rated the store?**"
      ]
    },
    {
      "cell_type": "code",
      "metadata": {
        "colab": {
          "base_uri": "https://localhost:8080/",
          "height": 517
        },
        "id": "qyLsN3Kagf_u",
        "outputId": "30a871df-29e2-446b-f3f4-1a1948553009"
      },
      "source": [
        "# Visualize the ratings\n",
        "\n",
        "rating_5=len(data_most_reviewed_store[data_most_reviewed_store['stars_x']==5])\n",
        "rating_4=len(data_most_reviewed_store[data_most_reviewed_store['stars_x']==4])\n",
        "rating_3=len(data_most_reviewed_store[data_most_reviewed_store['stars_x']==3])\n",
        "rating_2=len(data_most_reviewed_store[data_most_reviewed_store['stars_x']==2])\n",
        "rating_1=len(data_most_reviewed_store[data_most_reviewed_store['stars_x']==1]) \n",
        "def getStarRatings():             \n",
        "    fig = go.Figure()\n",
        "    fig.add_trace(go.Bar(\n",
        "            y=[1],\n",
        "            x=[rating_1],\n",
        "            name='1',\n",
        "            orientation='h',marker=dict(\n",
        "        color='rgb(255, 51, 51)'\n",
        "    )))\n",
        "    fig.add_trace(go.Bar(\n",
        "            y=[2],\n",
        "            name='2',\n",
        "            x=[rating_2],\n",
        "            orientation='h',marker=dict(\n",
        "        color='rgb(255, 92, 51)'\n",
        "    )))\n",
        "    fig.add_trace(go.Bar(\n",
        "            y=[3],\n",
        "            name='3',\n",
        "            x=[rating_3],\n",
        "            orientation='h',marker=dict(\n",
        "        color='rgb(255, 255, 77)'\n",
        "    )))\n",
        "    fig.add_trace(go.Bar(\n",
        "            y=[4],\n",
        "            name='4',\n",
        "            x=[rating_4],\n",
        "            orientation='h',marker=dict(\n",
        "        color='rgb(77, 255, 166)'\n",
        "    )))\n",
        "    fig.add_trace(go.Bar(\n",
        "            y=[5],\n",
        "            name='5',\n",
        "            x=[rating_5],\n",
        "            orientation='h',marker=dict(\n",
        "        color='rgb(166, 255, 77)'\n",
        "        \n",
        "     ))),\n",
        "    fig.update_layout(\n",
        "     autosize=False,\n",
        "     width=500,\n",
        "     height=500,\n",
        "     title='Distribution of Review Ratings'\n",
        "    )\n",
        "    return fig\n",
        "getStarRatings()    "
      ],
      "execution_count": null,
      "outputs": [
        {
          "output_type": "display_data",
          "data": {
            "text/html": [
              "<html>\n",
              "<head><meta charset=\"utf-8\" /></head>\n",
              "<body>\n",
              "    <div>\n",
              "            <script src=\"https://cdnjs.cloudflare.com/ajax/libs/mathjax/2.7.5/MathJax.js?config=TeX-AMS-MML_SVG\"></script><script type=\"text/javascript\">if (window.MathJax) {MathJax.Hub.Config({SVG: {font: \"STIX-Web\"}});}</script>\n",
              "                <script type=\"text/javascript\">window.PlotlyConfig = {MathJaxConfig: 'local'};</script>\n",
              "        <script src=\"https://cdn.plot.ly/plotly-latest.min.js\"></script>    \n",
              "            <div id=\"d5cb56b1-d24f-4f00-bb38-100f95bad7af\" class=\"plotly-graph-div\" style=\"height:500px; width:500px;\"></div>\n",
              "            <script type=\"text/javascript\">\n",
              "                \n",
              "                    window.PLOTLYENV=window.PLOTLYENV || {};\n",
              "                    \n",
              "                if (document.getElementById(\"d5cb56b1-d24f-4f00-bb38-100f95bad7af\")) {\n",
              "                    Plotly.newPlot(\n",
              "                        'd5cb56b1-d24f-4f00-bb38-100f95bad7af',\n",
              "                        [{\"marker\": {\"color\": \"rgb(255, 51, 51)\"}, \"name\": \"1\", \"orientation\": \"h\", \"type\": \"bar\", \"x\": [68], \"y\": [1]}, {\"marker\": {\"color\": \"rgb(255, 92, 51)\"}, \"name\": \"2\", \"orientation\": \"h\", \"type\": \"bar\", \"x\": [112], \"y\": [2]}, {\"marker\": {\"color\": \"rgb(255, 255, 77)\"}, \"name\": \"3\", \"orientation\": \"h\", \"type\": \"bar\", \"x\": [221], \"y\": [3]}, {\"marker\": {\"color\": \"rgb(77, 255, 166)\"}, \"name\": \"4\", \"orientation\": \"h\", \"type\": \"bar\", \"x\": [266], \"y\": [4]}, {\"marker\": {\"color\": \"rgb(166, 255, 77)\"}, \"name\": \"5\", \"orientation\": \"h\", \"type\": \"bar\", \"x\": [273], \"y\": [5]}],\n",
              "                        {\"autosize\": false, \"height\": 500, \"template\": {\"data\": {\"bar\": [{\"error_x\": {\"color\": \"#2a3f5f\"}, \"error_y\": {\"color\": \"#2a3f5f\"}, \"marker\": {\"line\": {\"color\": \"#E5ECF6\", \"width\": 0.5}}, \"type\": \"bar\"}], \"barpolar\": [{\"marker\": {\"line\": {\"color\": \"#E5ECF6\", \"width\": 0.5}}, \"type\": \"barpolar\"}], \"carpet\": [{\"aaxis\": {\"endlinecolor\": \"#2a3f5f\", \"gridcolor\": \"white\", \"linecolor\": \"white\", \"minorgridcolor\": \"white\", \"startlinecolor\": \"#2a3f5f\"}, \"baxis\": {\"endlinecolor\": \"#2a3f5f\", \"gridcolor\": \"white\", \"linecolor\": \"white\", \"minorgridcolor\": \"white\", \"startlinecolor\": \"#2a3f5f\"}, \"type\": \"carpet\"}], \"choropleth\": [{\"colorbar\": {\"outlinewidth\": 0, \"ticks\": \"\"}, \"type\": \"choropleth\"}], \"contour\": [{\"colorbar\": {\"outlinewidth\": 0, \"ticks\": \"\"}, \"colorscale\": [[0.0, \"#0d0887\"], [0.1111111111111111, \"#46039f\"], [0.2222222222222222, \"#7201a8\"], [0.3333333333333333, \"#9c179e\"], [0.4444444444444444, \"#bd3786\"], [0.5555555555555556, \"#d8576b\"], [0.6666666666666666, \"#ed7953\"], [0.7777777777777778, \"#fb9f3a\"], [0.8888888888888888, \"#fdca26\"], [1.0, \"#f0f921\"]], \"type\": \"contour\"}], \"contourcarpet\": [{\"colorbar\": {\"outlinewidth\": 0, \"ticks\": \"\"}, \"type\": \"contourcarpet\"}], \"heatmap\": [{\"colorbar\": {\"outlinewidth\": 0, \"ticks\": \"\"}, \"colorscale\": [[0.0, \"#0d0887\"], [0.1111111111111111, \"#46039f\"], [0.2222222222222222, \"#7201a8\"], [0.3333333333333333, \"#9c179e\"], [0.4444444444444444, \"#bd3786\"], [0.5555555555555556, \"#d8576b\"], [0.6666666666666666, \"#ed7953\"], [0.7777777777777778, \"#fb9f3a\"], [0.8888888888888888, \"#fdca26\"], [1.0, \"#f0f921\"]], \"type\": \"heatmap\"}], \"heatmapgl\": [{\"colorbar\": {\"outlinewidth\": 0, \"ticks\": \"\"}, \"colorscale\": [[0.0, \"#0d0887\"], [0.1111111111111111, \"#46039f\"], [0.2222222222222222, \"#7201a8\"], [0.3333333333333333, \"#9c179e\"], [0.4444444444444444, \"#bd3786\"], [0.5555555555555556, \"#d8576b\"], [0.6666666666666666, \"#ed7953\"], [0.7777777777777778, \"#fb9f3a\"], [0.8888888888888888, \"#fdca26\"], [1.0, \"#f0f921\"]], \"type\": \"heatmapgl\"}], \"histogram\": [{\"marker\": {\"colorbar\": {\"outlinewidth\": 0, \"ticks\": \"\"}}, \"type\": \"histogram\"}], \"histogram2d\": [{\"colorbar\": {\"outlinewidth\": 0, \"ticks\": \"\"}, \"colorscale\": [[0.0, \"#0d0887\"], [0.1111111111111111, \"#46039f\"], [0.2222222222222222, \"#7201a8\"], [0.3333333333333333, \"#9c179e\"], [0.4444444444444444, \"#bd3786\"], [0.5555555555555556, \"#d8576b\"], [0.6666666666666666, \"#ed7953\"], [0.7777777777777778, \"#fb9f3a\"], [0.8888888888888888, \"#fdca26\"], [1.0, \"#f0f921\"]], \"type\": \"histogram2d\"}], \"histogram2dcontour\": [{\"colorbar\": {\"outlinewidth\": 0, \"ticks\": \"\"}, \"colorscale\": [[0.0, \"#0d0887\"], [0.1111111111111111, \"#46039f\"], [0.2222222222222222, \"#7201a8\"], [0.3333333333333333, \"#9c179e\"], [0.4444444444444444, \"#bd3786\"], [0.5555555555555556, \"#d8576b\"], [0.6666666666666666, \"#ed7953\"], [0.7777777777777778, \"#fb9f3a\"], [0.8888888888888888, \"#fdca26\"], [1.0, \"#f0f921\"]], \"type\": \"histogram2dcontour\"}], \"mesh3d\": [{\"colorbar\": {\"outlinewidth\": 0, \"ticks\": \"\"}, \"type\": \"mesh3d\"}], \"parcoords\": [{\"line\": {\"colorbar\": {\"outlinewidth\": 0, \"ticks\": \"\"}}, \"type\": \"parcoords\"}], \"pie\": [{\"automargin\": true, \"type\": \"pie\"}], \"scatter\": [{\"marker\": {\"colorbar\": {\"outlinewidth\": 0, \"ticks\": \"\"}}, \"type\": \"scatter\"}], \"scatter3d\": [{\"line\": {\"colorbar\": {\"outlinewidth\": 0, \"ticks\": \"\"}}, \"marker\": {\"colorbar\": {\"outlinewidth\": 0, \"ticks\": \"\"}}, \"type\": \"scatter3d\"}], \"scattercarpet\": [{\"marker\": {\"colorbar\": {\"outlinewidth\": 0, \"ticks\": \"\"}}, \"type\": \"scattercarpet\"}], \"scattergeo\": [{\"marker\": {\"colorbar\": {\"outlinewidth\": 0, \"ticks\": \"\"}}, \"type\": \"scattergeo\"}], \"scattergl\": [{\"marker\": {\"colorbar\": {\"outlinewidth\": 0, \"ticks\": \"\"}}, \"type\": \"scattergl\"}], \"scattermapbox\": [{\"marker\": {\"colorbar\": {\"outlinewidth\": 0, \"ticks\": \"\"}}, \"type\": \"scattermapbox\"}], \"scatterpolar\": [{\"marker\": {\"colorbar\": {\"outlinewidth\": 0, \"ticks\": \"\"}}, \"type\": \"scatterpolar\"}], \"scatterpolargl\": [{\"marker\": {\"colorbar\": {\"outlinewidth\": 0, \"ticks\": \"\"}}, \"type\": \"scatterpolargl\"}], \"scatterternary\": [{\"marker\": {\"colorbar\": {\"outlinewidth\": 0, \"ticks\": \"\"}}, \"type\": \"scatterternary\"}], \"surface\": [{\"colorbar\": {\"outlinewidth\": 0, \"ticks\": \"\"}, \"colorscale\": [[0.0, \"#0d0887\"], [0.1111111111111111, \"#46039f\"], [0.2222222222222222, \"#7201a8\"], [0.3333333333333333, \"#9c179e\"], [0.4444444444444444, \"#bd3786\"], [0.5555555555555556, \"#d8576b\"], [0.6666666666666666, \"#ed7953\"], [0.7777777777777778, \"#fb9f3a\"], [0.8888888888888888, \"#fdca26\"], [1.0, \"#f0f921\"]], \"type\": \"surface\"}], \"table\": [{\"cells\": {\"fill\": {\"color\": \"#EBF0F8\"}, \"line\": {\"color\": \"white\"}}, \"header\": {\"fill\": {\"color\": \"#C8D4E3\"}, \"line\": {\"color\": \"white\"}}, \"type\": \"table\"}]}, \"layout\": {\"annotationdefaults\": {\"arrowcolor\": \"#2a3f5f\", \"arrowhead\": 0, \"arrowwidth\": 1}, \"coloraxis\": {\"colorbar\": {\"outlinewidth\": 0, \"ticks\": \"\"}}, \"colorscale\": {\"diverging\": [[0, \"#8e0152\"], [0.1, \"#c51b7d\"], [0.2, \"#de77ae\"], [0.3, \"#f1b6da\"], [0.4, \"#fde0ef\"], [0.5, \"#f7f7f7\"], [0.6, \"#e6f5d0\"], [0.7, \"#b8e186\"], [0.8, \"#7fbc41\"], [0.9, \"#4d9221\"], [1, \"#276419\"]], \"sequential\": [[0.0, \"#0d0887\"], [0.1111111111111111, \"#46039f\"], [0.2222222222222222, \"#7201a8\"], [0.3333333333333333, \"#9c179e\"], [0.4444444444444444, \"#bd3786\"], [0.5555555555555556, \"#d8576b\"], [0.6666666666666666, \"#ed7953\"], [0.7777777777777778, \"#fb9f3a\"], [0.8888888888888888, \"#fdca26\"], [1.0, \"#f0f921\"]], \"sequentialminus\": [[0.0, \"#0d0887\"], [0.1111111111111111, \"#46039f\"], [0.2222222222222222, \"#7201a8\"], [0.3333333333333333, \"#9c179e\"], [0.4444444444444444, \"#bd3786\"], [0.5555555555555556, \"#d8576b\"], [0.6666666666666666, \"#ed7953\"], [0.7777777777777778, \"#fb9f3a\"], [0.8888888888888888, \"#fdca26\"], [1.0, \"#f0f921\"]]}, \"colorway\": [\"#636efa\", \"#EF553B\", \"#00cc96\", \"#ab63fa\", \"#FFA15A\", \"#19d3f3\", \"#FF6692\", \"#B6E880\", \"#FF97FF\", \"#FECB52\"], \"font\": {\"color\": \"#2a3f5f\"}, \"geo\": {\"bgcolor\": \"white\", \"lakecolor\": \"white\", \"landcolor\": \"#E5ECF6\", \"showlakes\": true, \"showland\": true, \"subunitcolor\": \"white\"}, \"hoverlabel\": {\"align\": \"left\"}, \"hovermode\": \"closest\", \"mapbox\": {\"style\": \"light\"}, \"paper_bgcolor\": \"white\", \"plot_bgcolor\": \"#E5ECF6\", \"polar\": {\"angularaxis\": {\"gridcolor\": \"white\", \"linecolor\": \"white\", \"ticks\": \"\"}, \"bgcolor\": \"#E5ECF6\", \"radialaxis\": {\"gridcolor\": \"white\", \"linecolor\": \"white\", \"ticks\": \"\"}}, \"scene\": {\"xaxis\": {\"backgroundcolor\": \"#E5ECF6\", \"gridcolor\": \"white\", \"gridwidth\": 2, \"linecolor\": \"white\", \"showbackground\": true, \"ticks\": \"\", \"zerolinecolor\": \"white\"}, \"yaxis\": {\"backgroundcolor\": \"#E5ECF6\", \"gridcolor\": \"white\", \"gridwidth\": 2, \"linecolor\": \"white\", \"showbackground\": true, \"ticks\": \"\", \"zerolinecolor\": \"white\"}, \"zaxis\": {\"backgroundcolor\": \"#E5ECF6\", \"gridcolor\": \"white\", \"gridwidth\": 2, \"linecolor\": \"white\", \"showbackground\": true, \"ticks\": \"\", \"zerolinecolor\": \"white\"}}, \"shapedefaults\": {\"line\": {\"color\": \"#2a3f5f\"}}, \"ternary\": {\"aaxis\": {\"gridcolor\": \"white\", \"linecolor\": \"white\", \"ticks\": \"\"}, \"baxis\": {\"gridcolor\": \"white\", \"linecolor\": \"white\", \"ticks\": \"\"}, \"bgcolor\": \"#E5ECF6\", \"caxis\": {\"gridcolor\": \"white\", \"linecolor\": \"white\", \"ticks\": \"\"}}, \"title\": {\"x\": 0.05}, \"xaxis\": {\"automargin\": true, \"gridcolor\": \"white\", \"linecolor\": \"white\", \"ticks\": \"\", \"title\": {\"standoff\": 15}, \"zerolinecolor\": \"white\", \"zerolinewidth\": 2}, \"yaxis\": {\"automargin\": true, \"gridcolor\": \"white\", \"linecolor\": \"white\", \"ticks\": \"\", \"title\": {\"standoff\": 15}, \"zerolinecolor\": \"white\", \"zerolinewidth\": 2}}}, \"title\": {\"text\": \"Distribution of Review Ratings\"}, \"width\": 500},\n",
              "                        {\"responsive\": true}\n",
              "                    ).then(function(){\n",
              "                            \n",
              "var gd = document.getElementById('d5cb56b1-d24f-4f00-bb38-100f95bad7af');\n",
              "var x = new MutationObserver(function (mutations, observer) {{\n",
              "        var display = window.getComputedStyle(gd).display;\n",
              "        if (!display || display === 'none') {{\n",
              "            console.log([gd, 'removed!']);\n",
              "            Plotly.purge(gd);\n",
              "            observer.disconnect();\n",
              "        }}\n",
              "}});\n",
              "\n",
              "// Listen for the removal of the full notebook cells\n",
              "var notebookContainer = gd.closest('#notebook-container');\n",
              "if (notebookContainer) {{\n",
              "    x.observe(notebookContainer, {childList: true});\n",
              "}}\n",
              "\n",
              "// Listen for the clearing of the current output cell\n",
              "var outputEl = gd.closest('.output');\n",
              "if (outputEl) {{\n",
              "    x.observe(outputEl, {childList: true});\n",
              "}}\n",
              "\n",
              "                        })\n",
              "                };\n",
              "                \n",
              "            </script>\n",
              "        </div>\n",
              "</body>\n",
              "</html>"
            ]
          },
          "metadata": {
            "tags": []
          }
        }
      ]
    },
    {
      "cell_type": "markdown",
      "metadata": {
        "id": "eobC2JIogkU5"
      },
      "source": [
        "**How the sentiment is distribured?**"
      ]
    },
    {
      "cell_type": "code",
      "metadata": {
        "colab": {
          "base_uri": "https://localhost:8080/",
          "height": 593
        },
        "id": "KnZLqI7sgpxG",
        "outputId": "31c3989f-2766-4209-b73c-9f80c8a18a26"
      },
      "source": [
        "\n",
        "print('No of positive Review:',str(len(data_most_reviewed_store[data_most_reviewed_store['sentiments']==1])))\n",
        "print('No of negative Review:',str(len(data_most_reviewed_store[data_most_reviewed_store['sentiments']==3])))\n",
        "print('No of neutral Review:',str(len(data_most_reviewed_store[data_most_reviewed_store['sentiments']==2])))\n",
        "sentimments_dict={3:'Negative',2:'Neutral',1:'Positive'}\n",
        "sentiment_names=[sentimments_dict[int(i)] for i in data_most_reviewed_store['sentiments'].values]\n",
        "data_most_reviewed_store['sentiment_name']=sentiment_names\n",
        "fig = px.pie(data_most_reviewed_store, values='sentiments', names='sentiment_name',color='sentiment_name',color_discrete_map={'Neutral':'yellow','Negative':'cyan','Positive':'green'})\n",
        "fig.update_layout(\n",
        "     autosize=False,\n",
        "     title='Distribution of Review Sentiments'\n",
        "    )\n",
        "fig.show()"
      ],
      "execution_count": null,
      "outputs": [
        {
          "output_type": "stream",
          "text": [
            "No of positive Review: 539\n",
            "No of negative Review: 180\n",
            "No of neutral Review: 221\n"
          ],
          "name": "stdout"
        },
        {
          "output_type": "display_data",
          "data": {
            "text/html": [
              "<html>\n",
              "<head><meta charset=\"utf-8\" /></head>\n",
              "<body>\n",
              "    <div>\n",
              "            <script src=\"https://cdnjs.cloudflare.com/ajax/libs/mathjax/2.7.5/MathJax.js?config=TeX-AMS-MML_SVG\"></script><script type=\"text/javascript\">if (window.MathJax) {MathJax.Hub.Config({SVG: {font: \"STIX-Web\"}});}</script>\n",
              "                <script type=\"text/javascript\">window.PlotlyConfig = {MathJaxConfig: 'local'};</script>\n",
              "        <script src=\"https://cdn.plot.ly/plotly-latest.min.js\"></script>    \n",
              "            <div id=\"3c08df90-08f6-48d0-b7b8-586f7cd564e6\" class=\"plotly-graph-div\" style=\"height:525px; width:100%;\"></div>\n",
              "            <script type=\"text/javascript\">\n",
              "                \n",
              "                    window.PLOTLYENV=window.PLOTLYENV || {};\n",
              "                    \n",
              "                if (document.getElementById(\"3c08df90-08f6-48d0-b7b8-586f7cd564e6\")) {\n",
              "                    Plotly.newPlot(\n",
              "                        '3c08df90-08f6-48d0-b7b8-586f7cd564e6',\n",
              "                        [{\"customdata\": [[\"Positive\"], [\"Negative\"], [\"Positive\"], [\"Positive\"], [\"Positive\"], [\"Positive\"], [\"Positive\"], [\"Positive\"], [\"Positive\"], [\"Positive\"], [\"Positive\"], [\"Positive\"], [\"Positive\"], [\"Positive\"], [\"Positive\"], [\"Positive\"], [\"Negative\"], [\"Positive\"], [\"Positive\"], [\"Positive\"], [\"Positive\"], [\"Positive\"], [\"Positive\"], [\"Positive\"], [\"Positive\"], [\"Positive\"], [\"Positive\"], [\"Positive\"], [\"Positive\"], [\"Positive\"], [\"Positive\"], [\"Negative\"], [\"Positive\"], [\"Positive\"], [\"Positive\"], [\"Negative\"], [\"Positive\"], [\"Positive\"], [\"Positive\"], [\"Negative\"], [\"Positive\"], [\"Positive\"], [\"Positive\"], [\"Positive\"], [\"Positive\"], [\"Positive\"], [\"Positive\"], [\"Positive\"], [\"Positive\"], [\"Negative\"], [\"Positive\"], [\"Positive\"], [\"Positive\"], [\"Positive\"], [\"Positive\"], [\"Positive\"], [\"Neutral\"], [\"Positive\"], [\"Positive\"], [\"Negative\"], [\"Positive\"], [\"Positive\"], [\"Negative\"], [\"Positive\"], [\"Positive\"], [\"Negative\"], [\"Neutral\"], [\"Positive\"], [\"Neutral\"], [\"Positive\"], [\"Positive\"], [\"Positive\"], [\"Negative\"], [\"Negative\"], [\"Positive\"], [\"Positive\"], [\"Positive\"], [\"Positive\"], [\"Positive\"], [\"Positive\"], [\"Neutral\"], [\"Neutral\"], [\"Positive\"], [\"Positive\"], [\"Positive\"], [\"Negative\"], [\"Positive\"], [\"Positive\"], [\"Positive\"], [\"Neutral\"], [\"Positive\"], [\"Positive\"], [\"Neutral\"], [\"Positive\"], [\"Positive\"], [\"Neutral\"], [\"Positive\"], [\"Positive\"], [\"Positive\"], [\"Positive\"], [\"Positive\"], [\"Positive\"], [\"Positive\"], [\"Positive\"], [\"Positive\"], [\"Positive\"], [\"Positive\"], [\"Positive\"], [\"Positive\"], [\"Positive\"], [\"Positive\"], [\"Positive\"], [\"Positive\"], [\"Positive\"], [\"Positive\"], [\"Negative\"], [\"Neutral\"], [\"Neutral\"], [\"Positive\"], [\"Positive\"], [\"Neutral\"], [\"Positive\"], [\"Positive\"], [\"Positive\"], [\"Negative\"], [\"Negative\"], [\"Neutral\"], [\"Neutral\"], [\"Positive\"], [\"Negative\"], [\"Positive\"], [\"Negative\"], [\"Neutral\"], [\"Negative\"], [\"Neutral\"], [\"Negative\"], [\"Positive\"], [\"Positive\"], [\"Neutral\"], [\"Positive\"], [\"Positive\"], [\"Positive\"], [\"Positive\"], [\"Neutral\"], [\"Negative\"], [\"Positive\"], [\"Positive\"], [\"Negative\"], [\"Positive\"], [\"Negative\"], [\"Neutral\"], [\"Positive\"], [\"Positive\"], [\"Positive\"], [\"Positive\"], [\"Positive\"], [\"Negative\"], [\"Positive\"], [\"Positive\"], [\"Positive\"], [\"Positive\"], [\"Positive\"], [\"Neutral\"], [\"Negative\"], [\"Positive\"], [\"Positive\"], [\"Neutral\"], [\"Neutral\"], [\"Positive\"], [\"Positive\"], [\"Positive\"], [\"Positive\"], [\"Negative\"], [\"Negative\"], [\"Negative\"], [\"Positive\"], [\"Positive\"], [\"Positive\"], [\"Positive\"], [\"Positive\"], [\"Neutral\"], [\"Neutral\"], [\"Neutral\"], [\"Positive\"], [\"Positive\"], [\"Positive\"], [\"Negative\"], [\"Negative\"], [\"Neutral\"], [\"Positive\"], [\"Positive\"], [\"Neutral\"], [\"Neutral\"], [\"Negative\"], [\"Neutral\"], [\"Positive\"], [\"Positive\"], [\"Positive\"], [\"Positive\"], [\"Positive\"], [\"Positive\"], [\"Negative\"], [\"Positive\"], [\"Neutral\"], [\"Positive\"], [\"Negative\"], [\"Neutral\"], [\"Positive\"], [\"Neutral\"], [\"Positive\"], [\"Positive\"], [\"Positive\"], [\"Positive\"], [\"Neutral\"], [\"Positive\"], [\"Negative\"], [\"Positive\"], [\"Positive\"], [\"Neutral\"], [\"Neutral\"], [\"Positive\"], [\"Positive\"], [\"Negative\"], [\"Positive\"], [\"Positive\"], [\"Neutral\"], [\"Neutral\"], [\"Negative\"], [\"Positive\"], [\"Positive\"], [\"Neutral\"], [\"Negative\"], [\"Negative\"], [\"Positive\"], [\"Positive\"], [\"Negative\"], [\"Neutral\"], [\"Negative\"], [\"Positive\"], [\"Positive\"], [\"Positive\"], [\"Neutral\"], [\"Neutral\"], [\"Positive\"], [\"Positive\"], [\"Positive\"], [\"Positive\"], [\"Neutral\"], [\"Neutral\"], [\"Positive\"], [\"Positive\"], [\"Neutral\"], [\"Neutral\"], [\"Positive\"], [\"Positive\"], [\"Positive\"], [\"Positive\"], [\"Negative\"], [\"Positive\"], [\"Neutral\"], [\"Positive\"], [\"Positive\"], [\"Positive\"], [\"Positive\"], [\"Negative\"], [\"Positive\"], [\"Negative\"], [\"Positive\"], [\"Positive\"], [\"Positive\"], [\"Positive\"], [\"Positive\"], [\"Negative\"], [\"Positive\"], [\"Positive\"], [\"Positive\"], [\"Neutral\"], [\"Negative\"], [\"Positive\"], [\"Negative\"], [\"Neutral\"], [\"Negative\"], [\"Neutral\"], [\"Neutral\"], [\"Neutral\"], [\"Negative\"], [\"Neutral\"], [\"Neutral\"], [\"Neutral\"], [\"Positive\"], [\"Neutral\"], [\"Negative\"], [\"Positive\"], [\"Positive\"], [\"Positive\"], [\"Neutral\"], [\"Neutral\"], [\"Positive\"], [\"Neutral\"], [\"Negative\"], [\"Positive\"], [\"Positive\"], [\"Positive\"], [\"Neutral\"], [\"Neutral\"], [\"Negative\"], [\"Neutral\"], [\"Positive\"], [\"Positive\"], [\"Neutral\"], [\"Positive\"], [\"Neutral\"], [\"Negative\"], [\"Positive\"], [\"Neutral\"], [\"Negative\"], [\"Positive\"], [\"Positive\"], [\"Positive\"], [\"Positive\"], [\"Neutral\"], [\"Positive\"], [\"Positive\"], [\"Positive\"], [\"Neutral\"], [\"Neutral\"], [\"Neutral\"], [\"Negative\"], [\"Positive\"], [\"Neutral\"], [\"Positive\"], [\"Neutral\"], [\"Positive\"], [\"Positive\"], [\"Positive\"], [\"Positive\"], [\"Positive\"], [\"Positive\"], [\"Negative\"], [\"Neutral\"], [\"Neutral\"], [\"Neutral\"], [\"Positive\"], [\"Neutral\"], [\"Neutral\"], [\"Positive\"], [\"Neutral\"], [\"Neutral\"], [\"Positive\"], [\"Positive\"], [\"Positive\"], [\"Positive\"], [\"Positive\"], [\"Positive\"], [\"Positive\"], [\"Neutral\"], [\"Positive\"], [\"Positive\"], [\"Neutral\"], [\"Positive\"], [\"Neutral\"], [\"Positive\"], [\"Negative\"], [\"Negative\"], [\"Neutral\"], [\"Positive\"], [\"Positive\"], [\"Neutral\"], [\"Neutral\"], [\"Positive\"], [\"Positive\"], [\"Positive\"], [\"Positive\"], [\"Positive\"], [\"Positive\"], [\"Positive\"], [\"Positive\"], [\"Negative\"], [\"Negative\"], [\"Positive\"], [\"Negative\"], [\"Positive\"], [\"Positive\"], [\"Neutral\"], [\"Negative\"], [\"Neutral\"], [\"Neutral\"], [\"Positive\"], [\"Positive\"], [\"Positive\"], [\"Positive\"], [\"Negative\"], [\"Positive\"], [\"Neutral\"], [\"Positive\"], [\"Positive\"], [\"Positive\"], [\"Negative\"], [\"Neutral\"], [\"Negative\"], [\"Positive\"], [\"Neutral\"], [\"Negative\"], [\"Neutral\"], [\"Neutral\"], [\"Positive\"], [\"Neutral\"], [\"Negative\"], [\"Negative\"], [\"Positive\"], [\"Positive\"], [\"Neutral\"], [\"Positive\"], [\"Positive\"], [\"Neutral\"], [\"Negative\"], [\"Negative\"], [\"Neutral\"], [\"Negative\"], [\"Neutral\"], [\"Neutral\"], [\"Negative\"], [\"Positive\"], [\"Neutral\"], [\"Negative\"], [\"Neutral\"], [\"Neutral\"], [\"Negative\"], [\"Positive\"], [\"Neutral\"], [\"Neutral\"], [\"Negative\"], [\"Positive\"], [\"Neutral\"], [\"Positive\"], [\"Neutral\"], [\"Neutral\"], [\"Positive\"], [\"Positive\"], [\"Negative\"], [\"Negative\"], [\"Neutral\"], [\"Positive\"], [\"Positive\"], [\"Positive\"], [\"Positive\"], [\"Neutral\"], [\"Neutral\"], [\"Negative\"], [\"Neutral\"], [\"Neutral\"], [\"Negative\"], [\"Negative\"], [\"Positive\"], [\"Negative\"], [\"Negative\"], [\"Positive\"], [\"Negative\"], [\"Positive\"], [\"Neutral\"], [\"Neutral\"], [\"Neutral\"], [\"Positive\"], [\"Positive\"], [\"Positive\"], [\"Negative\"], [\"Positive\"], [\"Negative\"], [\"Neutral\"], [\"Negative\"], [\"Negative\"], [\"Positive\"], [\"Positive\"], [\"Positive\"], [\"Neutral\"], [\"Positive\"], [\"Neutral\"], [\"Neutral\"], [\"Negative\"], [\"Positive\"], [\"Positive\"], [\"Neutral\"], [\"Negative\"], [\"Positive\"], [\"Positive\"], [\"Neutral\"], [\"Neutral\"], [\"Positive\"], [\"Negative\"], [\"Negative\"], [\"Positive\"], [\"Positive\"], [\"Positive\"], [\"Neutral\"], [\"Positive\"], [\"Positive\"], [\"Negative\"], [\"Neutral\"], [\"Positive\"], [\"Positive\"], [\"Positive\"], [\"Neutral\"], [\"Positive\"], [\"Positive\"], [\"Positive\"], [\"Positive\"], [\"Neutral\"], [\"Negative\"], [\"Positive\"], [\"Negative\"], [\"Negative\"], [\"Positive\"], [\"Negative\"], [\"Negative\"], [\"Positive\"], [\"Negative\"], [\"Negative\"], [\"Neutral\"], [\"Negative\"], [\"Negative\"], [\"Positive\"], [\"Neutral\"], [\"Positive\"], [\"Neutral\"], [\"Positive\"], [\"Negative\"], [\"Positive\"], [\"Positive\"], [\"Neutral\"], [\"Positive\"], [\"Positive\"], [\"Neutral\"], [\"Positive\"], [\"Negative\"], [\"Positive\"], [\"Positive\"], [\"Positive\"], [\"Neutral\"], [\"Neutral\"], [\"Negative\"], [\"Positive\"], [\"Neutral\"], [\"Positive\"], [\"Neutral\"], [\"Positive\"], [\"Positive\"], [\"Negative\"], [\"Negative\"], [\"Neutral\"], [\"Positive\"], [\"Neutral\"], [\"Positive\"], [\"Positive\"], [\"Positive\"], [\"Positive\"], [\"Positive\"], [\"Negative\"], [\"Negative\"], [\"Positive\"], [\"Negative\"], [\"Neutral\"], [\"Negative\"], [\"Positive\"], [\"Positive\"], [\"Positive\"], [\"Positive\"], [\"Negative\"], [\"Positive\"], [\"Neutral\"], [\"Negative\"], [\"Neutral\"], [\"Positive\"], [\"Positive\"], [\"Neutral\"], [\"Neutral\"], [\"Neutral\"], [\"Positive\"], [\"Positive\"], [\"Neutral\"], [\"Neutral\"], [\"Positive\"], [\"Neutral\"], [\"Neutral\"], [\"Negative\"], [\"Positive\"], [\"Positive\"], [\"Positive\"], [\"Neutral\"], [\"Positive\"], [\"Neutral\"], [\"Positive\"], [\"Positive\"], [\"Neutral\"], [\"Positive\"], [\"Neutral\"], [\"Positive\"], [\"Positive\"], [\"Positive\"], [\"Neutral\"], [\"Neutral\"], [\"Neutral\"], [\"Positive\"], [\"Positive\"], [\"Positive\"], [\"Positive\"], [\"Negative\"], [\"Negative\"], [\"Neutral\"], [\"Positive\"], [\"Positive\"], [\"Positive\"], [\"Negative\"], [\"Positive\"], [\"Neutral\"], [\"Positive\"], [\"Neutral\"], [\"Positive\"], [\"Positive\"], [\"Negative\"], [\"Negative\"], [\"Positive\"], [\"Neutral\"], [\"Negative\"], [\"Positive\"], [\"Positive\"], [\"Negative\"], [\"Negative\"], [\"Neutral\"], [\"Neutral\"], [\"Neutral\"], [\"Negative\"], [\"Neutral\"], [\"Negative\"], [\"Negative\"], [\"Positive\"], [\"Positive\"], [\"Negative\"], [\"Negative\"], [\"Negative\"], [\"Positive\"], [\"Negative\"], [\"Positive\"], [\"Positive\"], [\"Positive\"], [\"Positive\"], [\"Positive\"], [\"Negative\"], [\"Neutral\"], [\"Positive\"], [\"Neutral\"], [\"Positive\"], [\"Neutral\"], [\"Negative\"], [\"Positive\"], [\"Neutral\"], [\"Positive\"], [\"Neutral\"], [\"Neutral\"], [\"Positive\"], [\"Positive\"], [\"Positive\"], [\"Positive\"], [\"Negative\"], [\"Negative\"], [\"Neutral\"], [\"Positive\"], [\"Neutral\"], [\"Neutral\"], [\"Positive\"], [\"Positive\"], [\"Neutral\"], [\"Positive\"], [\"Neutral\"], [\"Negative\"], [\"Positive\"], [\"Neutral\"], [\"Positive\"], [\"Negative\"], [\"Positive\"], [\"Positive\"], [\"Neutral\"], [\"Positive\"], [\"Positive\"], [\"Neutral\"], [\"Positive\"], [\"Positive\"], [\"Positive\"], [\"Neutral\"], [\"Neutral\"], [\"Positive\"], [\"Positive\"], [\"Positive\"], [\"Negative\"], [\"Positive\"], [\"Neutral\"], [\"Negative\"], [\"Positive\"], [\"Positive\"], [\"Neutral\"], [\"Positive\"], [\"Positive\"], [\"Positive\"], [\"Positive\"], [\"Negative\"], [\"Neutral\"], [\"Positive\"], [\"Positive\"], [\"Positive\"], [\"Positive\"], [\"Negative\"], [\"Neutral\"], [\"Positive\"], [\"Positive\"], [\"Positive\"], [\"Positive\"], [\"Neutral\"], [\"Positive\"], [\"Positive\"], [\"Neutral\"], [\"Positive\"], [\"Negative\"], [\"Negative\"], [\"Positive\"], [\"Positive\"], [\"Positive\"], [\"Neutral\"], [\"Neutral\"], [\"Positive\"], [\"Positive\"], [\"Neutral\"], [\"Positive\"], [\"Positive\"], [\"Negative\"], [\"Neutral\"], [\"Negative\"], [\"Positive\"], [\"Positive\"], [\"Positive\"], [\"Positive\"], [\"Positive\"], [\"Negative\"], [\"Neutral\"], [\"Positive\"], [\"Neutral\"], [\"Neutral\"], [\"Neutral\"], [\"Positive\"], [\"Positive\"], [\"Positive\"], [\"Negative\"], [\"Negative\"], [\"Negative\"], [\"Positive\"], [\"Negative\"], [\"Positive\"], [\"Positive\"], [\"Negative\"], [\"Positive\"], [\"Negative\"], [\"Positive\"], [\"Neutral\"], [\"Positive\"], [\"Positive\"], [\"Neutral\"], [\"Positive\"], [\"Negative\"], [\"Positive\"], [\"Positive\"], [\"Neutral\"], [\"Positive\"], [\"Positive\"], [\"Positive\"], [\"Negative\"], [\"Positive\"], [\"Positive\"], [\"Positive\"], [\"Positive\"], [\"Positive\"], [\"Negative\"], [\"Neutral\"], [\"Positive\"], [\"Negative\"], [\"Positive\"], [\"Positive\"], [\"Neutral\"], [\"Neutral\"], [\"Positive\"], [\"Positive\"], [\"Positive\"], [\"Positive\"], [\"Positive\"], [\"Positive\"], [\"Positive\"], [\"Negative\"], [\"Neutral\"], [\"Positive\"], [\"Negative\"], [\"Positive\"], [\"Positive\"], [\"Negative\"], [\"Positive\"], [\"Positive\"], [\"Negative\"], [\"Positive\"], [\"Negative\"], [\"Neutral\"], [\"Positive\"], [\"Positive\"], [\"Neutral\"], [\"Positive\"], [\"Positive\"], [\"Positive\"], [\"Neutral\"], [\"Positive\"], [\"Neutral\"], [\"Positive\"], [\"Positive\"], [\"Neutral\"], [\"Positive\"], [\"Neutral\"], [\"Positive\"], [\"Neutral\"], [\"Positive\"], [\"Neutral\"], [\"Positive\"], [\"Positive\"], [\"Positive\"], [\"Positive\"], [\"Negative\"], [\"Positive\"], [\"Positive\"], [\"Negative\"], [\"Neutral\"], [\"Positive\"], [\"Positive\"], [\"Positive\"], [\"Neutral\"], [\"Positive\"], [\"Positive\"], [\"Positive\"], [\"Positive\"], [\"Positive\"], [\"Positive\"], [\"Negative\"], [\"Positive\"], [\"Neutral\"], [\"Neutral\"], [\"Positive\"], [\"Neutral\"], [\"Negative\"], [\"Positive\"], [\"Neutral\"], [\"Positive\"], [\"Negative\"], [\"Positive\"], [\"Negative\"], [\"Positive\"], [\"Positive\"], [\"Neutral\"], [\"Negative\"], [\"Positive\"], [\"Positive\"], [\"Negative\"], [\"Positive\"], [\"Positive\"], [\"Neutral\"], [\"Positive\"], [\"Negative\"], [\"Positive\"], [\"Positive\"], [\"Positive\"], [\"Positive\"], [\"Positive\"], [\"Negative\"], [\"Positive\"], [\"Positive\"], [\"Negative\"], [\"Neutral\"], [\"Neutral\"], [\"Negative\"], [\"Positive\"], [\"Positive\"], [\"Positive\"], [\"Positive\"], [\"Positive\"], [\"Positive\"], [\"Positive\"], [\"Positive\"], [\"Positive\"], [\"Neutral\"], [\"Positive\"], [\"Positive\"], [\"Positive\"], [\"Positive\"], [\"Negative\"], [\"Negative\"], [\"Negative\"], [\"Neutral\"], [\"Negative\"], [\"Negative\"], [\"Positive\"], [\"Positive\"], [\"Positive\"], [\"Neutral\"], [\"Positive\"], [\"Positive\"], [\"Neutral\"], [\"Positive\"], [\"Negative\"], [\"Negative\"], [\"Negative\"], [\"Positive\"], [\"Positive\"], [\"Positive\"], [\"Positive\"], [\"Negative\"], [\"Positive\"], [\"Positive\"], [\"Negative\"], [\"Positive\"], [\"Neutral\"], [\"Positive\"], [\"Neutral\"], [\"Negative\"], [\"Neutral\"], [\"Positive\"], [\"Positive\"], [\"Positive\"], [\"Positive\"], [\"Negative\"], [\"Positive\"], [\"Positive\"], [\"Positive\"], [\"Positive\"], [\"Positive\"], [\"Positive\"], [\"Positive\"], [\"Positive\"], [\"Positive\"], [\"Positive\"]], \"domain\": {\"x\": [0.0, 1.0], \"y\": [0.0, 1.0]}, \"hoverlabel\": {\"namelength\": 0}, \"hovertemplate\": \"sentiment_name=%{label}<br>sentiments=%{value}\", \"labels\": [\"Positive\", \"Negative\", \"Positive\", \"Positive\", \"Positive\", \"Positive\", \"Positive\", \"Positive\", \"Positive\", \"Positive\", \"Positive\", \"Positive\", \"Positive\", \"Positive\", \"Positive\", \"Positive\", \"Negative\", \"Positive\", \"Positive\", \"Positive\", \"Positive\", \"Positive\", \"Positive\", \"Positive\", \"Positive\", \"Positive\", \"Positive\", \"Positive\", \"Positive\", \"Positive\", \"Positive\", \"Negative\", \"Positive\", \"Positive\", \"Positive\", \"Negative\", \"Positive\", \"Positive\", \"Positive\", \"Negative\", \"Positive\", \"Positive\", \"Positive\", \"Positive\", \"Positive\", \"Positive\", \"Positive\", \"Positive\", \"Positive\", \"Negative\", \"Positive\", \"Positive\", \"Positive\", \"Positive\", \"Positive\", \"Positive\", \"Neutral\", \"Positive\", \"Positive\", \"Negative\", \"Positive\", \"Positive\", \"Negative\", \"Positive\", \"Positive\", \"Negative\", \"Neutral\", \"Positive\", \"Neutral\", \"Positive\", \"Positive\", \"Positive\", \"Negative\", \"Negative\", \"Positive\", \"Positive\", \"Positive\", \"Positive\", \"Positive\", \"Positive\", \"Neutral\", \"Neutral\", \"Positive\", \"Positive\", \"Positive\", \"Negative\", \"Positive\", \"Positive\", \"Positive\", \"Neutral\", \"Positive\", \"Positive\", \"Neutral\", \"Positive\", \"Positive\", \"Neutral\", \"Positive\", \"Positive\", \"Positive\", \"Positive\", \"Positive\", \"Positive\", \"Positive\", \"Positive\", \"Positive\", \"Positive\", \"Positive\", \"Positive\", \"Positive\", \"Positive\", \"Positive\", \"Positive\", \"Positive\", \"Positive\", \"Positive\", \"Negative\", \"Neutral\", \"Neutral\", \"Positive\", \"Positive\", \"Neutral\", \"Positive\", \"Positive\", \"Positive\", \"Negative\", \"Negative\", \"Neutral\", \"Neutral\", \"Positive\", \"Negative\", \"Positive\", \"Negative\", \"Neutral\", \"Negative\", \"Neutral\", \"Negative\", \"Positive\", \"Positive\", \"Neutral\", \"Positive\", \"Positive\", \"Positive\", \"Positive\", \"Neutral\", \"Negative\", \"Positive\", \"Positive\", \"Negative\", \"Positive\", \"Negative\", \"Neutral\", \"Positive\", \"Positive\", \"Positive\", \"Positive\", \"Positive\", \"Negative\", \"Positive\", \"Positive\", \"Positive\", \"Positive\", \"Positive\", \"Neutral\", \"Negative\", \"Positive\", \"Positive\", \"Neutral\", \"Neutral\", \"Positive\", \"Positive\", \"Positive\", \"Positive\", \"Negative\", \"Negative\", \"Negative\", \"Positive\", \"Positive\", \"Positive\", \"Positive\", \"Positive\", \"Neutral\", \"Neutral\", \"Neutral\", \"Positive\", \"Positive\", \"Positive\", \"Negative\", \"Negative\", \"Neutral\", \"Positive\", \"Positive\", \"Neutral\", \"Neutral\", \"Negative\", \"Neutral\", \"Positive\", \"Positive\", \"Positive\", \"Positive\", \"Positive\", \"Positive\", \"Negative\", \"Positive\", \"Neutral\", \"Positive\", \"Negative\", \"Neutral\", \"Positive\", \"Neutral\", \"Positive\", \"Positive\", \"Positive\", \"Positive\", \"Neutral\", \"Positive\", \"Negative\", \"Positive\", \"Positive\", \"Neutral\", \"Neutral\", \"Positive\", \"Positive\", \"Negative\", \"Positive\", \"Positive\", \"Neutral\", \"Neutral\", \"Negative\", \"Positive\", \"Positive\", \"Neutral\", \"Negative\", \"Negative\", \"Positive\", \"Positive\", \"Negative\", \"Neutral\", \"Negative\", \"Positive\", \"Positive\", \"Positive\", \"Neutral\", \"Neutral\", \"Positive\", \"Positive\", \"Positive\", \"Positive\", \"Neutral\", \"Neutral\", \"Positive\", \"Positive\", \"Neutral\", \"Neutral\", \"Positive\", \"Positive\", \"Positive\", \"Positive\", \"Negative\", \"Positive\", \"Neutral\", \"Positive\", \"Positive\", \"Positive\", \"Positive\", \"Negative\", \"Positive\", \"Negative\", \"Positive\", \"Positive\", \"Positive\", \"Positive\", \"Positive\", \"Negative\", \"Positive\", \"Positive\", \"Positive\", \"Neutral\", \"Negative\", \"Positive\", \"Negative\", \"Neutral\", \"Negative\", \"Neutral\", \"Neutral\", \"Neutral\", \"Negative\", \"Neutral\", \"Neutral\", \"Neutral\", \"Positive\", \"Neutral\", \"Negative\", \"Positive\", \"Positive\", \"Positive\", \"Neutral\", \"Neutral\", \"Positive\", \"Neutral\", \"Negative\", \"Positive\", \"Positive\", \"Positive\", \"Neutral\", \"Neutral\", \"Negative\", \"Neutral\", \"Positive\", \"Positive\", \"Neutral\", \"Positive\", \"Neutral\", \"Negative\", \"Positive\", \"Neutral\", \"Negative\", \"Positive\", \"Positive\", \"Positive\", \"Positive\", \"Neutral\", \"Positive\", \"Positive\", \"Positive\", \"Neutral\", \"Neutral\", \"Neutral\", \"Negative\", \"Positive\", \"Neutral\", \"Positive\", \"Neutral\", \"Positive\", \"Positive\", \"Positive\", \"Positive\", \"Positive\", \"Positive\", \"Negative\", \"Neutral\", \"Neutral\", \"Neutral\", \"Positive\", \"Neutral\", \"Neutral\", \"Positive\", \"Neutral\", \"Neutral\", \"Positive\", \"Positive\", \"Positive\", \"Positive\", \"Positive\", \"Positive\", \"Positive\", \"Neutral\", \"Positive\", \"Positive\", \"Neutral\", \"Positive\", \"Neutral\", \"Positive\", \"Negative\", \"Negative\", \"Neutral\", \"Positive\", \"Positive\", \"Neutral\", \"Neutral\", \"Positive\", \"Positive\", \"Positive\", \"Positive\", \"Positive\", \"Positive\", \"Positive\", \"Positive\", \"Negative\", \"Negative\", \"Positive\", \"Negative\", \"Positive\", \"Positive\", \"Neutral\", \"Negative\", \"Neutral\", \"Neutral\", \"Positive\", \"Positive\", \"Positive\", \"Positive\", \"Negative\", \"Positive\", \"Neutral\", \"Positive\", \"Positive\", \"Positive\", \"Negative\", \"Neutral\", \"Negative\", \"Positive\", \"Neutral\", \"Negative\", \"Neutral\", \"Neutral\", \"Positive\", \"Neutral\", \"Negative\", \"Negative\", \"Positive\", \"Positive\", \"Neutral\", \"Positive\", \"Positive\", \"Neutral\", \"Negative\", \"Negative\", \"Neutral\", \"Negative\", \"Neutral\", \"Neutral\", \"Negative\", \"Positive\", \"Neutral\", \"Negative\", \"Neutral\", \"Neutral\", \"Negative\", \"Positive\", \"Neutral\", \"Neutral\", \"Negative\", \"Positive\", \"Neutral\", \"Positive\", \"Neutral\", \"Neutral\", \"Positive\", \"Positive\", \"Negative\", \"Negative\", \"Neutral\", \"Positive\", \"Positive\", \"Positive\", \"Positive\", \"Neutral\", \"Neutral\", \"Negative\", \"Neutral\", \"Neutral\", \"Negative\", \"Negative\", \"Positive\", \"Negative\", \"Negative\", \"Positive\", \"Negative\", \"Positive\", \"Neutral\", \"Neutral\", \"Neutral\", \"Positive\", \"Positive\", \"Positive\", \"Negative\", \"Positive\", \"Negative\", \"Neutral\", \"Negative\", \"Negative\", \"Positive\", \"Positive\", \"Positive\", \"Neutral\", \"Positive\", \"Neutral\", \"Neutral\", \"Negative\", \"Positive\", \"Positive\", \"Neutral\", \"Negative\", \"Positive\", \"Positive\", \"Neutral\", \"Neutral\", \"Positive\", \"Negative\", \"Negative\", \"Positive\", \"Positive\", \"Positive\", \"Neutral\", \"Positive\", \"Positive\", \"Negative\", \"Neutral\", \"Positive\", \"Positive\", \"Positive\", \"Neutral\", \"Positive\", \"Positive\", \"Positive\", \"Positive\", \"Neutral\", \"Negative\", \"Positive\", \"Negative\", \"Negative\", \"Positive\", \"Negative\", \"Negative\", \"Positive\", \"Negative\", \"Negative\", \"Neutral\", \"Negative\", \"Negative\", \"Positive\", \"Neutral\", \"Positive\", \"Neutral\", \"Positive\", \"Negative\", \"Positive\", \"Positive\", \"Neutral\", \"Positive\", \"Positive\", \"Neutral\", \"Positive\", \"Negative\", \"Positive\", \"Positive\", \"Positive\", \"Neutral\", \"Neutral\", \"Negative\", \"Positive\", \"Neutral\", \"Positive\", \"Neutral\", \"Positive\", \"Positive\", \"Negative\", \"Negative\", \"Neutral\", \"Positive\", \"Neutral\", \"Positive\", \"Positive\", \"Positive\", \"Positive\", \"Positive\", \"Negative\", \"Negative\", \"Positive\", \"Negative\", \"Neutral\", \"Negative\", \"Positive\", \"Positive\", \"Positive\", \"Positive\", \"Negative\", \"Positive\", \"Neutral\", \"Negative\", \"Neutral\", \"Positive\", \"Positive\", \"Neutral\", \"Neutral\", \"Neutral\", \"Positive\", \"Positive\", \"Neutral\", \"Neutral\", \"Positive\", \"Neutral\", \"Neutral\", \"Negative\", \"Positive\", \"Positive\", \"Positive\", \"Neutral\", \"Positive\", \"Neutral\", \"Positive\", \"Positive\", \"Neutral\", \"Positive\", \"Neutral\", \"Positive\", \"Positive\", \"Positive\", \"Neutral\", \"Neutral\", \"Neutral\", \"Positive\", \"Positive\", \"Positive\", \"Positive\", \"Negative\", \"Negative\", \"Neutral\", \"Positive\", \"Positive\", \"Positive\", \"Negative\", \"Positive\", \"Neutral\", \"Positive\", \"Neutral\", \"Positive\", \"Positive\", \"Negative\", \"Negative\", \"Positive\", \"Neutral\", \"Negative\", \"Positive\", \"Positive\", \"Negative\", \"Negative\", \"Neutral\", \"Neutral\", \"Neutral\", \"Negative\", \"Neutral\", \"Negative\", \"Negative\", \"Positive\", \"Positive\", \"Negative\", \"Negative\", \"Negative\", \"Positive\", \"Negative\", \"Positive\", \"Positive\", \"Positive\", \"Positive\", \"Positive\", \"Negative\", \"Neutral\", \"Positive\", \"Neutral\", \"Positive\", \"Neutral\", \"Negative\", \"Positive\", \"Neutral\", \"Positive\", \"Neutral\", \"Neutral\", \"Positive\", \"Positive\", \"Positive\", \"Positive\", \"Negative\", \"Negative\", \"Neutral\", \"Positive\", \"Neutral\", \"Neutral\", \"Positive\", \"Positive\", \"Neutral\", \"Positive\", \"Neutral\", \"Negative\", \"Positive\", \"Neutral\", \"Positive\", \"Negative\", \"Positive\", \"Positive\", \"Neutral\", \"Positive\", \"Positive\", \"Neutral\", \"Positive\", \"Positive\", \"Positive\", \"Neutral\", \"Neutral\", \"Positive\", \"Positive\", \"Positive\", \"Negative\", \"Positive\", \"Neutral\", \"Negative\", \"Positive\", \"Positive\", \"Neutral\", \"Positive\", \"Positive\", \"Positive\", \"Positive\", \"Negative\", \"Neutral\", \"Positive\", \"Positive\", \"Positive\", \"Positive\", \"Negative\", \"Neutral\", \"Positive\", \"Positive\", \"Positive\", \"Positive\", \"Neutral\", \"Positive\", \"Positive\", \"Neutral\", \"Positive\", \"Negative\", \"Negative\", \"Positive\", \"Positive\", \"Positive\", \"Neutral\", \"Neutral\", \"Positive\", \"Positive\", \"Neutral\", \"Positive\", \"Positive\", \"Negative\", \"Neutral\", \"Negative\", \"Positive\", \"Positive\", \"Positive\", \"Positive\", \"Positive\", \"Negative\", \"Neutral\", \"Positive\", \"Neutral\", \"Neutral\", \"Neutral\", \"Positive\", \"Positive\", \"Positive\", \"Negative\", \"Negative\", \"Negative\", \"Positive\", \"Negative\", \"Positive\", \"Positive\", \"Negative\", \"Positive\", \"Negative\", \"Positive\", \"Neutral\", \"Positive\", \"Positive\", \"Neutral\", \"Positive\", \"Negative\", \"Positive\", \"Positive\", \"Neutral\", \"Positive\", \"Positive\", \"Positive\", \"Negative\", \"Positive\", \"Positive\", \"Positive\", \"Positive\", \"Positive\", \"Negative\", \"Neutral\", \"Positive\", \"Negative\", \"Positive\", \"Positive\", \"Neutral\", \"Neutral\", \"Positive\", \"Positive\", \"Positive\", \"Positive\", \"Positive\", \"Positive\", \"Positive\", \"Negative\", \"Neutral\", \"Positive\", \"Negative\", \"Positive\", \"Positive\", \"Negative\", \"Positive\", \"Positive\", \"Negative\", \"Positive\", \"Negative\", \"Neutral\", \"Positive\", \"Positive\", \"Neutral\", \"Positive\", \"Positive\", \"Positive\", \"Neutral\", \"Positive\", \"Neutral\", \"Positive\", \"Positive\", \"Neutral\", \"Positive\", \"Neutral\", \"Positive\", \"Neutral\", \"Positive\", \"Neutral\", \"Positive\", \"Positive\", \"Positive\", \"Positive\", \"Negative\", \"Positive\", \"Positive\", \"Negative\", \"Neutral\", \"Positive\", \"Positive\", \"Positive\", \"Neutral\", \"Positive\", \"Positive\", \"Positive\", \"Positive\", \"Positive\", \"Positive\", \"Negative\", \"Positive\", \"Neutral\", \"Neutral\", \"Positive\", \"Neutral\", \"Negative\", \"Positive\", \"Neutral\", \"Positive\", \"Negative\", \"Positive\", \"Negative\", \"Positive\", \"Positive\", \"Neutral\", \"Negative\", \"Positive\", \"Positive\", \"Negative\", \"Positive\", \"Positive\", \"Neutral\", \"Positive\", \"Negative\", \"Positive\", \"Positive\", \"Positive\", \"Positive\", \"Positive\", \"Negative\", \"Positive\", \"Positive\", \"Negative\", \"Neutral\", \"Neutral\", \"Negative\", \"Positive\", \"Positive\", \"Positive\", \"Positive\", \"Positive\", \"Positive\", \"Positive\", \"Positive\", \"Positive\", \"Neutral\", \"Positive\", \"Positive\", \"Positive\", \"Positive\", \"Negative\", \"Negative\", \"Negative\", \"Neutral\", \"Negative\", \"Negative\", \"Positive\", \"Positive\", \"Positive\", \"Neutral\", \"Positive\", \"Positive\", \"Neutral\", \"Positive\", \"Negative\", \"Negative\", \"Negative\", \"Positive\", \"Positive\", \"Positive\", \"Positive\", \"Negative\", \"Positive\", \"Positive\", \"Negative\", \"Positive\", \"Neutral\", \"Positive\", \"Neutral\", \"Negative\", \"Neutral\", \"Positive\", \"Positive\", \"Positive\", \"Positive\", \"Negative\", \"Positive\", \"Positive\", \"Positive\", \"Positive\", \"Positive\", \"Positive\", \"Positive\", \"Positive\", \"Positive\", \"Positive\"], \"legendgroup\": \"\", \"marker\": {\"colors\": [\"#636efa\", \"#EF553B\", \"#636efa\", \"#636efa\", \"#636efa\", \"#636efa\", \"#636efa\", \"#636efa\", \"#636efa\", \"#636efa\", \"#636efa\", \"#636efa\", \"#636efa\", \"#636efa\", \"#636efa\", \"#636efa\", \"#EF553B\", \"#636efa\", \"#636efa\", \"#636efa\", \"#636efa\", \"#636efa\", \"#636efa\", \"#636efa\", \"#636efa\", \"#636efa\", \"#636efa\", \"#636efa\", \"#636efa\", \"#636efa\", \"#636efa\", \"#EF553B\", \"#636efa\", \"#636efa\", \"#636efa\", \"#EF553B\", \"#636efa\", \"#636efa\", \"#636efa\", \"#EF553B\", \"#636efa\", \"#636efa\", \"#636efa\", \"#636efa\", \"#636efa\", \"#636efa\", \"#636efa\", \"#636efa\", \"#636efa\", \"#EF553B\", \"#636efa\", \"#636efa\", \"#636efa\", \"#636efa\", \"#636efa\", \"#636efa\", \"#00cc96\", \"#636efa\", \"#636efa\", \"#EF553B\", \"#636efa\", \"#636efa\", \"#EF553B\", \"#636efa\", \"#636efa\", \"#EF553B\", \"#00cc96\", \"#636efa\", \"#00cc96\", \"#636efa\", \"#636efa\", \"#636efa\", \"#EF553B\", \"#EF553B\", \"#636efa\", \"#636efa\", \"#636efa\", \"#636efa\", \"#636efa\", \"#636efa\", \"#00cc96\", \"#00cc96\", \"#636efa\", \"#636efa\", \"#636efa\", \"#EF553B\", \"#636efa\", \"#636efa\", \"#636efa\", \"#00cc96\", \"#636efa\", \"#636efa\", \"#00cc96\", \"#636efa\", \"#636efa\", \"#00cc96\", \"#636efa\", \"#636efa\", \"#636efa\", \"#636efa\", \"#636efa\", \"#636efa\", \"#636efa\", \"#636efa\", \"#636efa\", \"#636efa\", \"#636efa\", \"#636efa\", \"#636efa\", \"#636efa\", \"#636efa\", \"#636efa\", \"#636efa\", \"#636efa\", \"#636efa\", \"#EF553B\", \"#00cc96\", \"#00cc96\", \"#636efa\", \"#636efa\", \"#00cc96\", \"#636efa\", \"#636efa\", \"#636efa\", \"#EF553B\", \"#EF553B\", \"#00cc96\", \"#00cc96\", \"#636efa\", \"#EF553B\", \"#636efa\", \"#EF553B\", \"#00cc96\", \"#EF553B\", \"#00cc96\", \"#EF553B\", \"#636efa\", \"#636efa\", \"#00cc96\", \"#636efa\", \"#636efa\", \"#636efa\", \"#636efa\", \"#00cc96\", \"#EF553B\", \"#636efa\", \"#636efa\", \"#EF553B\", \"#636efa\", \"#EF553B\", \"#00cc96\", \"#636efa\", \"#636efa\", \"#636efa\", \"#636efa\", \"#636efa\", \"#EF553B\", \"#636efa\", \"#636efa\", \"#636efa\", \"#636efa\", \"#636efa\", \"#00cc96\", \"#EF553B\", \"#636efa\", \"#636efa\", \"#00cc96\", \"#00cc96\", \"#636efa\", \"#636efa\", \"#636efa\", \"#636efa\", \"#EF553B\", \"#EF553B\", \"#EF553B\", \"#636efa\", \"#636efa\", \"#636efa\", \"#636efa\", \"#636efa\", \"#00cc96\", \"#00cc96\", \"#00cc96\", \"#636efa\", \"#636efa\", \"#636efa\", \"#EF553B\", \"#EF553B\", \"#00cc96\", \"#636efa\", \"#636efa\", \"#00cc96\", \"#00cc96\", \"#EF553B\", \"#00cc96\", \"#636efa\", \"#636efa\", \"#636efa\", \"#636efa\", \"#636efa\", \"#636efa\", \"#EF553B\", \"#636efa\", \"#00cc96\", \"#636efa\", \"#EF553B\", \"#00cc96\", \"#636efa\", \"#00cc96\", \"#636efa\", \"#636efa\", \"#636efa\", \"#636efa\", \"#00cc96\", \"#636efa\", \"#EF553B\", \"#636efa\", \"#636efa\", \"#00cc96\", \"#00cc96\", \"#636efa\", \"#636efa\", \"#EF553B\", \"#636efa\", \"#636efa\", \"#00cc96\", \"#00cc96\", \"#EF553B\", \"#636efa\", \"#636efa\", \"#00cc96\", \"#EF553B\", \"#EF553B\", \"#636efa\", \"#636efa\", \"#EF553B\", \"#00cc96\", \"#EF553B\", \"#636efa\", \"#636efa\", \"#636efa\", \"#00cc96\", \"#00cc96\", \"#636efa\", \"#636efa\", \"#636efa\", \"#636efa\", \"#00cc96\", \"#00cc96\", \"#636efa\", \"#636efa\", \"#00cc96\", \"#00cc96\", \"#636efa\", \"#636efa\", \"#636efa\", \"#636efa\", \"#EF553B\", \"#636efa\", \"#00cc96\", \"#636efa\", \"#636efa\", \"#636efa\", \"#636efa\", \"#EF553B\", \"#636efa\", \"#EF553B\", \"#636efa\", \"#636efa\", \"#636efa\", \"#636efa\", \"#636efa\", \"#EF553B\", \"#636efa\", \"#636efa\", \"#636efa\", \"#00cc96\", \"#EF553B\", \"#636efa\", \"#EF553B\", \"#00cc96\", \"#EF553B\", \"#00cc96\", \"#00cc96\", \"#00cc96\", \"#EF553B\", \"#00cc96\", \"#00cc96\", \"#00cc96\", \"#636efa\", \"#00cc96\", \"#EF553B\", \"#636efa\", \"#636efa\", \"#636efa\", \"#00cc96\", \"#00cc96\", \"#636efa\", \"#00cc96\", \"#EF553B\", \"#636efa\", \"#636efa\", \"#636efa\", \"#00cc96\", \"#00cc96\", \"#EF553B\", \"#00cc96\", \"#636efa\", \"#636efa\", \"#00cc96\", \"#636efa\", \"#00cc96\", \"#EF553B\", \"#636efa\", \"#00cc96\", \"#EF553B\", \"#636efa\", \"#636efa\", \"#636efa\", \"#636efa\", \"#00cc96\", \"#636efa\", \"#636efa\", \"#636efa\", \"#00cc96\", \"#00cc96\", \"#00cc96\", \"#EF553B\", \"#636efa\", \"#00cc96\", \"#636efa\", \"#00cc96\", \"#636efa\", \"#636efa\", \"#636efa\", \"#636efa\", \"#636efa\", \"#636efa\", \"#EF553B\", \"#00cc96\", \"#00cc96\", \"#00cc96\", \"#636efa\", \"#00cc96\", \"#00cc96\", \"#636efa\", \"#00cc96\", \"#00cc96\", \"#636efa\", \"#636efa\", \"#636efa\", \"#636efa\", \"#636efa\", \"#636efa\", \"#636efa\", \"#00cc96\", \"#636efa\", \"#636efa\", \"#00cc96\", \"#636efa\", \"#00cc96\", \"#636efa\", \"#EF553B\", \"#EF553B\", \"#00cc96\", \"#636efa\", \"#636efa\", \"#00cc96\", \"#00cc96\", \"#636efa\", \"#636efa\", \"#636efa\", \"#636efa\", \"#636efa\", \"#636efa\", \"#636efa\", \"#636efa\", \"#EF553B\", \"#EF553B\", \"#636efa\", \"#EF553B\", \"#636efa\", \"#636efa\", \"#00cc96\", \"#EF553B\", \"#00cc96\", \"#00cc96\", \"#636efa\", \"#636efa\", \"#636efa\", \"#636efa\", \"#EF553B\", \"#636efa\", \"#00cc96\", \"#636efa\", \"#636efa\", \"#636efa\", \"#EF553B\", \"#00cc96\", \"#EF553B\", \"#636efa\", \"#00cc96\", \"#EF553B\", \"#00cc96\", \"#00cc96\", \"#636efa\", \"#00cc96\", \"#EF553B\", \"#EF553B\", \"#636efa\", \"#636efa\", \"#00cc96\", \"#636efa\", \"#636efa\", \"#00cc96\", \"#EF553B\", \"#EF553B\", \"#00cc96\", \"#EF553B\", \"#00cc96\", \"#00cc96\", \"#EF553B\", \"#636efa\", \"#00cc96\", \"#EF553B\", \"#00cc96\", \"#00cc96\", \"#EF553B\", \"#636efa\", \"#00cc96\", \"#00cc96\", \"#EF553B\", \"#636efa\", \"#00cc96\", \"#636efa\", \"#00cc96\", \"#00cc96\", \"#636efa\", \"#636efa\", \"#EF553B\", \"#EF553B\", \"#00cc96\", \"#636efa\", \"#636efa\", \"#636efa\", \"#636efa\", \"#00cc96\", \"#00cc96\", \"#EF553B\", \"#00cc96\", \"#00cc96\", \"#EF553B\", \"#EF553B\", \"#636efa\", \"#EF553B\", \"#EF553B\", \"#636efa\", \"#EF553B\", \"#636efa\", \"#00cc96\", \"#00cc96\", \"#00cc96\", \"#636efa\", \"#636efa\", \"#636efa\", \"#EF553B\", \"#636efa\", \"#EF553B\", \"#00cc96\", \"#EF553B\", \"#EF553B\", \"#636efa\", \"#636efa\", \"#636efa\", \"#00cc96\", \"#636efa\", \"#00cc96\", \"#00cc96\", \"#EF553B\", \"#636efa\", \"#636efa\", \"#00cc96\", \"#EF553B\", \"#636efa\", \"#636efa\", \"#00cc96\", \"#00cc96\", \"#636efa\", \"#EF553B\", \"#EF553B\", \"#636efa\", \"#636efa\", \"#636efa\", \"#00cc96\", \"#636efa\", \"#636efa\", \"#EF553B\", \"#00cc96\", \"#636efa\", \"#636efa\", \"#636efa\", \"#00cc96\", \"#636efa\", \"#636efa\", \"#636efa\", \"#636efa\", \"#00cc96\", \"#EF553B\", \"#636efa\", \"#EF553B\", \"#EF553B\", \"#636efa\", \"#EF553B\", \"#EF553B\", \"#636efa\", \"#EF553B\", \"#EF553B\", \"#00cc96\", \"#EF553B\", \"#EF553B\", \"#636efa\", \"#00cc96\", \"#636efa\", \"#00cc96\", \"#636efa\", \"#EF553B\", \"#636efa\", \"#636efa\", \"#00cc96\", \"#636efa\", \"#636efa\", \"#00cc96\", \"#636efa\", \"#EF553B\", \"#636efa\", \"#636efa\", \"#636efa\", \"#00cc96\", \"#00cc96\", \"#EF553B\", \"#636efa\", \"#00cc96\", \"#636efa\", \"#00cc96\", \"#636efa\", \"#636efa\", \"#EF553B\", \"#EF553B\", \"#00cc96\", \"#636efa\", \"#00cc96\", \"#636efa\", \"#636efa\", \"#636efa\", \"#636efa\", \"#636efa\", \"#EF553B\", \"#EF553B\", \"#636efa\", \"#EF553B\", \"#00cc96\", \"#EF553B\", \"#636efa\", \"#636efa\", \"#636efa\", \"#636efa\", \"#EF553B\", \"#636efa\", \"#00cc96\", \"#EF553B\", \"#00cc96\", \"#636efa\", \"#636efa\", \"#00cc96\", \"#00cc96\", \"#00cc96\", \"#636efa\", \"#636efa\", \"#00cc96\", \"#00cc96\", \"#636efa\", \"#00cc96\", \"#00cc96\", \"#EF553B\", \"#636efa\", \"#636efa\", \"#636efa\", \"#00cc96\", \"#636efa\", \"#00cc96\", \"#636efa\", \"#636efa\", \"#00cc96\", \"#636efa\", \"#00cc96\", \"#636efa\", \"#636efa\", \"#636efa\", \"#00cc96\", \"#00cc96\", \"#00cc96\", \"#636efa\", \"#636efa\", \"#636efa\", \"#636efa\", \"#EF553B\", \"#EF553B\", \"#00cc96\", \"#636efa\", \"#636efa\", \"#636efa\", \"#EF553B\", \"#636efa\", \"#00cc96\", \"#636efa\", \"#00cc96\", \"#636efa\", \"#636efa\", \"#EF553B\", \"#EF553B\", \"#636efa\", \"#00cc96\", \"#EF553B\", \"#636efa\", \"#636efa\", \"#EF553B\", \"#EF553B\", \"#00cc96\", \"#00cc96\", \"#00cc96\", \"#EF553B\", \"#00cc96\", \"#EF553B\", \"#EF553B\", \"#636efa\", \"#636efa\", \"#EF553B\", \"#EF553B\", \"#EF553B\", \"#636efa\", \"#EF553B\", \"#636efa\", \"#636efa\", \"#636efa\", \"#636efa\", \"#636efa\", \"#EF553B\", \"#00cc96\", \"#636efa\", \"#00cc96\", \"#636efa\", \"#00cc96\", \"#EF553B\", \"#636efa\", \"#00cc96\", \"#636efa\", \"#00cc96\", \"#00cc96\", \"#636efa\", \"#636efa\", \"#636efa\", \"#636efa\", \"#EF553B\", \"#EF553B\", \"#00cc96\", \"#636efa\", \"#00cc96\", \"#00cc96\", \"#636efa\", \"#636efa\", \"#00cc96\", \"#636efa\", \"#00cc96\", \"#EF553B\", \"#636efa\", \"#00cc96\", \"#636efa\", \"#EF553B\", \"#636efa\", \"#636efa\", \"#00cc96\", \"#636efa\", \"#636efa\", \"#00cc96\", \"#636efa\", \"#636efa\", \"#636efa\", \"#00cc96\", \"#00cc96\", \"#636efa\", \"#636efa\", \"#636efa\", \"#EF553B\", \"#636efa\", \"#00cc96\", \"#EF553B\", \"#636efa\", \"#636efa\", \"#00cc96\", \"#636efa\", \"#636efa\", \"#636efa\", \"#636efa\", \"#EF553B\", \"#00cc96\", \"#636efa\", \"#636efa\", \"#636efa\", \"#636efa\", \"#EF553B\", \"#00cc96\", \"#636efa\", \"#636efa\", \"#636efa\", \"#636efa\", \"#00cc96\", \"#636efa\", \"#636efa\", \"#00cc96\", \"#636efa\", \"#EF553B\", \"#EF553B\", \"#636efa\", \"#636efa\", \"#636efa\", \"#00cc96\", \"#00cc96\", \"#636efa\", \"#636efa\", \"#00cc96\", \"#636efa\", \"#636efa\", \"#EF553B\", \"#00cc96\", \"#EF553B\", \"#636efa\", \"#636efa\", \"#636efa\", \"#636efa\", \"#636efa\", \"#EF553B\", \"#00cc96\", \"#636efa\", \"#00cc96\", \"#00cc96\", \"#00cc96\", \"#636efa\", \"#636efa\", \"#636efa\", \"#EF553B\", \"#EF553B\", \"#EF553B\", \"#636efa\", \"#EF553B\", \"#636efa\", \"#636efa\", \"#EF553B\", \"#636efa\", \"#EF553B\", \"#636efa\", \"#00cc96\", \"#636efa\", \"#636efa\", \"#00cc96\", \"#636efa\", \"#EF553B\", \"#636efa\", \"#636efa\", \"#00cc96\", \"#636efa\", \"#636efa\", \"#636efa\", \"#EF553B\", \"#636efa\", \"#636efa\", \"#636efa\", \"#636efa\", \"#636efa\", \"#EF553B\", \"#00cc96\", \"#636efa\", \"#EF553B\", \"#636efa\", \"#636efa\", \"#00cc96\", \"#00cc96\", \"#636efa\", \"#636efa\", \"#636efa\", \"#636efa\", \"#636efa\", \"#636efa\", \"#636efa\", \"#EF553B\", \"#00cc96\", \"#636efa\", \"#EF553B\", \"#636efa\", \"#636efa\", \"#EF553B\", \"#636efa\", \"#636efa\", \"#EF553B\", \"#636efa\", \"#EF553B\", \"#00cc96\", \"#636efa\", \"#636efa\", \"#00cc96\", \"#636efa\", \"#636efa\", \"#636efa\", \"#00cc96\", \"#636efa\", \"#00cc96\", \"#636efa\", \"#636efa\", \"#00cc96\", \"#636efa\", \"#00cc96\", \"#636efa\", \"#00cc96\", \"#636efa\", \"#00cc96\", \"#636efa\", \"#636efa\", \"#636efa\", \"#636efa\", \"#EF553B\", \"#636efa\", \"#636efa\", \"#EF553B\", \"#00cc96\", \"#636efa\", \"#636efa\", \"#636efa\", \"#00cc96\", \"#636efa\", \"#636efa\", \"#636efa\", \"#636efa\", \"#636efa\", \"#636efa\", \"#EF553B\", \"#636efa\", \"#00cc96\", \"#00cc96\", \"#636efa\", \"#00cc96\", \"#EF553B\", \"#636efa\", \"#00cc96\", \"#636efa\", \"#EF553B\", \"#636efa\", \"#EF553B\", \"#636efa\", \"#636efa\", \"#00cc96\", \"#EF553B\", \"#636efa\", \"#636efa\", \"#EF553B\", \"#636efa\", \"#636efa\", \"#00cc96\", \"#636efa\", \"#EF553B\", \"#636efa\", \"#636efa\", \"#636efa\", \"#636efa\", \"#636efa\", \"#EF553B\", \"#636efa\", \"#636efa\", \"#EF553B\", \"#00cc96\", \"#00cc96\", \"#EF553B\", \"#636efa\", \"#636efa\", \"#636efa\", \"#636efa\", \"#636efa\", \"#636efa\", \"#636efa\", \"#636efa\", \"#636efa\", \"#00cc96\", \"#636efa\", \"#636efa\", \"#636efa\", \"#636efa\", \"#EF553B\", \"#EF553B\", \"#EF553B\", \"#00cc96\", \"#EF553B\", \"#EF553B\", \"#636efa\", \"#636efa\", \"#636efa\", \"#00cc96\", \"#636efa\", \"#636efa\", \"#00cc96\", \"#636efa\", \"#EF553B\", \"#EF553B\", \"#EF553B\", \"#636efa\", \"#636efa\", \"#636efa\", \"#636efa\", \"#EF553B\", \"#636efa\", \"#636efa\", \"#EF553B\", \"#636efa\", \"#00cc96\", \"#636efa\", \"#00cc96\", \"#EF553B\", \"#00cc96\", \"#636efa\", \"#636efa\", \"#636efa\", \"#636efa\", \"#EF553B\", \"#636efa\", \"#636efa\", \"#636efa\", \"#636efa\", \"#636efa\", \"#636efa\", \"#636efa\", \"#636efa\", \"#636efa\", \"#636efa\"]}, \"name\": \"\", \"showlegend\": true, \"type\": \"pie\", \"values\": [1, 3, 1, 1, 1, 1, 1, 1, 1, 1, 1, 1, 1, 1, 1, 1, 3, 1, 1, 1, 1, 1, 1, 1, 1, 1, 1, 1, 1, 1, 1, 3, 1, 1, 1, 3, 1, 1, 1, 3, 1, 1, 1, 1, 1, 1, 1, 1, 1, 3, 1, 1, 1, 1, 1, 1, 2, 1, 1, 3, 1, 1, 3, 1, 1, 3, 2, 1, 2, 1, 1, 1, 3, 3, 1, 1, 1, 1, 1, 1, 2, 2, 1, 1, 1, 3, 1, 1, 1, 2, 1, 1, 2, 1, 1, 2, 1, 1, 1, 1, 1, 1, 1, 1, 1, 1, 1, 1, 1, 1, 1, 1, 1, 1, 1, 3, 2, 2, 1, 1, 2, 1, 1, 1, 3, 3, 2, 2, 1, 3, 1, 3, 2, 3, 2, 3, 1, 1, 2, 1, 1, 1, 1, 2, 3, 1, 1, 3, 1, 3, 2, 1, 1, 1, 1, 1, 3, 1, 1, 1, 1, 1, 2, 3, 1, 1, 2, 2, 1, 1, 1, 1, 3, 3, 3, 1, 1, 1, 1, 1, 2, 2, 2, 1, 1, 1, 3, 3, 2, 1, 1, 2, 2, 3, 2, 1, 1, 1, 1, 1, 1, 3, 1, 2, 1, 3, 2, 1, 2, 1, 1, 1, 1, 2, 1, 3, 1, 1, 2, 2, 1, 1, 3, 1, 1, 2, 2, 3, 1, 1, 2, 3, 3, 1, 1, 3, 2, 3, 1, 1, 1, 2, 2, 1, 1, 1, 1, 2, 2, 1, 1, 2, 2, 1, 1, 1, 1, 3, 1, 2, 1, 1, 1, 1, 3, 1, 3, 1, 1, 1, 1, 1, 3, 1, 1, 1, 2, 3, 1, 3, 2, 3, 2, 2, 2, 3, 2, 2, 2, 1, 2, 3, 1, 1, 1, 2, 2, 1, 2, 3, 1, 1, 1, 2, 2, 3, 2, 1, 1, 2, 1, 2, 3, 1, 2, 3, 1, 1, 1, 1, 2, 1, 1, 1, 2, 2, 2, 3, 1, 2, 1, 2, 1, 1, 1, 1, 1, 1, 3, 2, 2, 2, 1, 2, 2, 1, 2, 2, 1, 1, 1, 1, 1, 1, 1, 2, 1, 1, 2, 1, 2, 1, 3, 3, 2, 1, 1, 2, 2, 1, 1, 1, 1, 1, 1, 1, 1, 3, 3, 1, 3, 1, 1, 2, 3, 2, 2, 1, 1, 1, 1, 3, 1, 2, 1, 1, 1, 3, 2, 3, 1, 2, 3, 2, 2, 1, 2, 3, 3, 1, 1, 2, 1, 1, 2, 3, 3, 2, 3, 2, 2, 3, 1, 2, 3, 2, 2, 3, 1, 2, 2, 3, 1, 2, 1, 2, 2, 1, 1, 3, 3, 2, 1, 1, 1, 1, 2, 2, 3, 2, 2, 3, 3, 1, 3, 3, 1, 3, 1, 2, 2, 2, 1, 1, 1, 3, 1, 3, 2, 3, 3, 1, 1, 1, 2, 1, 2, 2, 3, 1, 1, 2, 3, 1, 1, 2, 2, 1, 3, 3, 1, 1, 1, 2, 1, 1, 3, 2, 1, 1, 1, 2, 1, 1, 1, 1, 2, 3, 1, 3, 3, 1, 3, 3, 1, 3, 3, 2, 3, 3, 1, 2, 1, 2, 1, 3, 1, 1, 2, 1, 1, 2, 1, 3, 1, 1, 1, 2, 2, 3, 1, 2, 1, 2, 1, 1, 3, 3, 2, 1, 2, 1, 1, 1, 1, 1, 3, 3, 1, 3, 2, 3, 1, 1, 1, 1, 3, 1, 2, 3, 2, 1, 1, 2, 2, 2, 1, 1, 2, 2, 1, 2, 2, 3, 1, 1, 1, 2, 1, 2, 1, 1, 2, 1, 2, 1, 1, 1, 2, 2, 2, 1, 1, 1, 1, 3, 3, 2, 1, 1, 1, 3, 1, 2, 1, 2, 1, 1, 3, 3, 1, 2, 3, 1, 1, 3, 3, 2, 2, 2, 3, 2, 3, 3, 1, 1, 3, 3, 3, 1, 3, 1, 1, 1, 1, 1, 3, 2, 1, 2, 1, 2, 3, 1, 2, 1, 2, 2, 1, 1, 1, 1, 3, 3, 2, 1, 2, 2, 1, 1, 2, 1, 2, 3, 1, 2, 1, 3, 1, 1, 2, 1, 1, 2, 1, 1, 1, 2, 2, 1, 1, 1, 3, 1, 2, 3, 1, 1, 2, 1, 1, 1, 1, 3, 2, 1, 1, 1, 1, 3, 2, 1, 1, 1, 1, 2, 1, 1, 2, 1, 3, 3, 1, 1, 1, 2, 2, 1, 1, 2, 1, 1, 3, 2, 3, 1, 1, 1, 1, 1, 3, 2, 1, 2, 2, 2, 1, 1, 1, 3, 3, 3, 1, 3, 1, 1, 3, 1, 3, 1, 2, 1, 1, 2, 1, 3, 1, 1, 2, 1, 1, 1, 3, 1, 1, 1, 1, 1, 3, 2, 1, 3, 1, 1, 2, 2, 1, 1, 1, 1, 1, 1, 1, 3, 2, 1, 3, 1, 1, 3, 1, 1, 3, 1, 3, 2, 1, 1, 2, 1, 1, 1, 2, 1, 2, 1, 1, 2, 1, 2, 1, 2, 1, 2, 1, 1, 1, 1, 3, 1, 1, 3, 2, 1, 1, 1, 2, 1, 1, 1, 1, 1, 1, 3, 1, 2, 2, 1, 2, 3, 1, 2, 1, 3, 1, 3, 1, 1, 2, 3, 1, 1, 3, 1, 1, 2, 1, 3, 1, 1, 1, 1, 1, 3, 1, 1, 3, 2, 2, 3, 1, 1, 1, 1, 1, 1, 1, 1, 1, 2, 1, 1, 1, 1, 3, 3, 3, 2, 3, 3, 1, 1, 1, 2, 1, 1, 2, 1, 3, 3, 3, 1, 1, 1, 1, 3, 1, 1, 3, 1, 2, 1, 2, 3, 2, 1, 1, 1, 1, 3, 1, 1, 1, 1, 1, 1, 1, 1, 1, 1]}],\n",
              "                        {\"autosize\": false, \"legend\": {\"tracegroupgap\": 0}, \"margin\": {\"t\": 60}, \"template\": {\"data\": {\"bar\": [{\"error_x\": {\"color\": \"#2a3f5f\"}, \"error_y\": {\"color\": \"#2a3f5f\"}, \"marker\": {\"line\": {\"color\": \"#E5ECF6\", \"width\": 0.5}}, \"type\": \"bar\"}], \"barpolar\": [{\"marker\": {\"line\": {\"color\": \"#E5ECF6\", \"width\": 0.5}}, \"type\": \"barpolar\"}], \"carpet\": [{\"aaxis\": {\"endlinecolor\": \"#2a3f5f\", \"gridcolor\": \"white\", \"linecolor\": \"white\", \"minorgridcolor\": \"white\", \"startlinecolor\": \"#2a3f5f\"}, \"baxis\": {\"endlinecolor\": \"#2a3f5f\", \"gridcolor\": \"white\", \"linecolor\": \"white\", \"minorgridcolor\": \"white\", \"startlinecolor\": \"#2a3f5f\"}, \"type\": \"carpet\"}], \"choropleth\": [{\"colorbar\": {\"outlinewidth\": 0, \"ticks\": \"\"}, \"type\": \"choropleth\"}], \"contour\": [{\"colorbar\": {\"outlinewidth\": 0, \"ticks\": \"\"}, \"colorscale\": [[0.0, \"#0d0887\"], [0.1111111111111111, \"#46039f\"], [0.2222222222222222, \"#7201a8\"], [0.3333333333333333, \"#9c179e\"], [0.4444444444444444, \"#bd3786\"], [0.5555555555555556, \"#d8576b\"], [0.6666666666666666, \"#ed7953\"], [0.7777777777777778, \"#fb9f3a\"], [0.8888888888888888, \"#fdca26\"], [1.0, \"#f0f921\"]], \"type\": \"contour\"}], \"contourcarpet\": [{\"colorbar\": {\"outlinewidth\": 0, \"ticks\": \"\"}, \"type\": \"contourcarpet\"}], \"heatmap\": [{\"colorbar\": {\"outlinewidth\": 0, \"ticks\": \"\"}, \"colorscale\": [[0.0, \"#0d0887\"], [0.1111111111111111, \"#46039f\"], [0.2222222222222222, \"#7201a8\"], [0.3333333333333333, \"#9c179e\"], [0.4444444444444444, \"#bd3786\"], [0.5555555555555556, \"#d8576b\"], [0.6666666666666666, \"#ed7953\"], [0.7777777777777778, \"#fb9f3a\"], [0.8888888888888888, \"#fdca26\"], [1.0, \"#f0f921\"]], \"type\": \"heatmap\"}], \"heatmapgl\": [{\"colorbar\": {\"outlinewidth\": 0, \"ticks\": \"\"}, \"colorscale\": [[0.0, \"#0d0887\"], [0.1111111111111111, \"#46039f\"], [0.2222222222222222, \"#7201a8\"], [0.3333333333333333, \"#9c179e\"], [0.4444444444444444, \"#bd3786\"], [0.5555555555555556, \"#d8576b\"], [0.6666666666666666, \"#ed7953\"], [0.7777777777777778, \"#fb9f3a\"], [0.8888888888888888, \"#fdca26\"], [1.0, \"#f0f921\"]], \"type\": \"heatmapgl\"}], \"histogram\": [{\"marker\": {\"colorbar\": {\"outlinewidth\": 0, \"ticks\": \"\"}}, \"type\": \"histogram\"}], \"histogram2d\": [{\"colorbar\": {\"outlinewidth\": 0, \"ticks\": \"\"}, \"colorscale\": [[0.0, \"#0d0887\"], [0.1111111111111111, \"#46039f\"], [0.2222222222222222, \"#7201a8\"], [0.3333333333333333, \"#9c179e\"], [0.4444444444444444, \"#bd3786\"], [0.5555555555555556, \"#d8576b\"], [0.6666666666666666, \"#ed7953\"], [0.7777777777777778, \"#fb9f3a\"], [0.8888888888888888, \"#fdca26\"], [1.0, \"#f0f921\"]], \"type\": \"histogram2d\"}], \"histogram2dcontour\": [{\"colorbar\": {\"outlinewidth\": 0, \"ticks\": \"\"}, \"colorscale\": [[0.0, \"#0d0887\"], [0.1111111111111111, \"#46039f\"], [0.2222222222222222, \"#7201a8\"], [0.3333333333333333, \"#9c179e\"], [0.4444444444444444, \"#bd3786\"], [0.5555555555555556, \"#d8576b\"], [0.6666666666666666, \"#ed7953\"], [0.7777777777777778, \"#fb9f3a\"], [0.8888888888888888, \"#fdca26\"], [1.0, \"#f0f921\"]], \"type\": \"histogram2dcontour\"}], \"mesh3d\": [{\"colorbar\": {\"outlinewidth\": 0, \"ticks\": \"\"}, \"type\": \"mesh3d\"}], \"parcoords\": [{\"line\": {\"colorbar\": {\"outlinewidth\": 0, \"ticks\": \"\"}}, \"type\": \"parcoords\"}], \"pie\": [{\"automargin\": true, \"type\": \"pie\"}], \"scatter\": [{\"marker\": {\"colorbar\": {\"outlinewidth\": 0, \"ticks\": \"\"}}, \"type\": \"scatter\"}], \"scatter3d\": [{\"line\": {\"colorbar\": {\"outlinewidth\": 0, \"ticks\": \"\"}}, \"marker\": {\"colorbar\": {\"outlinewidth\": 0, \"ticks\": \"\"}}, \"type\": \"scatter3d\"}], \"scattercarpet\": [{\"marker\": {\"colorbar\": {\"outlinewidth\": 0, \"ticks\": \"\"}}, \"type\": \"scattercarpet\"}], \"scattergeo\": [{\"marker\": {\"colorbar\": {\"outlinewidth\": 0, \"ticks\": \"\"}}, \"type\": \"scattergeo\"}], \"scattergl\": [{\"marker\": {\"colorbar\": {\"outlinewidth\": 0, \"ticks\": \"\"}}, \"type\": \"scattergl\"}], \"scattermapbox\": [{\"marker\": {\"colorbar\": {\"outlinewidth\": 0, \"ticks\": \"\"}}, \"type\": \"scattermapbox\"}], \"scatterpolar\": [{\"marker\": {\"colorbar\": {\"outlinewidth\": 0, \"ticks\": \"\"}}, \"type\": \"scatterpolar\"}], \"scatterpolargl\": [{\"marker\": {\"colorbar\": {\"outlinewidth\": 0, \"ticks\": \"\"}}, \"type\": \"scatterpolargl\"}], \"scatterternary\": [{\"marker\": {\"colorbar\": {\"outlinewidth\": 0, \"ticks\": \"\"}}, \"type\": \"scatterternary\"}], \"surface\": [{\"colorbar\": {\"outlinewidth\": 0, \"ticks\": \"\"}, \"colorscale\": [[0.0, \"#0d0887\"], [0.1111111111111111, \"#46039f\"], [0.2222222222222222, \"#7201a8\"], [0.3333333333333333, \"#9c179e\"], [0.4444444444444444, \"#bd3786\"], [0.5555555555555556, \"#d8576b\"], [0.6666666666666666, \"#ed7953\"], [0.7777777777777778, \"#fb9f3a\"], [0.8888888888888888, \"#fdca26\"], [1.0, \"#f0f921\"]], \"type\": \"surface\"}], \"table\": [{\"cells\": {\"fill\": {\"color\": \"#EBF0F8\"}, \"line\": {\"color\": \"white\"}}, \"header\": {\"fill\": {\"color\": \"#C8D4E3\"}, \"line\": {\"color\": \"white\"}}, \"type\": \"table\"}]}, \"layout\": {\"annotationdefaults\": {\"arrowcolor\": \"#2a3f5f\", \"arrowhead\": 0, \"arrowwidth\": 1}, \"coloraxis\": {\"colorbar\": {\"outlinewidth\": 0, \"ticks\": \"\"}}, \"colorscale\": {\"diverging\": [[0, \"#8e0152\"], [0.1, \"#c51b7d\"], [0.2, \"#de77ae\"], [0.3, \"#f1b6da\"], [0.4, \"#fde0ef\"], [0.5, \"#f7f7f7\"], [0.6, \"#e6f5d0\"], [0.7, \"#b8e186\"], [0.8, \"#7fbc41\"], [0.9, \"#4d9221\"], [1, \"#276419\"]], \"sequential\": [[0.0, \"#0d0887\"], [0.1111111111111111, \"#46039f\"], [0.2222222222222222, \"#7201a8\"], [0.3333333333333333, \"#9c179e\"], [0.4444444444444444, \"#bd3786\"], [0.5555555555555556, \"#d8576b\"], [0.6666666666666666, \"#ed7953\"], [0.7777777777777778, \"#fb9f3a\"], [0.8888888888888888, \"#fdca26\"], [1.0, \"#f0f921\"]], \"sequentialminus\": [[0.0, \"#0d0887\"], [0.1111111111111111, \"#46039f\"], [0.2222222222222222, \"#7201a8\"], [0.3333333333333333, \"#9c179e\"], [0.4444444444444444, \"#bd3786\"], [0.5555555555555556, \"#d8576b\"], [0.6666666666666666, \"#ed7953\"], [0.7777777777777778, \"#fb9f3a\"], [0.8888888888888888, \"#fdca26\"], [1.0, \"#f0f921\"]]}, \"colorway\": [\"#636efa\", \"#EF553B\", \"#00cc96\", \"#ab63fa\", \"#FFA15A\", \"#19d3f3\", \"#FF6692\", \"#B6E880\", \"#FF97FF\", \"#FECB52\"], \"font\": {\"color\": \"#2a3f5f\"}, \"geo\": {\"bgcolor\": \"white\", \"lakecolor\": \"white\", \"landcolor\": \"#E5ECF6\", \"showlakes\": true, \"showland\": true, \"subunitcolor\": \"white\"}, \"hoverlabel\": {\"align\": \"left\"}, \"hovermode\": \"closest\", \"mapbox\": {\"style\": \"light\"}, \"paper_bgcolor\": \"white\", \"plot_bgcolor\": \"#E5ECF6\", \"polar\": {\"angularaxis\": {\"gridcolor\": \"white\", \"linecolor\": \"white\", \"ticks\": \"\"}, \"bgcolor\": \"#E5ECF6\", \"radialaxis\": {\"gridcolor\": \"white\", \"linecolor\": \"white\", \"ticks\": \"\"}}, \"scene\": {\"xaxis\": {\"backgroundcolor\": \"#E5ECF6\", \"gridcolor\": \"white\", \"gridwidth\": 2, \"linecolor\": \"white\", \"showbackground\": true, \"ticks\": \"\", \"zerolinecolor\": \"white\"}, \"yaxis\": {\"backgroundcolor\": \"#E5ECF6\", \"gridcolor\": \"white\", \"gridwidth\": 2, \"linecolor\": \"white\", \"showbackground\": true, \"ticks\": \"\", \"zerolinecolor\": \"white\"}, \"zaxis\": {\"backgroundcolor\": \"#E5ECF6\", \"gridcolor\": \"white\", \"gridwidth\": 2, \"linecolor\": \"white\", \"showbackground\": true, \"ticks\": \"\", \"zerolinecolor\": \"white\"}}, \"shapedefaults\": {\"line\": {\"color\": \"#2a3f5f\"}}, \"ternary\": {\"aaxis\": {\"gridcolor\": \"white\", \"linecolor\": \"white\", \"ticks\": \"\"}, \"baxis\": {\"gridcolor\": \"white\", \"linecolor\": \"white\", \"ticks\": \"\"}, \"bgcolor\": \"#E5ECF6\", \"caxis\": {\"gridcolor\": \"white\", \"linecolor\": \"white\", \"ticks\": \"\"}}, \"title\": {\"x\": 0.05}, \"xaxis\": {\"automargin\": true, \"gridcolor\": \"white\", \"linecolor\": \"white\", \"ticks\": \"\", \"title\": {\"standoff\": 15}, \"zerolinecolor\": \"white\", \"zerolinewidth\": 2}, \"yaxis\": {\"automargin\": true, \"gridcolor\": \"white\", \"linecolor\": \"white\", \"ticks\": \"\", \"title\": {\"standoff\": 15}, \"zerolinecolor\": \"white\", \"zerolinewidth\": 2}}}, \"title\": {\"text\": \"Distribution of Review Sentiments\"}},\n",
              "                        {\"responsive\": true}\n",
              "                    ).then(function(){\n",
              "                            \n",
              "var gd = document.getElementById('3c08df90-08f6-48d0-b7b8-586f7cd564e6');\n",
              "var x = new MutationObserver(function (mutations, observer) {{\n",
              "        var display = window.getComputedStyle(gd).display;\n",
              "        if (!display || display === 'none') {{\n",
              "            console.log([gd, 'removed!']);\n",
              "            Plotly.purge(gd);\n",
              "            observer.disconnect();\n",
              "        }}\n",
              "}});\n",
              "\n",
              "// Listen for the removal of the full notebook cells\n",
              "var notebookContainer = gd.closest('#notebook-container');\n",
              "if (notebookContainer) {{\n",
              "    x.observe(notebookContainer, {childList: true});\n",
              "}}\n",
              "\n",
              "// Listen for the clearing of the current output cell\n",
              "var outputEl = gd.closest('.output');\n",
              "if (outputEl) {{\n",
              "    x.observe(outputEl, {childList: true});\n",
              "}}\n",
              "\n",
              "                        })\n",
              "                };\n",
              "                \n",
              "            </script>\n",
              "        </div>\n",
              "</body>\n",
              "</html>"
            ]
          },
          "metadata": {
            "tags": []
          }
        }
      ]
    },
    {
      "cell_type": "markdown",
      "metadata": {
        "id": "d5Fm73gegzma"
      },
      "source": [
        "**What is the trend of sentients over time?**"
      ]
    },
    {
      "cell_type": "code",
      "metadata": {
        "colab": {
          "base_uri": "https://localhost:8080/",
          "height": 439
        },
        "id": "eTWWq6ing3pY",
        "outputId": "16ff5c3b-1280-4a56-8b0e-1314ec338a2b"
      },
      "source": [
        "date_str=[en.strftime('%Y') for  en in data_most_reviewed_store['date']]\n",
        "data_most_reviewed_store['date_year']=date_str\n",
        "# Sum the number of reviews per year\n",
        "data_most_reviewed_store_timeseries_pos=data_most_reviewed_store[data_most_reviewed_store['sentiments']==1].groupby('date_year')['date_year','sentiments'].sum()\n",
        "data_most_reviewed_store_timeseries_neg=data_most_reviewed_store[data_most_reviewed_store['sentiments']==3].groupby('date_year')['date_year','sentiments'].sum()\n",
        "data_most_reviewed_store_timeseries_neu=data_most_reviewed_store[data_most_reviewed_store['sentiments']==2].groupby('date_year')['date_year','sentiments'].sum()\n",
        "data_most_reviewed_store_timeseries_pos['rating']=['Positive' for i in range(len(data_most_reviewed_store_timeseries_pos))]\n",
        "data_most_reviewed_store_timeseries_neg['rating']=['Negative' for i in range(len(data_most_reviewed_store_timeseries_neg))]\n",
        "data_most_reviewed_store_timeseries_neu['rating']=['Neutral' for i in range(len(data_most_reviewed_store_timeseries_neu))]\n",
        "data_most_reviewed_store_timeseries=pd.concat([data_most_reviewed_store_timeseries_pos,data_most_reviewed_store_timeseries_neg])\n",
        "data_most_reviewed_store_timeseries=pd.concat([data_most_reviewed_store_timeseries,data_most_reviewed_store_timeseries_neu])\n",
        "# No of reviews per year\n",
        "data_most_reviewed_store_timeseries['year']=data_most_reviewed_store_timeseries.index\n",
        "data_most_reviewed_store_timeseries.head()"
      ],
      "execution_count": null,
      "outputs": [
        {
          "output_type": "stream",
          "text": [
            "/usr/local/lib/python3.7/dist-packages/ipykernel_launcher.py:4: FutureWarning:\n",
            "\n",
            "Indexing with multiple keys (implicitly converted to a tuple of keys) will be deprecated, use a list instead.\n",
            "\n",
            "/usr/local/lib/python3.7/dist-packages/ipykernel_launcher.py:5: FutureWarning:\n",
            "\n",
            "Indexing with multiple keys (implicitly converted to a tuple of keys) will be deprecated, use a list instead.\n",
            "\n",
            "/usr/local/lib/python3.7/dist-packages/ipykernel_launcher.py:6: FutureWarning:\n",
            "\n",
            "Indexing with multiple keys (implicitly converted to a tuple of keys) will be deprecated, use a list instead.\n",
            "\n"
          ],
          "name": "stderr"
        },
        {
          "output_type": "execute_result",
          "data": {
            "text/html": [
              "<div>\n",
              "<style scoped>\n",
              "    .dataframe tbody tr th:only-of-type {\n",
              "        vertical-align: middle;\n",
              "    }\n",
              "\n",
              "    .dataframe tbody tr th {\n",
              "        vertical-align: top;\n",
              "    }\n",
              "\n",
              "    .dataframe thead th {\n",
              "        text-align: right;\n",
              "    }\n",
              "</style>\n",
              "<table border=\"1\" class=\"dataframe\">\n",
              "  <thead>\n",
              "    <tr style=\"text-align: right;\">\n",
              "      <th></th>\n",
              "      <th>sentiments</th>\n",
              "      <th>rating</th>\n",
              "      <th>year</th>\n",
              "    </tr>\n",
              "    <tr>\n",
              "      <th>date_year</th>\n",
              "      <th></th>\n",
              "      <th></th>\n",
              "      <th></th>\n",
              "    </tr>\n",
              "  </thead>\n",
              "  <tbody>\n",
              "    <tr>\n",
              "      <th>2006</th>\n",
              "      <td>1</td>\n",
              "      <td>Positive</td>\n",
              "      <td>2006</td>\n",
              "    </tr>\n",
              "    <tr>\n",
              "      <th>2007</th>\n",
              "      <td>5</td>\n",
              "      <td>Positive</td>\n",
              "      <td>2007</td>\n",
              "    </tr>\n",
              "    <tr>\n",
              "      <th>2008</th>\n",
              "      <td>15</td>\n",
              "      <td>Positive</td>\n",
              "      <td>2008</td>\n",
              "    </tr>\n",
              "    <tr>\n",
              "      <th>2009</th>\n",
              "      <td>29</td>\n",
              "      <td>Positive</td>\n",
              "      <td>2009</td>\n",
              "    </tr>\n",
              "    <tr>\n",
              "      <th>2010</th>\n",
              "      <td>40</td>\n",
              "      <td>Positive</td>\n",
              "      <td>2010</td>\n",
              "    </tr>\n",
              "  </tbody>\n",
              "</table>\n",
              "</div>"
            ],
            "text/plain": [
              "           sentiments    rating  year\n",
              "date_year                            \n",
              "2006                1  Positive  2006\n",
              "2007                5  Positive  2007\n",
              "2008               15  Positive  2008\n",
              "2009               29  Positive  2009\n",
              "2010               40  Positive  2010"
            ]
          },
          "metadata": {
            "tags": []
          },
          "execution_count": 12
        }
      ]
    },
    {
      "cell_type": "code",
      "metadata": {
        "colab": {
          "base_uri": "https://localhost:8080/",
          "height": 542
        },
        "id": "XgX9X9wJHDwW",
        "outputId": "23186f07-9b36-4150-ce8a-a5ea997cb051"
      },
      "source": [
        "from plotly.subplots import make_subplots\n",
        "fig = go.Figure()\n",
        "\n",
        "fig.add_trace(go.Scatter(x=list(data_most_reviewed_store_timeseries.index), \n",
        "                         y=data_most_reviewed_store_timeseries_pos['sentiments'],\n",
        "                         mode='lines',\n",
        "                         name='positive',\n",
        "                         line=dict(color='rgb(0,245,153)', width=1)))\n",
        "fig.add_trace(go.Scatter(x=list(data_most_reviewed_store_timeseries.index), \n",
        "                         y=data_most_reviewed_store_timeseries_neg['sentiments'],\n",
        "                         mode='lines',\n",
        "                         name='negative',\n",
        "                         line=dict(color='rgb(255, 102, 102)', width=1)))\n",
        "fig.add_trace(go.Scatter(x=list(data_most_reviewed_store_timeseries.index), \n",
        "                         y=data_most_reviewed_store_timeseries_neu['sentiments'],\n",
        "                         mode='lines',\n",
        "                         name='neutral',\n",
        "                         line=dict(color='rgb(102, 102, 255)', width=1)))\n",
        "fig.update_layout(\n",
        "     autosize=False,\n",
        "     title='Trend of sentiments over time'\n",
        "    )"
      ],
      "execution_count": null,
      "outputs": [
        {
          "output_type": "display_data",
          "data": {
            "text/html": [
              "<html>\n",
              "<head><meta charset=\"utf-8\" /></head>\n",
              "<body>\n",
              "    <div>\n",
              "            <script src=\"https://cdnjs.cloudflare.com/ajax/libs/mathjax/2.7.5/MathJax.js?config=TeX-AMS-MML_SVG\"></script><script type=\"text/javascript\">if (window.MathJax) {MathJax.Hub.Config({SVG: {font: \"STIX-Web\"}});}</script>\n",
              "                <script type=\"text/javascript\">window.PlotlyConfig = {MathJaxConfig: 'local'};</script>\n",
              "        <script src=\"https://cdn.plot.ly/plotly-latest.min.js\"></script>    \n",
              "            <div id=\"18ef706f-8f25-485e-ba8c-c6a4b1ef8cb8\" class=\"plotly-graph-div\" style=\"height:525px; width:100%;\"></div>\n",
              "            <script type=\"text/javascript\">\n",
              "                \n",
              "                    window.PLOTLYENV=window.PLOTLYENV || {};\n",
              "                    \n",
              "                if (document.getElementById(\"18ef706f-8f25-485e-ba8c-c6a4b1ef8cb8\")) {\n",
              "                    Plotly.newPlot(\n",
              "                        '18ef706f-8f25-485e-ba8c-c6a4b1ef8cb8',\n",
              "                        [{\"line\": {\"color\": \"rgb(0,245,153)\", \"width\": 1}, \"mode\": \"lines\", \"name\": \"positive\", \"type\": \"scatter\", \"x\": [\"2006\", \"2007\", \"2008\", \"2009\", \"2010\", \"2011\", \"2012\", \"2013\", \"2014\", \"2015\", \"2016\", \"2017\", \"2018\", \"2019\", \"2020\", \"2021\", \"2007\", \"2008\", \"2009\", \"2010\", \"2011\", \"2012\", \"2013\", \"2014\", \"2015\", \"2016\", \"2017\", \"2018\", \"2019\", \"2020\", \"2009\", \"2010\", \"2011\", \"2012\", \"2013\", \"2014\", \"2015\", \"2016\", \"2017\", \"2018\", \"2019\", \"2020\"], \"y\": [1, 5, 15, 29, 40, 21, 39, 56, 56, 67, 52, 46, 54, 38, 17, 3]}, {\"line\": {\"color\": \"rgb(255, 102, 102)\", \"width\": 1}, \"mode\": \"lines\", \"name\": \"negative\", \"type\": \"scatter\", \"x\": [\"2006\", \"2007\", \"2008\", \"2009\", \"2010\", \"2011\", \"2012\", \"2013\", \"2014\", \"2015\", \"2016\", \"2017\", \"2018\", \"2019\", \"2020\", \"2021\", \"2007\", \"2008\", \"2009\", \"2010\", \"2011\", \"2012\", \"2013\", \"2014\", \"2015\", \"2016\", \"2017\", \"2018\", \"2019\", \"2020\", \"2009\", \"2010\", \"2011\", \"2012\", \"2013\", \"2014\", \"2015\", \"2016\", \"2017\", \"2018\", \"2019\", \"2020\"], \"y\": [3, 3, 12, 18, 30, 30, 60, 69, 105, 66, 48, 33, 51, 12]}, {\"line\": {\"color\": \"rgb(102, 102, 255)\", \"width\": 1}, \"mode\": \"lines\", \"name\": \"neutral\", \"type\": \"scatter\", \"x\": [\"2006\", \"2007\", \"2008\", \"2009\", \"2010\", \"2011\", \"2012\", \"2013\", \"2014\", \"2015\", \"2016\", \"2017\", \"2018\", \"2019\", \"2020\", \"2021\", \"2007\", \"2008\", \"2009\", \"2010\", \"2011\", \"2012\", \"2013\", \"2014\", \"2015\", \"2016\", \"2017\", \"2018\", \"2019\", \"2020\", \"2009\", \"2010\", \"2011\", \"2012\", \"2013\", \"2014\", \"2015\", \"2016\", \"2017\", \"2018\", \"2019\", \"2020\"], \"y\": [2, 14, 20, 26, 66, 80, 78, 60, 36, 36, 18, 6]}],\n",
              "                        {\"autosize\": false, \"template\": {\"data\": {\"bar\": [{\"error_x\": {\"color\": \"#2a3f5f\"}, \"error_y\": {\"color\": \"#2a3f5f\"}, \"marker\": {\"line\": {\"color\": \"#E5ECF6\", \"width\": 0.5}}, \"type\": \"bar\"}], \"barpolar\": [{\"marker\": {\"line\": {\"color\": \"#E5ECF6\", \"width\": 0.5}}, \"type\": \"barpolar\"}], \"carpet\": [{\"aaxis\": {\"endlinecolor\": \"#2a3f5f\", \"gridcolor\": \"white\", \"linecolor\": \"white\", \"minorgridcolor\": \"white\", \"startlinecolor\": \"#2a3f5f\"}, \"baxis\": {\"endlinecolor\": \"#2a3f5f\", \"gridcolor\": \"white\", \"linecolor\": \"white\", \"minorgridcolor\": \"white\", \"startlinecolor\": \"#2a3f5f\"}, \"type\": \"carpet\"}], \"choropleth\": [{\"colorbar\": {\"outlinewidth\": 0, \"ticks\": \"\"}, \"type\": \"choropleth\"}], \"contour\": [{\"colorbar\": {\"outlinewidth\": 0, \"ticks\": \"\"}, \"colorscale\": [[0.0, \"#0d0887\"], [0.1111111111111111, \"#46039f\"], [0.2222222222222222, \"#7201a8\"], [0.3333333333333333, \"#9c179e\"], [0.4444444444444444, \"#bd3786\"], [0.5555555555555556, \"#d8576b\"], [0.6666666666666666, \"#ed7953\"], [0.7777777777777778, \"#fb9f3a\"], [0.8888888888888888, \"#fdca26\"], [1.0, \"#f0f921\"]], \"type\": \"contour\"}], \"contourcarpet\": [{\"colorbar\": {\"outlinewidth\": 0, \"ticks\": \"\"}, \"type\": \"contourcarpet\"}], \"heatmap\": [{\"colorbar\": {\"outlinewidth\": 0, \"ticks\": \"\"}, \"colorscale\": [[0.0, \"#0d0887\"], [0.1111111111111111, \"#46039f\"], [0.2222222222222222, \"#7201a8\"], [0.3333333333333333, \"#9c179e\"], [0.4444444444444444, \"#bd3786\"], [0.5555555555555556, \"#d8576b\"], [0.6666666666666666, \"#ed7953\"], [0.7777777777777778, \"#fb9f3a\"], [0.8888888888888888, \"#fdca26\"], [1.0, \"#f0f921\"]], \"type\": \"heatmap\"}], \"heatmapgl\": [{\"colorbar\": {\"outlinewidth\": 0, \"ticks\": \"\"}, \"colorscale\": [[0.0, \"#0d0887\"], [0.1111111111111111, \"#46039f\"], [0.2222222222222222, \"#7201a8\"], [0.3333333333333333, \"#9c179e\"], [0.4444444444444444, \"#bd3786\"], [0.5555555555555556, \"#d8576b\"], [0.6666666666666666, \"#ed7953\"], [0.7777777777777778, \"#fb9f3a\"], [0.8888888888888888, \"#fdca26\"], [1.0, \"#f0f921\"]], \"type\": \"heatmapgl\"}], \"histogram\": [{\"marker\": {\"colorbar\": {\"outlinewidth\": 0, \"ticks\": \"\"}}, \"type\": \"histogram\"}], \"histogram2d\": [{\"colorbar\": {\"outlinewidth\": 0, \"ticks\": \"\"}, \"colorscale\": [[0.0, \"#0d0887\"], [0.1111111111111111, \"#46039f\"], [0.2222222222222222, \"#7201a8\"], [0.3333333333333333, \"#9c179e\"], [0.4444444444444444, \"#bd3786\"], [0.5555555555555556, \"#d8576b\"], [0.6666666666666666, \"#ed7953\"], [0.7777777777777778, \"#fb9f3a\"], [0.8888888888888888, \"#fdca26\"], [1.0, \"#f0f921\"]], \"type\": \"histogram2d\"}], \"histogram2dcontour\": [{\"colorbar\": {\"outlinewidth\": 0, \"ticks\": \"\"}, \"colorscale\": [[0.0, \"#0d0887\"], [0.1111111111111111, \"#46039f\"], [0.2222222222222222, \"#7201a8\"], [0.3333333333333333, \"#9c179e\"], [0.4444444444444444, \"#bd3786\"], [0.5555555555555556, \"#d8576b\"], [0.6666666666666666, \"#ed7953\"], [0.7777777777777778, \"#fb9f3a\"], [0.8888888888888888, \"#fdca26\"], [1.0, \"#f0f921\"]], \"type\": \"histogram2dcontour\"}], \"mesh3d\": [{\"colorbar\": {\"outlinewidth\": 0, \"ticks\": \"\"}, \"type\": \"mesh3d\"}], \"parcoords\": [{\"line\": {\"colorbar\": {\"outlinewidth\": 0, \"ticks\": \"\"}}, \"type\": \"parcoords\"}], \"pie\": [{\"automargin\": true, \"type\": \"pie\"}], \"scatter\": [{\"marker\": {\"colorbar\": {\"outlinewidth\": 0, \"ticks\": \"\"}}, \"type\": \"scatter\"}], \"scatter3d\": [{\"line\": {\"colorbar\": {\"outlinewidth\": 0, \"ticks\": \"\"}}, \"marker\": {\"colorbar\": {\"outlinewidth\": 0, \"ticks\": \"\"}}, \"type\": \"scatter3d\"}], \"scattercarpet\": [{\"marker\": {\"colorbar\": {\"outlinewidth\": 0, \"ticks\": \"\"}}, \"type\": \"scattercarpet\"}], \"scattergeo\": [{\"marker\": {\"colorbar\": {\"outlinewidth\": 0, \"ticks\": \"\"}}, \"type\": \"scattergeo\"}], \"scattergl\": [{\"marker\": {\"colorbar\": {\"outlinewidth\": 0, \"ticks\": \"\"}}, \"type\": \"scattergl\"}], \"scattermapbox\": [{\"marker\": {\"colorbar\": {\"outlinewidth\": 0, \"ticks\": \"\"}}, \"type\": \"scattermapbox\"}], \"scatterpolar\": [{\"marker\": {\"colorbar\": {\"outlinewidth\": 0, \"ticks\": \"\"}}, \"type\": \"scatterpolar\"}], \"scatterpolargl\": [{\"marker\": {\"colorbar\": {\"outlinewidth\": 0, \"ticks\": \"\"}}, \"type\": \"scatterpolargl\"}], \"scatterternary\": [{\"marker\": {\"colorbar\": {\"outlinewidth\": 0, \"ticks\": \"\"}}, \"type\": \"scatterternary\"}], \"surface\": [{\"colorbar\": {\"outlinewidth\": 0, \"ticks\": \"\"}, \"colorscale\": [[0.0, \"#0d0887\"], [0.1111111111111111, \"#46039f\"], [0.2222222222222222, \"#7201a8\"], [0.3333333333333333, \"#9c179e\"], [0.4444444444444444, \"#bd3786\"], [0.5555555555555556, \"#d8576b\"], [0.6666666666666666, \"#ed7953\"], [0.7777777777777778, \"#fb9f3a\"], [0.8888888888888888, \"#fdca26\"], [1.0, \"#f0f921\"]], \"type\": \"surface\"}], \"table\": [{\"cells\": {\"fill\": {\"color\": \"#EBF0F8\"}, \"line\": {\"color\": \"white\"}}, \"header\": {\"fill\": {\"color\": \"#C8D4E3\"}, \"line\": {\"color\": \"white\"}}, \"type\": \"table\"}]}, \"layout\": {\"annotationdefaults\": {\"arrowcolor\": \"#2a3f5f\", \"arrowhead\": 0, \"arrowwidth\": 1}, \"coloraxis\": {\"colorbar\": {\"outlinewidth\": 0, \"ticks\": \"\"}}, \"colorscale\": {\"diverging\": [[0, \"#8e0152\"], [0.1, \"#c51b7d\"], [0.2, \"#de77ae\"], [0.3, \"#f1b6da\"], [0.4, \"#fde0ef\"], [0.5, \"#f7f7f7\"], [0.6, \"#e6f5d0\"], [0.7, \"#b8e186\"], [0.8, \"#7fbc41\"], [0.9, \"#4d9221\"], [1, \"#276419\"]], \"sequential\": [[0.0, \"#0d0887\"], [0.1111111111111111, \"#46039f\"], [0.2222222222222222, \"#7201a8\"], [0.3333333333333333, \"#9c179e\"], [0.4444444444444444, \"#bd3786\"], [0.5555555555555556, \"#d8576b\"], [0.6666666666666666, \"#ed7953\"], [0.7777777777777778, \"#fb9f3a\"], [0.8888888888888888, \"#fdca26\"], [1.0, \"#f0f921\"]], \"sequentialminus\": [[0.0, \"#0d0887\"], [0.1111111111111111, \"#46039f\"], [0.2222222222222222, \"#7201a8\"], [0.3333333333333333, \"#9c179e\"], [0.4444444444444444, \"#bd3786\"], [0.5555555555555556, \"#d8576b\"], [0.6666666666666666, \"#ed7953\"], [0.7777777777777778, \"#fb9f3a\"], [0.8888888888888888, \"#fdca26\"], [1.0, \"#f0f921\"]]}, \"colorway\": [\"#636efa\", \"#EF553B\", \"#00cc96\", \"#ab63fa\", \"#FFA15A\", \"#19d3f3\", \"#FF6692\", \"#B6E880\", \"#FF97FF\", \"#FECB52\"], \"font\": {\"color\": \"#2a3f5f\"}, \"geo\": {\"bgcolor\": \"white\", \"lakecolor\": \"white\", \"landcolor\": \"#E5ECF6\", \"showlakes\": true, \"showland\": true, \"subunitcolor\": \"white\"}, \"hoverlabel\": {\"align\": \"left\"}, \"hovermode\": \"closest\", \"mapbox\": {\"style\": \"light\"}, \"paper_bgcolor\": \"white\", \"plot_bgcolor\": \"#E5ECF6\", \"polar\": {\"angularaxis\": {\"gridcolor\": \"white\", \"linecolor\": \"white\", \"ticks\": \"\"}, \"bgcolor\": \"#E5ECF6\", \"radialaxis\": {\"gridcolor\": \"white\", \"linecolor\": \"white\", \"ticks\": \"\"}}, \"scene\": {\"xaxis\": {\"backgroundcolor\": \"#E5ECF6\", \"gridcolor\": \"white\", \"gridwidth\": 2, \"linecolor\": \"white\", \"showbackground\": true, \"ticks\": \"\", \"zerolinecolor\": \"white\"}, \"yaxis\": {\"backgroundcolor\": \"#E5ECF6\", \"gridcolor\": \"white\", \"gridwidth\": 2, \"linecolor\": \"white\", \"showbackground\": true, \"ticks\": \"\", \"zerolinecolor\": \"white\"}, \"zaxis\": {\"backgroundcolor\": \"#E5ECF6\", \"gridcolor\": \"white\", \"gridwidth\": 2, \"linecolor\": \"white\", \"showbackground\": true, \"ticks\": \"\", \"zerolinecolor\": \"white\"}}, \"shapedefaults\": {\"line\": {\"color\": \"#2a3f5f\"}}, \"ternary\": {\"aaxis\": {\"gridcolor\": \"white\", \"linecolor\": \"white\", \"ticks\": \"\"}, \"baxis\": {\"gridcolor\": \"white\", \"linecolor\": \"white\", \"ticks\": \"\"}, \"bgcolor\": \"#E5ECF6\", \"caxis\": {\"gridcolor\": \"white\", \"linecolor\": \"white\", \"ticks\": \"\"}}, \"title\": {\"x\": 0.05}, \"xaxis\": {\"automargin\": true, \"gridcolor\": \"white\", \"linecolor\": \"white\", \"ticks\": \"\", \"title\": {\"standoff\": 15}, \"zerolinecolor\": \"white\", \"zerolinewidth\": 2}, \"yaxis\": {\"automargin\": true, \"gridcolor\": \"white\", \"linecolor\": \"white\", \"ticks\": \"\", \"title\": {\"standoff\": 15}, \"zerolinecolor\": \"white\", \"zerolinewidth\": 2}}}, \"title\": {\"text\": \"Trend of sentiments over time\"}},\n",
              "                        {\"responsive\": true}\n",
              "                    ).then(function(){\n",
              "                            \n",
              "var gd = document.getElementById('18ef706f-8f25-485e-ba8c-c6a4b1ef8cb8');\n",
              "var x = new MutationObserver(function (mutations, observer) {{\n",
              "        var display = window.getComputedStyle(gd).display;\n",
              "        if (!display || display === 'none') {{\n",
              "            console.log([gd, 'removed!']);\n",
              "            Plotly.purge(gd);\n",
              "            observer.disconnect();\n",
              "        }}\n",
              "}});\n",
              "\n",
              "// Listen for the removal of the full notebook cells\n",
              "var notebookContainer = gd.closest('#notebook-container');\n",
              "if (notebookContainer) {{\n",
              "    x.observe(notebookContainer, {childList: true});\n",
              "}}\n",
              "\n",
              "// Listen for the clearing of the current output cell\n",
              "var outputEl = gd.closest('.output');\n",
              "if (outputEl) {{\n",
              "    x.observe(outputEl, {childList: true});\n",
              "}}\n",
              "\n",
              "                        })\n",
              "                };\n",
              "                \n",
              "            </script>\n",
              "        </div>\n",
              "</body>\n",
              "</html>"
            ]
          },
          "metadata": {
            "tags": []
          }
        }
      ]
    },
    {
      "cell_type": "code",
      "metadata": {
        "colab": {
          "base_uri": "https://localhost:8080/",
          "height": 542
        },
        "id": "XPDyDsSOWNFp",
        "outputId": "7b60a39a-6aa6-4471-845e-12aa6ba1cc42"
      },
      "source": [
        "fig = px.bar(data_most_reviewed_store_timeseries.tail(30), x='year', y='sentiments',color='rating')\n",
        "fig.update_layout(\n",
        "     autosize=False,\n",
        "     title='Trend of sentiments over time - Bar Graph'\n",
        "    )\n",
        "fig.show()"
      ],
      "execution_count": null,
      "outputs": [
        {
          "output_type": "display_data",
          "data": {
            "text/html": [
              "<html>\n",
              "<head><meta charset=\"utf-8\" /></head>\n",
              "<body>\n",
              "    <div>\n",
              "            <script src=\"https://cdnjs.cloudflare.com/ajax/libs/mathjax/2.7.5/MathJax.js?config=TeX-AMS-MML_SVG\"></script><script type=\"text/javascript\">if (window.MathJax) {MathJax.Hub.Config({SVG: {font: \"STIX-Web\"}});}</script>\n",
              "                <script type=\"text/javascript\">window.PlotlyConfig = {MathJaxConfig: 'local'};</script>\n",
              "        <script src=\"https://cdn.plot.ly/plotly-latest.min.js\"></script>    \n",
              "            <div id=\"46a72fbc-091f-412d-bb5d-b40dd93d6845\" class=\"plotly-graph-div\" style=\"height:525px; width:100%;\"></div>\n",
              "            <script type=\"text/javascript\">\n",
              "                \n",
              "                    window.PLOTLYENV=window.PLOTLYENV || {};\n",
              "                    \n",
              "                if (document.getElementById(\"46a72fbc-091f-412d-bb5d-b40dd93d6845\")) {\n",
              "                    Plotly.newPlot(\n",
              "                        '46a72fbc-091f-412d-bb5d-b40dd93d6845',\n",
              "                        [{\"alignmentgroup\": \"True\", \"hoverlabel\": {\"namelength\": 0}, \"hovertemplate\": \"rating=Positive<br>year=%{x}<br>sentiments=%{y}\", \"legendgroup\": \"rating=Positive\", \"marker\": {\"color\": \"#636efa\"}, \"name\": \"rating=Positive\", \"offsetgroup\": \"rating=Positive\", \"orientation\": \"v\", \"showlegend\": true, \"textposition\": \"auto\", \"type\": \"bar\", \"x\": [\"2018\", \"2019\", \"2020\", \"2021\"], \"xaxis\": \"x\", \"y\": [54, 38, 17, 3], \"yaxis\": \"y\"}, {\"alignmentgroup\": \"True\", \"hoverlabel\": {\"namelength\": 0}, \"hovertemplate\": \"rating=Negative<br>year=%{x}<br>sentiments=%{y}\", \"legendgroup\": \"rating=Negative\", \"marker\": {\"color\": \"#EF553B\"}, \"name\": \"rating=Negative\", \"offsetgroup\": \"rating=Negative\", \"orientation\": \"v\", \"showlegend\": true, \"textposition\": \"auto\", \"type\": \"bar\", \"x\": [\"2007\", \"2008\", \"2009\", \"2010\", \"2011\", \"2012\", \"2013\", \"2014\", \"2015\", \"2016\", \"2017\", \"2018\", \"2019\", \"2020\"], \"xaxis\": \"x\", \"y\": [3, 3, 12, 18, 30, 30, 60, 69, 105, 66, 48, 33, 51, 12], \"yaxis\": \"y\"}, {\"alignmentgroup\": \"True\", \"hoverlabel\": {\"namelength\": 0}, \"hovertemplate\": \"rating=Neutral<br>year=%{x}<br>sentiments=%{y}\", \"legendgroup\": \"rating=Neutral\", \"marker\": {\"color\": \"#00cc96\"}, \"name\": \"rating=Neutral\", \"offsetgroup\": \"rating=Neutral\", \"orientation\": \"v\", \"showlegend\": true, \"textposition\": \"auto\", \"type\": \"bar\", \"x\": [\"2009\", \"2010\", \"2011\", \"2012\", \"2013\", \"2014\", \"2015\", \"2016\", \"2017\", \"2018\", \"2019\", \"2020\"], \"xaxis\": \"x\", \"y\": [2, 14, 20, 26, 66, 80, 78, 60, 36, 36, 18, 6], \"yaxis\": \"y\"}],\n",
              "                        {\"autosize\": false, \"barmode\": \"relative\", \"legend\": {\"tracegroupgap\": 0}, \"margin\": {\"t\": 60}, \"template\": {\"data\": {\"bar\": [{\"error_x\": {\"color\": \"#2a3f5f\"}, \"error_y\": {\"color\": \"#2a3f5f\"}, \"marker\": {\"line\": {\"color\": \"#E5ECF6\", \"width\": 0.5}}, \"type\": \"bar\"}], \"barpolar\": [{\"marker\": {\"line\": {\"color\": \"#E5ECF6\", \"width\": 0.5}}, \"type\": \"barpolar\"}], \"carpet\": [{\"aaxis\": {\"endlinecolor\": \"#2a3f5f\", \"gridcolor\": \"white\", \"linecolor\": \"white\", \"minorgridcolor\": \"white\", \"startlinecolor\": \"#2a3f5f\"}, \"baxis\": {\"endlinecolor\": \"#2a3f5f\", \"gridcolor\": \"white\", \"linecolor\": \"white\", \"minorgridcolor\": \"white\", \"startlinecolor\": \"#2a3f5f\"}, \"type\": \"carpet\"}], \"choropleth\": [{\"colorbar\": {\"outlinewidth\": 0, \"ticks\": \"\"}, \"type\": \"choropleth\"}], \"contour\": [{\"colorbar\": {\"outlinewidth\": 0, \"ticks\": \"\"}, \"colorscale\": [[0.0, \"#0d0887\"], [0.1111111111111111, \"#46039f\"], [0.2222222222222222, \"#7201a8\"], [0.3333333333333333, \"#9c179e\"], [0.4444444444444444, \"#bd3786\"], [0.5555555555555556, \"#d8576b\"], [0.6666666666666666, \"#ed7953\"], [0.7777777777777778, \"#fb9f3a\"], [0.8888888888888888, \"#fdca26\"], [1.0, \"#f0f921\"]], \"type\": \"contour\"}], \"contourcarpet\": [{\"colorbar\": {\"outlinewidth\": 0, \"ticks\": \"\"}, \"type\": \"contourcarpet\"}], \"heatmap\": [{\"colorbar\": {\"outlinewidth\": 0, \"ticks\": \"\"}, \"colorscale\": [[0.0, \"#0d0887\"], [0.1111111111111111, \"#46039f\"], [0.2222222222222222, \"#7201a8\"], [0.3333333333333333, \"#9c179e\"], [0.4444444444444444, \"#bd3786\"], [0.5555555555555556, \"#d8576b\"], [0.6666666666666666, \"#ed7953\"], [0.7777777777777778, \"#fb9f3a\"], [0.8888888888888888, \"#fdca26\"], [1.0, \"#f0f921\"]], \"type\": \"heatmap\"}], \"heatmapgl\": [{\"colorbar\": {\"outlinewidth\": 0, \"ticks\": \"\"}, \"colorscale\": [[0.0, \"#0d0887\"], [0.1111111111111111, \"#46039f\"], [0.2222222222222222, \"#7201a8\"], [0.3333333333333333, \"#9c179e\"], [0.4444444444444444, \"#bd3786\"], [0.5555555555555556, \"#d8576b\"], [0.6666666666666666, \"#ed7953\"], [0.7777777777777778, \"#fb9f3a\"], [0.8888888888888888, \"#fdca26\"], [1.0, \"#f0f921\"]], \"type\": \"heatmapgl\"}], \"histogram\": [{\"marker\": {\"colorbar\": {\"outlinewidth\": 0, \"ticks\": \"\"}}, \"type\": \"histogram\"}], \"histogram2d\": [{\"colorbar\": {\"outlinewidth\": 0, \"ticks\": \"\"}, \"colorscale\": [[0.0, \"#0d0887\"], [0.1111111111111111, \"#46039f\"], [0.2222222222222222, \"#7201a8\"], [0.3333333333333333, \"#9c179e\"], [0.4444444444444444, \"#bd3786\"], [0.5555555555555556, \"#d8576b\"], [0.6666666666666666, \"#ed7953\"], [0.7777777777777778, \"#fb9f3a\"], [0.8888888888888888, \"#fdca26\"], [1.0, \"#f0f921\"]], \"type\": \"histogram2d\"}], \"histogram2dcontour\": [{\"colorbar\": {\"outlinewidth\": 0, \"ticks\": \"\"}, \"colorscale\": [[0.0, \"#0d0887\"], [0.1111111111111111, \"#46039f\"], [0.2222222222222222, \"#7201a8\"], [0.3333333333333333, \"#9c179e\"], [0.4444444444444444, \"#bd3786\"], [0.5555555555555556, \"#d8576b\"], [0.6666666666666666, \"#ed7953\"], [0.7777777777777778, \"#fb9f3a\"], [0.8888888888888888, \"#fdca26\"], [1.0, \"#f0f921\"]], \"type\": \"histogram2dcontour\"}], \"mesh3d\": [{\"colorbar\": {\"outlinewidth\": 0, \"ticks\": \"\"}, \"type\": \"mesh3d\"}], \"parcoords\": [{\"line\": {\"colorbar\": {\"outlinewidth\": 0, \"ticks\": \"\"}}, \"type\": \"parcoords\"}], \"pie\": [{\"automargin\": true, \"type\": \"pie\"}], \"scatter\": [{\"marker\": {\"colorbar\": {\"outlinewidth\": 0, \"ticks\": \"\"}}, \"type\": \"scatter\"}], \"scatter3d\": [{\"line\": {\"colorbar\": {\"outlinewidth\": 0, \"ticks\": \"\"}}, \"marker\": {\"colorbar\": {\"outlinewidth\": 0, \"ticks\": \"\"}}, \"type\": \"scatter3d\"}], \"scattercarpet\": [{\"marker\": {\"colorbar\": {\"outlinewidth\": 0, \"ticks\": \"\"}}, \"type\": \"scattercarpet\"}], \"scattergeo\": [{\"marker\": {\"colorbar\": {\"outlinewidth\": 0, \"ticks\": \"\"}}, \"type\": \"scattergeo\"}], \"scattergl\": [{\"marker\": {\"colorbar\": {\"outlinewidth\": 0, \"ticks\": \"\"}}, \"type\": \"scattergl\"}], \"scattermapbox\": [{\"marker\": {\"colorbar\": {\"outlinewidth\": 0, \"ticks\": \"\"}}, \"type\": \"scattermapbox\"}], \"scatterpolar\": [{\"marker\": {\"colorbar\": {\"outlinewidth\": 0, \"ticks\": \"\"}}, \"type\": \"scatterpolar\"}], \"scatterpolargl\": [{\"marker\": {\"colorbar\": {\"outlinewidth\": 0, \"ticks\": \"\"}}, \"type\": \"scatterpolargl\"}], \"scatterternary\": [{\"marker\": {\"colorbar\": {\"outlinewidth\": 0, \"ticks\": \"\"}}, \"type\": \"scatterternary\"}], \"surface\": [{\"colorbar\": {\"outlinewidth\": 0, \"ticks\": \"\"}, \"colorscale\": [[0.0, \"#0d0887\"], [0.1111111111111111, \"#46039f\"], [0.2222222222222222, \"#7201a8\"], [0.3333333333333333, \"#9c179e\"], [0.4444444444444444, \"#bd3786\"], [0.5555555555555556, \"#d8576b\"], [0.6666666666666666, \"#ed7953\"], [0.7777777777777778, \"#fb9f3a\"], [0.8888888888888888, \"#fdca26\"], [1.0, \"#f0f921\"]], \"type\": \"surface\"}], \"table\": [{\"cells\": {\"fill\": {\"color\": \"#EBF0F8\"}, \"line\": {\"color\": \"white\"}}, \"header\": {\"fill\": {\"color\": \"#C8D4E3\"}, \"line\": {\"color\": \"white\"}}, \"type\": \"table\"}]}, \"layout\": {\"annotationdefaults\": {\"arrowcolor\": \"#2a3f5f\", \"arrowhead\": 0, \"arrowwidth\": 1}, \"coloraxis\": {\"colorbar\": {\"outlinewidth\": 0, \"ticks\": \"\"}}, \"colorscale\": {\"diverging\": [[0, \"#8e0152\"], [0.1, \"#c51b7d\"], [0.2, \"#de77ae\"], [0.3, \"#f1b6da\"], [0.4, \"#fde0ef\"], [0.5, \"#f7f7f7\"], [0.6, \"#e6f5d0\"], [0.7, \"#b8e186\"], [0.8, \"#7fbc41\"], [0.9, \"#4d9221\"], [1, \"#276419\"]], \"sequential\": [[0.0, \"#0d0887\"], [0.1111111111111111, \"#46039f\"], [0.2222222222222222, \"#7201a8\"], [0.3333333333333333, \"#9c179e\"], [0.4444444444444444, \"#bd3786\"], [0.5555555555555556, \"#d8576b\"], [0.6666666666666666, \"#ed7953\"], [0.7777777777777778, \"#fb9f3a\"], [0.8888888888888888, \"#fdca26\"], [1.0, \"#f0f921\"]], \"sequentialminus\": [[0.0, \"#0d0887\"], [0.1111111111111111, \"#46039f\"], [0.2222222222222222, \"#7201a8\"], [0.3333333333333333, \"#9c179e\"], [0.4444444444444444, \"#bd3786\"], [0.5555555555555556, \"#d8576b\"], [0.6666666666666666, \"#ed7953\"], [0.7777777777777778, \"#fb9f3a\"], [0.8888888888888888, \"#fdca26\"], [1.0, \"#f0f921\"]]}, \"colorway\": [\"#636efa\", \"#EF553B\", \"#00cc96\", \"#ab63fa\", \"#FFA15A\", \"#19d3f3\", \"#FF6692\", \"#B6E880\", \"#FF97FF\", \"#FECB52\"], \"font\": {\"color\": \"#2a3f5f\"}, \"geo\": {\"bgcolor\": \"white\", \"lakecolor\": \"white\", \"landcolor\": \"#E5ECF6\", \"showlakes\": true, \"showland\": true, \"subunitcolor\": \"white\"}, \"hoverlabel\": {\"align\": \"left\"}, \"hovermode\": \"closest\", \"mapbox\": {\"style\": \"light\"}, \"paper_bgcolor\": \"white\", \"plot_bgcolor\": \"#E5ECF6\", \"polar\": {\"angularaxis\": {\"gridcolor\": \"white\", \"linecolor\": \"white\", \"ticks\": \"\"}, \"bgcolor\": \"#E5ECF6\", \"radialaxis\": {\"gridcolor\": \"white\", \"linecolor\": \"white\", \"ticks\": \"\"}}, \"scene\": {\"xaxis\": {\"backgroundcolor\": \"#E5ECF6\", \"gridcolor\": \"white\", \"gridwidth\": 2, \"linecolor\": \"white\", \"showbackground\": true, \"ticks\": \"\", \"zerolinecolor\": \"white\"}, \"yaxis\": {\"backgroundcolor\": \"#E5ECF6\", \"gridcolor\": \"white\", \"gridwidth\": 2, \"linecolor\": \"white\", \"showbackground\": true, \"ticks\": \"\", \"zerolinecolor\": \"white\"}, \"zaxis\": {\"backgroundcolor\": \"#E5ECF6\", \"gridcolor\": \"white\", \"gridwidth\": 2, \"linecolor\": \"white\", \"showbackground\": true, \"ticks\": \"\", \"zerolinecolor\": \"white\"}}, \"shapedefaults\": {\"line\": {\"color\": \"#2a3f5f\"}}, \"ternary\": {\"aaxis\": {\"gridcolor\": \"white\", \"linecolor\": \"white\", \"ticks\": \"\"}, \"baxis\": {\"gridcolor\": \"white\", \"linecolor\": \"white\", \"ticks\": \"\"}, \"bgcolor\": \"#E5ECF6\", \"caxis\": {\"gridcolor\": \"white\", \"linecolor\": \"white\", \"ticks\": \"\"}}, \"title\": {\"x\": 0.05}, \"xaxis\": {\"automargin\": true, \"gridcolor\": \"white\", \"linecolor\": \"white\", \"ticks\": \"\", \"title\": {\"standoff\": 15}, \"zerolinecolor\": \"white\", \"zerolinewidth\": 2}, \"yaxis\": {\"automargin\": true, \"gridcolor\": \"white\", \"linecolor\": \"white\", \"ticks\": \"\", \"title\": {\"standoff\": 15}, \"zerolinecolor\": \"white\", \"zerolinewidth\": 2}}}, \"title\": {\"text\": \"Trend of sentiments over time - Bar Graph\"}, \"xaxis\": {\"anchor\": \"y\", \"domain\": [0.0, 1.0], \"title\": {\"text\": \"year\"}}, \"yaxis\": {\"anchor\": \"x\", \"domain\": [0.0, 1.0], \"title\": {\"text\": \"sentiments\"}}},\n",
              "                        {\"responsive\": true}\n",
              "                    ).then(function(){\n",
              "                            \n",
              "var gd = document.getElementById('46a72fbc-091f-412d-bb5d-b40dd93d6845');\n",
              "var x = new MutationObserver(function (mutations, observer) {{\n",
              "        var display = window.getComputedStyle(gd).display;\n",
              "        if (!display || display === 'none') {{\n",
              "            console.log([gd, 'removed!']);\n",
              "            Plotly.purge(gd);\n",
              "            observer.disconnect();\n",
              "        }}\n",
              "}});\n",
              "\n",
              "// Listen for the removal of the full notebook cells\n",
              "var notebookContainer = gd.closest('#notebook-container');\n",
              "if (notebookContainer) {{\n",
              "    x.observe(notebookContainer, {childList: true});\n",
              "}}\n",
              "\n",
              "// Listen for the clearing of the current output cell\n",
              "var outputEl = gd.closest('.output');\n",
              "if (outputEl) {{\n",
              "    x.observe(outputEl, {childList: true});\n",
              "}}\n",
              "\n",
              "                        })\n",
              "                };\n",
              "                \n",
              "            </script>\n",
              "        </div>\n",
              "</body>\n",
              "</html>"
            ]
          },
          "metadata": {
            "tags": []
          }
        }
      ]
    },
    {
      "cell_type": "markdown",
      "metadata": {
        "id": "nHich4rig-YL"
      },
      "source": [
        "**Let's see the words people are using in positive and negative reviews**"
      ]
    },
    {
      "cell_type": "code",
      "metadata": {
        "id": "-1W4zKl9JEpw"
      },
      "source": [
        "corpus_pos=\" \".join(list(data_most_reviewed_store[data_most_reviewed_store['sentiments']==1].text))\n",
        "corpus_neg=\" \".join(list(data_most_reviewed_store[data_most_reviewed_store['sentiments']==2].text))"
      ],
      "execution_count": null,
      "outputs": []
    },
    {
      "cell_type": "code",
      "metadata": {
        "id": "A0NE7oPHXsOS"
      },
      "source": [
        "STOPWORDS.add(\"doughnut\")\n",
        "STOPWORDS.add(\"donuts\")\n",
        "STOPWORDS.add(\"voodoo\")"
      ],
      "execution_count": null,
      "outputs": []
    },
    {
      "cell_type": "code",
      "metadata": {
        "colab": {
          "base_uri": "https://localhost:8080/",
          "height": 217
        },
        "id": "yz1LoRsMPg9F",
        "outputId": "13eeacac-4e7e-4749-b0ee-2a23a45eba72"
      },
      "source": [
        "def create_word_cloud(string):\n",
        "    cloud = WordCloud(background_color = \"white\", max_words = 15000, stopwords = set(STOPWORDS))\n",
        "    cloud.generate(string)\n",
        "    cloud.to_file(\"wordCloud.png\")\n",
        "\n",
        "# Postitive\n",
        "create_word_cloud(corpus_pos.lower())\n",
        "img('/content/wordCloud.png')"
      ],
      "execution_count": null,
      "outputs": [
        {
          "output_type": "execute_result",
          "data": {
            "image/png": "[encoded data removed]",
            "text/plain": [
              "<IPython.core.display.Image object>"
            ]
          },
          "metadata": {
            "tags": []
          },
          "execution_count": 41
        }
      ]
    },
    {
      "cell_type": "code",
      "metadata": {
        "colab": {
          "base_uri": "https://localhost:8080/",
          "height": 217
        },
        "id": "QyAtN0FEPty4",
        "outputId": "c8b6f57b-2cc7-4d3e-b89c-bfb8beb78613"
      },
      "source": [
        "create_word_cloud(corpus_neg.lower())\n",
        "img('/content/wordCloud.png')"
      ],
      "execution_count": null,
      "outputs": [
        {
          "output_type": "execute_result",
          "data": {
            "image/png": "[encoded data removed]",
            "text/plain": [
              "<IPython.core.display.Image object>"
            ]
          },
          "metadata": {
            "tags": []
          },
          "execution_count": 42
        }
      ]
    },
    {
      "cell_type": "markdown",
      "metadata": {
        "id": "r7AHFi4BQEPi"
      },
      "source": [
        "**Keyword Analysis**"
      ]
    },
    {
      "cell_type": "code",
      "metadata": {
        "colab": {
          "base_uri": "https://localhost:8080/"
        },
        "id": "eewQwhCFQHtg",
        "outputId": "757b0c47-9b23-41b4-ecf2-e8063fdf3cc2"
      },
      "source": [
        "# Import Necessary Libraries\n",
        "import re\n",
        "import nltk\n",
        "import numpy as np\n",
        "import itertools\n",
        "import pickle\n",
        "import spacy\n",
        "from tqdm.notebook import tqdm as tqdm\n",
        "import nltk\n",
        "from nltk.corpus import stopwords\n",
        "from tqdm import tqdm_notebook as tqdm\n",
        "from nltk.stem.snowball import SnowballStemmer\n",
        "from sklearn.feature_extraction.text import CountVectorizer\n",
        "from sklearn.metrics.pairwise import cosine_similarity\n",
        "nltk.download('stopwords')\n",
        "nltk.download('punkt')\n",
        "nltk.download('wordnet')\n",
        "from nltk.stem.wordnet import WordNetLemmatizer\n",
        "from sentence_transformers import SentenceTransformer"
      ],
      "execution_count": null,
      "outputs": [
        {
          "output_type": "stream",
          "text": [
            "[nltk_data] Downloading package stopwords to /root/nltk_data...\n",
            "[nltk_data]   Package stopwords is already up-to-date!\n",
            "[nltk_data] Downloading package punkt to /root/nltk_data...\n",
            "[nltk_data]   Package punkt is already up-to-date!\n",
            "[nltk_data] Downloading package wordnet to /root/nltk_data...\n",
            "[nltk_data]   Package wordnet is already up-to-date!\n"
          ],
          "name": "stdout"
        }
      ]
    },
    {
      "cell_type": "code",
      "metadata": {
        "id": "DaLy5Qr3QKwy"
      },
      "source": [
        "# Stopwards\n",
        "stopwords = list(set(stopwords.words(\"english\")))\n",
        "stopwords+=['voodoo','doughnuts','doughnut']"
      ],
      "execution_count": null,
      "outputs": []
    },
    {
      "cell_type": "code",
      "metadata": {
        "id": "pbOXgVEqQNL_"
      },
      "source": [
        "# Filtering the dataset based on Review Sentiments\n",
        "positive_reviews=data_most_reviewed_store[data_most_reviewed_store['sentiments']==1]\n",
        "negative_reviews=data_most_reviewed_store[data_most_reviewed_store['sentiments']==3]\n",
        "neutral_reviews=data_most_reviewed_store[data_most_reviewed_store['sentiments']==2]"
      ],
      "execution_count": null,
      "outputs": []
    },
    {
      "cell_type": "code",
      "metadata": {
        "colab": {
          "base_uri": "https://localhost:8080/",
          "height": 249,
          "referenced_widgets": [
            "d1b83caf81ab4d348282c95b0c7d369e",
            "fe7c7ab20bea4e5aad7f212cc7a3be07",
            "80f1e986ee564a69af9ca3abdbc57730",
            "c5053c0f6d9243d5bbf89b7310ba2fab",
            "09a48ffe15cc4dc78b26defe37fd2238",
            "a75491f42df34947a61ac111cc938ae3",
            "551c86c265bd435faf0a533a2f0bed7a",
            "7b2ef238b402438dbb12a86eb0bc3c3e",
            "e84bec10e4d648e1b200f59316fe4057",
            "6f7f8af356b54e809253347c96b4e113",
            "72fd0d3f4a164461a652d084d655cd4c",
            "c1289e6993f3453c8b0811ac60cd986c",
            "86fc18583d28437ab885442b98db8d98",
            "e4a2001af8994a6d99dbdddd68722d88",
            "178b7af6ff5b4616a38ebdc108779714",
            "a701b4930c2c43479b1d0c297fd0aba6",
            "9352b4dd9c7a4105b827b87cb1df74bf",
            "78b57318dcd04a4b88dfa1896ec28470",
            "780aa1a8ab8740bc9e47ee6f22be414c",
            "35852b318c36439faa33d77db2ae54ad",
            "892aaf0353694a76b0d814277e71c7c0",
            "c5a506c3f5384cb2a85164d50ceebff5",
            "1ef0ae281dbb470db919ed6a197429dc",
            "75ac04e341364df6a4a90acba18e3d20"
          ]
        },
        "id": "dIPecBOvQO78",
        "outputId": "a3933495-2af2-4c21-ecd9-74b7230d49d4"
      },
      "source": [
        "# Method to preprocess the data\n",
        "def preprocess(data):\n",
        "    # Preprocessing Texts\n",
        "    preprocessed_texts = []\n",
        "    lem = WordNetLemmatizer()\n",
        "    # Cleaing the data, removing stopwords\n",
        "    for sent in tqdm(data):\n",
        "        sent = sent.replace('\\\\r', ' ')\n",
        "        sent = sent.replace('\\\\\"', ' ')\n",
        "        sent = sent.replace('\\\\n', ' ')\n",
        "        sent = re.sub('[^A-Za-z ]+', ' ', sent)\n",
        "        # lemmatizing\n",
        "        sent=' '.join(lem.lemmatize(word) for word in sent.split() if word not in stopwords )\n",
        "        preprocessed_texts.append(sent.lower().strip())\n",
        "    return preprocessed_texts\n",
        "\n",
        "preprocessed_texts_neg=preprocess(negative_reviews.text.values)\n",
        "preprocessed_texts_pos=preprocess(positive_reviews.text.values)\n",
        "preprocessed_texts_neu=preprocess(neutral_reviews.text.values)  "
      ],
      "execution_count": null,
      "outputs": [
        {
          "output_type": "stream",
          "text": [
            "/usr/local/lib/python3.7/dist-packages/ipykernel_launcher.py:7: TqdmDeprecationWarning:\n",
            "\n",
            "This function will be removed in tqdm==5.0.0\n",
            "Please use `tqdm.notebook.tqdm` instead of `tqdm.tqdm_notebook`\n",
            "\n"
          ],
          "name": "stderr"
        },
        {
          "output_type": "display_data",
          "data": {
            "application/vnd.jupyter.widget-view+json": {
              "model_id": "d1b83caf81ab4d348282c95b0c7d369e",
              "version_minor": 0,
              "version_major": 2
            },
            "text/plain": [
              "HBox(children=(FloatProgress(value=0.0, max=34.0), HTML(value='')))"
            ]
          },
          "metadata": {
            "tags": []
          }
        },
        {
          "output_type": "stream",
          "text": [
            "\n"
          ],
          "name": "stdout"
        },
        {
          "output_type": "display_data",
          "data": {
            "application/vnd.jupyter.widget-view+json": {
              "model_id": "e84bec10e4d648e1b200f59316fe4057",
              "version_minor": 0,
              "version_major": 2
            },
            "text/plain": [
              "HBox(children=(FloatProgress(value=0.0, max=444.0), HTML(value='')))"
            ]
          },
          "metadata": {
            "tags": []
          }
        },
        {
          "output_type": "stream",
          "text": [
            "\n"
          ],
          "name": "stdout"
        },
        {
          "output_type": "display_data",
          "data": {
            "application/vnd.jupyter.widget-view+json": {
              "model_id": "9352b4dd9c7a4105b827b87cb1df74bf",
              "version_minor": 0,
              "version_major": 2
            },
            "text/plain": [
              "HBox(children=(FloatProgress(value=0.0, max=31.0), HTML(value='')))"
            ]
          },
          "metadata": {
            "tags": []
          }
        },
        {
          "output_type": "stream",
          "text": [
            "\n"
          ],
          "name": "stdout"
        }
      ]
    },
    {
      "cell_type": "code",
      "metadata": {
        "colab": {
          "base_uri": "https://localhost:8080/",
          "height": 103
        },
        "id": "--8AZf-wt3fA",
        "outputId": "ba2b357a-2724-4b01-ea42-a8d6161e9687"
      },
      "source": [
        "preprocessed_texts_pos[67]"
      ],
      "execution_count": null,
      "outputs": [
        {
          "output_type": "execute_result",
          "data": {
            "application/vnd.google.colaboratory.intrinsic+json": {
              "type": "string"
            },
            "text/plain": [
              "'being ft worth thought pretty good bbq until got franklin bbq his top top best best imo amazing first let tell gun rally bbq added bonus when walk smell like think heaven would smell like texan made mouth water bad drooling when got didnt brisket turkey rib left we little disappointed really wanted try brisket ok so decided pulled pork sandwich sausage potato salad cole slaw the pulled pork right fatty cooked perfection the way almost taste time passion take make bbq magnitude alone almost make trip worth its good see people still enjoy oh sausage sausage sausage link thrown plate amazing spicy right when bite juice everywhere lol sorry inuendo and side but side travel austin travel best bbq atmosphere imagine me group decided make weekend trip austin tx sightseeing make franklin sell brisket we also got really lucky got since sold couple behind u get early'"
            ]
          },
          "metadata": {
            "tags": []
          },
          "execution_count": 35
        }
      ]
    },
    {
      "cell_type": "code",
      "metadata": {
        "id": "VbeXRifLQRKv"
      },
      "source": [
        "# https://towardsdatascience.com/keyword-extraction-with-bert-724efca412ea\n",
        "def max_sum_sim(doc_embedding, candidate_embeddings, candidates, top_n, nr_candidates):\n",
        "    # Calculate distances and extract keywords\n",
        "    distances = cosine_similarity(doc_embedding, candidate_embeddings)\n",
        "    distances_candidates = cosine_similarity(candidate_embeddings, \n",
        "                                            candidate_embeddings)\n",
        "\n",
        "    # Get top_n words as candidates based on cosine similarity\n",
        "    words_idx = list(distances.argsort()[0][-nr_candidates:])\n",
        "    words_vals = [candidates[index] for index in words_idx]\n",
        "    distances_candidates = distances_candidates[np.ix_(words_idx, words_idx)]\n",
        "\n",
        "    # Calculate the combination of words that are the least similar to each other\n",
        "    min_sim = np.inf\n",
        "    candidate = None\n",
        "    for combination in itertools.combinations(range(len(words_idx)), top_n):\n",
        "        sim = sum([distances_candidates[i][j] for i in combination for j in combination if i != j])\n",
        "        if sim < min_sim:\n",
        "            candidate = combination\n",
        "            min_sim = sim\n",
        "\n",
        "    return [words_vals[idx] for idx in candidate]"
      ],
      "execution_count": null,
      "outputs": []
    },
    {
      "cell_type": "code",
      "metadata": {
        "id": "J7YIJZHdQTdo"
      },
      "source": [
        "    # Diversify the keywords using max sum similarity, higher the value of nr_candidates higher the diversity\n",
        "    def extract_keywords_bert_diverse(doc,top_n=10,nr_candidates=20):\n",
        "        n_gram_range = (1,1)\n",
        "        # Extract candidate words/phrases using count vectorizer (TF-IDF Scores)\n",
        "        count = CountVectorizer(ngram_range=n_gram_range, stop_words=stopwords).fit([doc])\n",
        "        candidates = count.get_feature_names()\n",
        "        # Embeddings of the document using Bert    \n",
        "        model = SentenceTransformer('distilbert-base-nli-mean-tokens')\n",
        "        doc_embedding = model.encode([doc])\n",
        "        candidate_embeddings = model.encode(candidates)\n",
        "        keywords=max_sum_sim(doc_embedding, candidate_embeddings, candidates, top_n, nr_candidates)\n",
        "        return keywords "
      ],
      "execution_count": null,
      "outputs": []
    },
    {
      "cell_type": "code",
      "metadata": {
        "id": "zwy0DGG8QWmA"
      },
      "source": [
        "def get_trending_keywords(pos_data,neg_data,num_keywords):\n",
        "    keywords={}\n",
        "    corpus=' '.join(pos_data[-250::])\n",
        "    keywords['positive']=extract_keywords_bert_diverse(corpus,num_keywords)\n",
        "    corpus=' '.join(neg_data[-250::])\n",
        "    keywords['negative']=extract_keywords_bert_diverse(corpus,num_keywords)\n",
        "    return keywords"
      ],
      "execution_count": null,
      "outputs": []
    },
    {
      "cell_type": "code",
      "metadata": {
        "colab": {
          "base_uri": "https://localhost:8080/"
        },
        "id": "y8vI_EZdYqV8",
        "outputId": "1134ee95-7a85-4ea2-e6c3-b6c60f000aa2"
      },
      "source": [
        " get_trending_keywords(preprocessed_texts_pos,preprocessed_texts_neg,5)"
      ],
      "execution_count": null,
      "outputs": [
        {
          "output_type": "execute_result",
          "data": {
            "text/plain": [
              "{'negative': ['diabetes', 'vegan', 'hotpants', 'blueberry', 'halloween'],\n",
              " 'positive': ['foodgasm', 'vegan', 'sugary', 'simpsons', 'blueberry']}"
            ]
          },
          "metadata": {
            "tags": []
          },
          "execution_count": 53
        }
      ]
    },
    {
      "cell_type": "code",
      "metadata": {
        "id": "Jnc90iyHbCAK"
      },
      "source": [
        "# Import Necessary Libraries\n",
        "import re\n",
        "import nltk\n",
        "import numpy as np\n",
        "import itertools\n",
        "import spacy\n",
        "from tqdm.notebook import tqdm as tqdm\n",
        "import nltk\n",
        "from nltk.corpus import stopwords\n",
        "from nltk.stem.snowball import SnowballStemmer\n",
        "from sklearn.feature_extraction.text import CountVectorizer\n",
        "from sklearn.metrics.pairwise import cosine_similarity\n",
        "#nltk.download('stopwords')\n",
        "#nltk.download('punkt')\n",
        "#nltk.download('wordnet')\n",
        "from nltk.stem.wordnet import WordNetLemmatizer\n",
        "from sentence_transformers import SentenceTransformer\n",
        "from nltk.corpus import stopwords\n",
        "\n",
        "class CustomerReviewKeywords1:\n",
        "    # Method to preprocess the data\n",
        "    stopwords_ = list(set(stopwords.words(\"english\")))\n",
        "    stopwords_+=['voodoo','doughnuts','doughnut','voodoodoughnut']\n",
        "    def preprocess(self,data,stopwords):\n",
        "        # Preprocessing Texts\n",
        "        preprocessed_texts = []\n",
        "        lem = WordNetLemmatizer()\n",
        "        # Cleaing the data, removing stopwords\n",
        "        for sent in data:\n",
        "            sent = sent.replace('\\\\r', ' ')\n",
        "            sent = sent.replace('\\\\\"', ' ')\n",
        "            sent = sent.replace('\\\\n', ' ')\n",
        "            sent = re.sub('[^A-Za-z ]+', ' ', sent)\n",
        "            # lemmatizing\n",
        "            sent=' '.join(word for word in sent.split() if word not in stopwords)\n",
        "            preprocessed_texts.append(sent.lower().strip())\n",
        "        return preprocessed_texts\n",
        "    \n",
        "    # https://towardsdatascience.com/keyword-extraction-with-bert-724efca412ea\n",
        "    def max_sum_sim(self,doc_embedding, candidate_embeddings, candidates, top_n, nr_candidates):\n",
        "        # Calculate distances and extract keywords\n",
        "        distances = cosine_similarity(doc_embedding, candidate_embeddings)\n",
        "        distances_candidates = cosine_similarity(candidate_embeddings, \n",
        "                                            candidate_embeddings)\n",
        "\n",
        "        # Get top_n words as candidates based on cosine similarity\n",
        "        words_idx = list(distances.argsort()[0][-nr_candidates:])\n",
        "        words_vals = [candidates[index] for index in words_idx]\n",
        "        distances_candidates = distances_candidates[np.ix_(words_idx, words_idx)]\n",
        "\n",
        "        # Calculate the combination of words that are the least similar to each other\n",
        "        min_sim = np.inf\n",
        "        candidate = None\n",
        "        for combination in itertools.combinations(range(len(words_idx)), top_n):\n",
        "            sim = sum([distances_candidates[i][j] for i in combination for j in combination if i != j])\n",
        "            if sim < min_sim:\n",
        "                candidate = combination\n",
        "                min_sim = sim\n",
        "        return [words_vals[idx] for idx in candidate]\n",
        "\n",
        "    # Diversify the keywords using max sum similarity, higher the value of nr_candidates higher the diversity\n",
        "    def extract_keywords_bert_diverse(self,doc,stopwords,top_n=10,nr_candidates=20):\n",
        "        n_gram_range = (1,1)\n",
        "        # Extract candidate words/phrases using count vectorizer (TF-IDF Scores)\n",
        "        count = CountVectorizer(ngram_range=n_gram_range, stop_words=stopwords).fit([doc])\n",
        "        candidates = count.get_feature_names()\n",
        "        # Embeddings of the document using Bert    \n",
        "        model = SentenceTransformer('distilbert-base-nli-mean-tokens')\n",
        "        doc_embedding = model.encode([doc])\n",
        "        candidate_embeddings = model.encode(candidates)\n",
        "        keywords=self.max_sum_sim(doc_embedding, candidate_embeddings, candidates, top_n, nr_candidates)\n",
        "        return keywords \n",
        "\n",
        "    # Method to get the trending keywords\n",
        "    def get_trending_keywords(self,data_most_reviewed_store,num_keywords=5):\n",
        "        # Stopwards\n",
        "        stopwords_ = list(set(stopwords.words(\"english\")))\n",
        "        stopwords_+=['voodoo','doughnuts','doughnut','voodoodoughnut','donut','donuts']\n",
        "        # Filtering the dataset based on Review Sentiments\n",
        "        positive_reviews=data_most_reviewed_store[data_most_reviewed_store['sentiments']==1]\n",
        "        negative_reviews=data_most_reviewed_store[data_most_reviewed_store['sentiments']==3]\n",
        "        neutral_reviews=data_most_reviewed_store[data_most_reviewed_store['sentiments']==2]\n",
        "        preprocessed_texts_neg=self.preprocess(negative_reviews.text.values,stopwords_)\n",
        "        preprocessed_texts_pos=self.preprocess(positive_reviews.text.values,stopwords_)\n",
        "        preprocessed_texts_neu=self.preprocess(neutral_reviews.text.values,stopwords_)  \n",
        "        keywords={}\n",
        "        corpus=' '.join(preprocessed_texts_pos[-500::])\n",
        "        keywords['positive']=self.extract_keywords_bert_diverse(corpus,stopwords_,num_keywords)\n",
        "        corpus=' '.join(preprocessed_texts_neg[-500::])\n",
        "        keywords['negative']=self.extract_keywords_bert_diverse(corpus,stopwords_,num_keywords)\n",
        "        return keywords   \n",
        "\n",
        "\n"
      ],
      "execution_count": null,
      "outputs": []
    },
    {
      "cell_type": "code",
      "metadata": {
        "colab": {
          "base_uri": "https://localhost:8080/",
          "height": 164,
          "referenced_widgets": [
            "84d97a64a9c84da8acb58fdf488100e3",
            "b69eac490df244b0a0d930e6e0e4bdd9",
            "3fcd3d5db8c84106b44afc753462c3b7",
            "a249265ed0784f99946316bef249af11",
            "4ebaed21f57a4c3190ea81d4d57f66da",
            "389a68b751524603a8f8ef8e4da944d7",
            "d8c2a2b3da8b4c3fa48044c0055ba497",
            "67314ffec8cf4b0db89f938c43a9315c",
            "0e867e88cebe448eb9dd5dce3a226055",
            "710c5924da11452cba9ca6932d9dcfd6",
            "883daa08bd8c4590b43aedda5c601f0d",
            "7c8891c580904e0fb849c367441dcf39",
            "cb80d4a25d144ac3849b0d16e8d32746",
            "6f5c996520c545e4b50a301c728073bf",
            "6262e0fad8be40b5855304eaa5b93f71",
            "657b7603f473446cb7de97dbe5a13782",
            "57317fbf42ab44aa8c5bf9cee8d2f280",
            "7d5ddd1aaeb247648e9feb71cd2f06f8",
            "917f416507af41cea52bb505e3fea107",
            "3ba924c8e40540ed9d075fceada2e631",
            "80531662e7204276a4ae948df2acb579",
            "654876cdf93445c1b4d2d401a5dac068",
            "bcf2a333781b4999b9823367bf5de12c",
            "d761515b645646079942feac1f2d809c"
          ]
        },
        "id": "2T5qYT10aEpZ",
        "outputId": "d029f0f2-1f01-4725-8d4b-25d4e901f7e1"
      },
      "source": [
        "ck=CustomerReviewKeywords1()\n",
        "data_most_reviewed_store=review_business_data_merged[review_business_data_merged['business_id']==ids[5]].sort_values(by=['date'])\n",
        "kw=ck.get_trending_keywords(data_most_reviewed_store,num_keywords=5)"
      ],
      "execution_count": null,
      "outputs": [
        {
          "output_type": "display_data",
          "data": {
            "application/vnd.jupyter.widget-view+json": {
              "model_id": "84d97a64a9c84da8acb58fdf488100e3",
              "version_minor": 0,
              "version_major": 2
            },
            "text/plain": [
              "HBox(children=(FloatProgress(value=0.0, max=34.0), HTML(value='')))"
            ]
          },
          "metadata": {
            "tags": []
          }
        },
        {
          "output_type": "stream",
          "text": [
            "\n"
          ],
          "name": "stdout"
        },
        {
          "output_type": "display_data",
          "data": {
            "application/vnd.jupyter.widget-view+json": {
              "model_id": "0e867e88cebe448eb9dd5dce3a226055",
              "version_minor": 0,
              "version_major": 2
            },
            "text/plain": [
              "HBox(children=(FloatProgress(value=0.0, max=444.0), HTML(value='')))"
            ]
          },
          "metadata": {
            "tags": []
          }
        },
        {
          "output_type": "stream",
          "text": [
            "\n"
          ],
          "name": "stdout"
        },
        {
          "output_type": "display_data",
          "data": {
            "application/vnd.jupyter.widget-view+json": {
              "model_id": "57317fbf42ab44aa8c5bf9cee8d2f280",
              "version_minor": 0,
              "version_major": 2
            },
            "text/plain": [
              "HBox(children=(FloatProgress(value=0.0, max=31.0), HTML(value='')))"
            ]
          },
          "metadata": {
            "tags": []
          }
        },
        {
          "output_type": "stream",
          "text": [
            "\n"
          ],
          "name": "stdout"
        }
      ]
    },
    {
      "cell_type": "code",
      "metadata": {
        "colab": {
          "base_uri": "https://localhost:8080/",
          "height": 204
        },
        "id": "VCcEmCsJlPlX",
        "outputId": "54e5a3c4-9117-413f-ec8f-0fc09eddadee"
      },
      "source": [
        "df=pd.DataFrame(columns=['id','pos_keywords','neg_keywords'])\n",
        "review_ids=[]\n",
        "pos_keywords=[]\n",
        "neg_keywords=[]\n",
        "\n",
        "for i in range(10):\n",
        "    ck=CustomerReviewKeywords1()\n",
        "    data_most_reviewed_store=review_business_data_merged[review_business_data_merged['business_id']==ids[int(i)]].sort_values(by=['date'])\n",
        "    kw=ck.get_trending_keywords(data_most_reviewed_store,num_keywords=5)\n",
        "    review_ids.append(ids[int(i)])\n",
        "    pos_keywords.append(kw['positive'])\n",
        "    neg_keywords.append(kw['negative'])\n",
        "df['id']=review_ids\n",
        "df['pos_keywords']=pos_keywords\n",
        "df['neg_keywords']=neg_keywords\n",
        "df.head()"
      ],
      "execution_count": null,
      "outputs": [
        {
          "output_type": "execute_result",
          "data": {
            "text/html": [
              "<div>\n",
              "<style scoped>\n",
              "    .dataframe tbody tr th:only-of-type {\n",
              "        vertical-align: middle;\n",
              "    }\n",
              "\n",
              "    .dataframe tbody tr th {\n",
              "        vertical-align: top;\n",
              "    }\n",
              "\n",
              "    .dataframe thead th {\n",
              "        text-align: right;\n",
              "    }\n",
              "</style>\n",
              "<table border=\"1\" class=\"dataframe\">\n",
              "  <thead>\n",
              "    <tr style=\"text-align: right;\">\n",
              "      <th></th>\n",
              "      <th>id</th>\n",
              "      <th>pos_keywords</th>\n",
              "      <th>neg_keywords</th>\n",
              "    </tr>\n",
              "  </thead>\n",
              "  <tbody>\n",
              "    <tr>\n",
              "      <th>0</th>\n",
              "      <td>4CxF8c3MB7VAdY8zFb2cZQ</td>\n",
              "      <td>[elvis, batman, thunderbolt, cupcakeries, butt...</td>\n",
              "      <td>[diabetes, hotpants, vegan, blueberry, halloween]</td>\n",
              "    </tr>\n",
              "    <tr>\n",
              "      <th>1</th>\n",
              "      <td>OQ2oHkcWA8KNC1Lsvj1SBA</td>\n",
              "      <td>[steaks, apricot, blueberries, sandwiches, gin...</td>\n",
              "      <td>[waiter, bacon, vegan, waitress, buttermilk]</td>\n",
              "    </tr>\n",
              "    <tr>\n",
              "      <th>2</th>\n",
              "      <td>PrsvO1rzkgg6qFizlAoEtg</td>\n",
              "      <td>[marscapone, lobstertail, pizzeria, buttery, s...</td>\n",
              "      <td>[cancer, desert, italians, vegan, cupcakes]</td>\n",
              "    </tr>\n",
              "    <tr>\n",
              "      <th>3</th>\n",
              "      <td>zioLxtBc9THNS2TOn9xW1w</td>\n",
              "      <td>[trout, tequila, lemonade, waitresses, steakho...</td>\n",
              "      <td>[appetizers, catfish, vegans, pepsi, steak]</td>\n",
              "    </tr>\n",
              "    <tr>\n",
              "      <th>4</th>\n",
              "      <td>y2w6rFaO0XEiG5mFfOsiFA</td>\n",
              "      <td>[shellfish, corncake, avocado, cheeseburger, t...</td>\n",
              "      <td>[shrimps, johnnycake, bartender, dinner, chees...</td>\n",
              "    </tr>\n",
              "  </tbody>\n",
              "</table>\n",
              "</div>"
            ],
            "text/plain": [
              "                       id  ...                                       neg_keywords\n",
              "0  4CxF8c3MB7VAdY8zFb2cZQ  ...  [diabetes, hotpants, vegan, blueberry, halloween]\n",
              "1  OQ2oHkcWA8KNC1Lsvj1SBA  ...       [waiter, bacon, vegan, waitress, buttermilk]\n",
              "2  PrsvO1rzkgg6qFizlAoEtg  ...        [cancer, desert, italians, vegan, cupcakes]\n",
              "3  zioLxtBc9THNS2TOn9xW1w  ...        [appetizers, catfish, vegans, pepsi, steak]\n",
              "4  y2w6rFaO0XEiG5mFfOsiFA  ...  [shrimps, johnnycake, bartender, dinner, chees...\n",
              "\n",
              "[5 rows x 3 columns]"
            ]
          },
          "metadata": {
            "tags": []
          },
          "execution_count": 53
        }
      ]
    },
    {
      "cell_type": "code",
      "metadata": {
        "colab": {
          "base_uri": "https://localhost:8080/"
        },
        "id": "3aNFmNsQzR4J",
        "outputId": "e99903df-d954-4498-949c-bef2313e4424"
      },
      "source": [
        "data_most_reviewed_store.columns"
      ],
      "execution_count": null,
      "outputs": [
        {
          "output_type": "execute_result",
          "data": {
            "text/plain": [
              "Index(['business_id', 'date', 'review_id', 'stars_x', 'text', 'user_id',\n",
              "       'address', 'categories', 'city', 'latitude', 'longitude', 'name',\n",
              "       'postal_code', 'review_count', 'stars_y', 'state', 'sentiments'],\n",
              "      dtype='object')"
            ]
          },
          "metadata": {
            "tags": []
          },
          "execution_count": 97
        }
      ]
    },
    {
      "cell_type": "code",
      "metadata": {
        "colab": {
          "base_uri": "https://localhost:8080/",
          "height": 419
        },
        "id": "XwNTAr39fs6y",
        "outputId": "5a515ee5-02c0-40c1-c435-570098225c17"
      },
      "source": [
        "def recent_reviews(review_business_data_merged,id):\n",
        "    data_most_reviewed_store=review_business_data_merged[review_business_data_merged['business_id']==id].sort_values(by=['date'],ascending=False)\n",
        "    sentimments_dict={3:'Negative',2:'Neutral',1:'Positive'}\n",
        "    sentiment_names=[sentimments_dict[int(i)] for i in data_most_reviewed_store['sentiments'].values]\n",
        "    data_most_reviewed_store['sentiment']=sentiment_names\n",
        "    data_most_reviewed_store=data_most_reviewed_store.drop(columns=['business_id','review_id','user_id','user_id','categories'])\n",
        "    data_most_reviewed_store=data_most_reviewed_store[['text','sentiment','date','stars_x']]\n",
        "    data_most_reviewed_store=data_most_reviewed_store.rename(columns={'stars_x':'rating','text':'review'})\n",
        "    return data_most_reviewed_store\n",
        "\n",
        "recent_reviews(review_business_data_merged,ids[1])    "
      ],
      "execution_count": null,
      "outputs": [
        {
          "output_type": "execute_result",
          "data": {
            "text/html": [
              "<div>\n",
              "<style scoped>\n",
              "    .dataframe tbody tr th:only-of-type {\n",
              "        vertical-align: middle;\n",
              "    }\n",
              "\n",
              "    .dataframe tbody tr th {\n",
              "        vertical-align: top;\n",
              "    }\n",
              "\n",
              "    .dataframe thead th {\n",
              "        text-align: right;\n",
              "    }\n",
              "</style>\n",
              "<table border=\"1\" class=\"dataframe\">\n",
              "  <thead>\n",
              "    <tr style=\"text-align: right;\">\n",
              "      <th></th>\n",
              "      <th>review</th>\n",
              "      <th>sentiment</th>\n",
              "      <th>date</th>\n",
              "      <th>rating</th>\n",
              "    </tr>\n",
              "  </thead>\n",
              "  <tbody>\n",
              "    <tr>\n",
              "      <th>178423</th>\n",
              "      <td>Fried chicken sandwich was exactly what I want...</td>\n",
              "      <td>Positive</td>\n",
              "      <td>2021-01-19 00:22:42</td>\n",
              "      <td>4.0</td>\n",
              "    </tr>\n",
              "    <tr>\n",
              "      <th>179693</th>\n",
              "      <td>I had a great breakfast here and left happy. T...</td>\n",
              "      <td>Positive</td>\n",
              "      <td>2021-01-05 23:05:32</td>\n",
              "      <td>5.0</td>\n",
              "    </tr>\n",
              "    <tr>\n",
              "      <th>175361</th>\n",
              "      <td>I've had so many different chicken-and-waffle ...</td>\n",
              "      <td>Positive</td>\n",
              "      <td>2020-12-04 00:53:42</td>\n",
              "      <td>5.0</td>\n",
              "    </tr>\n",
              "    <tr>\n",
              "      <th>177779</th>\n",
              "      <td>As someone from the south it's good to have a ...</td>\n",
              "      <td>Positive</td>\n",
              "      <td>2020-11-14 17:48:29</td>\n",
              "      <td>5.0</td>\n",
              "    </tr>\n",
              "    <tr>\n",
              "      <th>180412</th>\n",
              "      <td>Went here on vacation, food was good.  ordered...</td>\n",
              "      <td>Neutral</td>\n",
              "      <td>2020-11-02 17:21:08</td>\n",
              "      <td>3.0</td>\n",
              "    </tr>\n",
              "    <tr>\n",
              "      <th>...</th>\n",
              "      <td>...</td>\n",
              "      <td>...</td>\n",
              "      <td>...</td>\n",
              "      <td>...</td>\n",
              "    </tr>\n",
              "    <tr>\n",
              "      <th>143771</th>\n",
              "      <td>I was astounded to find a place up here that h...</td>\n",
              "      <td>Positive</td>\n",
              "      <td>2008-03-02 16:26:37</td>\n",
              "      <td>4.0</td>\n",
              "    </tr>\n",
              "    <tr>\n",
              "      <th>143184</th>\n",
              "      <td>I went here for dinner with my parents. The fo...</td>\n",
              "      <td>Negative</td>\n",
              "      <td>2008-02-12 20:02:50</td>\n",
              "      <td>2.0</td>\n",
              "    </tr>\n",
              "    <tr>\n",
              "      <th>157263</th>\n",
              "      <td>If you asked me my favorite restaurant in Port...</td>\n",
              "      <td>Positive</td>\n",
              "      <td>2007-11-20 20:49:43</td>\n",
              "      <td>5.0</td>\n",
              "    </tr>\n",
              "    <tr>\n",
              "      <th>159429</th>\n",
              "      <td>Ok. I think the fact that I have eaten at the ...</td>\n",
              "      <td>Positive</td>\n",
              "      <td>2007-10-07 01:49:23</td>\n",
              "      <td>5.0</td>\n",
              "    </tr>\n",
              "    <tr>\n",
              "      <th>169113</th>\n",
              "      <td>There's nothing better than Portland brunch......</td>\n",
              "      <td>Positive</td>\n",
              "      <td>2007-06-12 01:12:43</td>\n",
              "      <td>4.0</td>\n",
              "    </tr>\n",
              "  </tbody>\n",
              "</table>\n",
              "<p>766 rows × 4 columns</p>\n",
              "</div>"
            ],
            "text/plain": [
              "                                                   review  ... rating\n",
              "178423  Fried chicken sandwich was exactly what I want...  ...    4.0\n",
              "179693  I had a great breakfast here and left happy. T...  ...    5.0\n",
              "175361  I've had so many different chicken-and-waffle ...  ...    5.0\n",
              "177779  As someone from the south it's good to have a ...  ...    5.0\n",
              "180412  Went here on vacation, food was good.  ordered...  ...    3.0\n",
              "...                                                   ...  ...    ...\n",
              "143771  I was astounded to find a place up here that h...  ...    4.0\n",
              "143184  I went here for dinner with my parents. The fo...  ...    2.0\n",
              "157263  If you asked me my favorite restaurant in Port...  ...    5.0\n",
              "159429  Ok. I think the fact that I have eaten at the ...  ...    5.0\n",
              "169113  There's nothing better than Portland brunch......  ...    4.0\n",
              "\n",
              "[766 rows x 4 columns]"
            ]
          },
          "metadata": {
            "tags": []
          },
          "execution_count": 105
        }
      ]
    },
    {
      "cell_type": "code",
      "metadata": {
        "colab": {
          "base_uri": "https://localhost:8080/"
        },
        "id": "-itsGIp70RbK",
        "outputId": "767dda0b-497e-4c10-d14a-5143200dd7fc"
      },
      "source": [
        "import ast\n",
        "keywords=pd.read_csv('/content/trending_keywords.csv')\n",
        "def get_Keywords(keywords,id):\n",
        "    keywords=keywords[keywords['id']==id].iloc[0]\n",
        "    pos = ast.literal_eval(keywords['pos_keywords'])\n",
        "    neg = ast.literal_eval(keywords['neg_keywords'])\n",
        "    return pos,neg\n",
        "\n",
        "pos,neg=get_Keywords(keywords,ids[0])    \n",
        "type(pos)"
      ],
      "execution_count": null,
      "outputs": [
        {
          "output_type": "execute_result",
          "data": {
            "text/plain": [
              "list"
            ]
          },
          "metadata": {
            "tags": []
          },
          "execution_count": 90
        }
      ]
    },
    {
      "cell_type": "code",
      "metadata": {
        "colab": {
          "base_uri": "https://localhost:8080/",
          "height": 35
        },
        "id": "vKJTsDuH-DOG",
        "outputId": "1a5fe547-20d3-4795-953d-cf22ce2d606e"
      },
      "source": [
        "pos[0]"
      ],
      "execution_count": null,
      "outputs": [
        {
          "output_type": "execute_result",
          "data": {
            "application/vnd.google.colaboratory.intrinsic+json": {
              "type": "string"
            },
            "text/plain": [
              "'elvis'"
            ]
          },
          "metadata": {
            "tags": []
          },
          "execution_count": 95
        }
      ]
    }
  ]
}